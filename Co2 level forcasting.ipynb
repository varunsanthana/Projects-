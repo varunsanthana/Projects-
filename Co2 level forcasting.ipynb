{
 "cells": [
  {
   "cell_type": "markdown",
   "metadata": {},
   "source": [
    "## AUTO REGRESSIVE Models"
   ]
  },
  {
   "cell_type": "markdown",
   "metadata": {},
   "source": [
    "Auto-regressive (AR) and moving average (MA) models are popular models that are frequently used for forecasting.\n",
    "\n",
    "AR and MA models are combined to create models such as auto-regressive moving average (ARMA) and auto-regressive integrated moving average (ARIMA) models. \n",
    "\n",
    "The initial ARMA and ARIMA models were developed by Box and Jenkins in 1970.\n",
    "\n",
    "ARMA models are basically regression models; auto-regression means regression of a variable on itself measured at different time periods. \n",
    "\n",
    "The main assumption of AR model is that the time series data is stationary.\n",
    "\n",
    "A stationary time series is one whose statistical properties such as mean, variance, autocorrelation, etc. are all constant over time.\n",
    "\n",
    "http://people.duke.edu/~rnau/411diff.htm\n",
    "\n",
    "When the time series data is not stationary, then we convert the non-stationary data before applying AR models. \n",
    "\n",
    "### Lags\n",
    "\n",
    "Taking the difference between consecutive observations is called a lag-1 difference.\n",
    "\n",
    "For time series with a seasonal component, the lag may be expected to be the period (width) of the seasonality.\n",
    "\n",
    "**White noise of the residuals:**\n",
    "\n",
    "White noise is a process of residuals $\\epsilon_t$ that are uncorrelated and follow normal distribution with mean 0 and constant standard deviation. In AR models, one of the main assumptions is the errors follow a white noise.\n",
    "\n",
    "### Auto-Regressive  (AR) Models\n",
    "\n",
    "Auto-Regression is a regression of a variable on itself measured at different time points. \n",
    "Auto-Regressive model with lag 1, AR(1) is given by \n",
    "* $Y_{t+1} = \\beta Y_t + \\epsilon_{t+1}$  and this same as\n",
    "* $Y_{t+1} - \\mu = \\beta (Y_t - \\mu) + \\epsilon_{t+1}$  and this same as\n",
    "* where $\\epsilon_{t+1}$ is a sequence of uncorrelated residuals that follow normal distribution with zero mean and constant deviation. \n",
    " * $Y_{t+1} - \\mu$ is interpreted as a deviation from mean value $mu$ and known as mean centered series.\n",
    "\n"
   ]
  },
  {
   "cell_type": "markdown",
   "metadata": {},
   "source": [
    "The Augmented Dickey Fuller Test (ADF) is unit root test for stationarity. \n",
    "The null hypothesis is that time series is non-stationary.\n",
    "Alternative hypothesis is that time series is stationary."
   ]
  },
  {
   "cell_type": "markdown",
   "metadata": {},
   "source": [
    "### AR Model indentification\n",
    "\n",
    "\n",
    "### Auto-Correlation Function (ACF) or correlogram and Partial Auto-Correlation Function (PACF)"
   ]
  },
  {
   "cell_type": "markdown",
   "metadata": {},
   "source": [
    "#### Autocorrelation Function (ACF)\n",
    "\n",
    "**A plot of auto-correlation of different lags is called ACF.**\n",
    "\n",
    "The plot summarizes the correlation of an observation with lag values. The x-axis shows the lag and the y-axis shows the correlation coeﬃcient between -1 and 1 for negative and positive correlation.\n",
    "\n",
    "#### Partial Autocorrelation Function (PACF)\n",
    "\n",
    "**A plot of partial auto-correlation for different values of lags is called PACF.**\n",
    "\n",
    "The plot summarizes the correlations for an observation with lag values that is not accounted for by prior lagged observations.\n",
    "\n",
    "Both plots are drawn as bar charts showing the 95% and 99% conﬁdence intervals as horizontal lines. Bars that cross these conﬁdence intervals are therefore more signiﬁcant and worth noting. Some useful patterns you may observe on these plots are:\n",
    "\n",
    "The number of lags is p when:\n",
    "* The partial auto-correlation, |$\\rho_{pk}$| > 1.96 / $\\sqrt{n}$ for first p values and cuts off to zero. \n",
    "* The auto-correlation function, $\\rho_k$ decreases exponentially."
   ]
  },
  {
   "cell_type": "markdown",
   "metadata": {},
   "source": [
    "*  The model is AR of order p when the PACF cuts-off after a lag p.\n",
    "\n",
    "*  The model is MA of order p when the ACF cuts-off after a lag q.\n",
    "\n",
    "*  The model is a mix of AR and MA if both the PACF and ACF trail oﬀ and cuts-off at p and q respectively.\n",
    "\n",
    "* For an **ARIMA (p,d,q)** process, it becomes non-stationary to stationary after differencing it for **d** times."
   ]
  },
  {
   "cell_type": "markdown",
   "metadata": {},
   "source": [
    "#### Import the necessary libraries."
   ]
  },
  {
   "cell_type": "code",
   "execution_count": 1,
   "metadata": {},
   "outputs": [],
   "source": [
    "import pandas as pd\n",
    "from datetime import datetime\n",
    "import matplotlib.pyplot as plt\n",
    "import warnings\n",
    "warnings.filterwarnings('ignore')"
   ]
  },
  {
   "cell_type": "markdown",
   "metadata": {},
   "source": [
    "#### Read the data set in a Time Series with proper Time frequency or period."
   ]
  },
  {
   "cell_type": "code",
   "execution_count": 2,
   "metadata": {},
   "outputs": [],
   "source": [
    "df = pd.read_csv('C:/Users/varun/Downloads/MaunaLoa.csv')\n",
    "\n",
    "df.head()\n",
    "df['Date'] = pd.date_range(start='1/01/1965',periods=192,freq='M')"
   ]
  },
  {
   "cell_type": "code",
   "execution_count": 4,
   "metadata": {},
   "outputs": [
    {
     "data": {
      "text/html": [
       "<div>\n",
       "<style scoped>\n",
       "    .dataframe tbody tr th:only-of-type {\n",
       "        vertical-align: middle;\n",
       "    }\n",
       "\n",
       "    .dataframe tbody tr th {\n",
       "        vertical-align: top;\n",
       "    }\n",
       "\n",
       "    .dataframe thead th {\n",
       "        text-align: right;\n",
       "    }\n",
       "</style>\n",
       "<table border=\"1\" class=\"dataframe\">\n",
       "  <thead>\n",
       "    <tr style=\"text-align: right;\">\n",
       "      <th></th>\n",
       "      <th>Year-Month</th>\n",
       "      <th>CO2 ppm</th>\n",
       "      <th>Date</th>\n",
       "    </tr>\n",
       "  </thead>\n",
       "  <tbody>\n",
       "    <tr>\n",
       "      <th>0</th>\n",
       "      <td>1965-Jan</td>\n",
       "      <td>319.32</td>\n",
       "      <td>1965-01-31</td>\n",
       "    </tr>\n",
       "    <tr>\n",
       "      <th>1</th>\n",
       "      <td>1965-Feb</td>\n",
       "      <td>320.36</td>\n",
       "      <td>1965-02-28</td>\n",
       "    </tr>\n",
       "    <tr>\n",
       "      <th>2</th>\n",
       "      <td>1965-Mar</td>\n",
       "      <td>320.82</td>\n",
       "      <td>1965-03-31</td>\n",
       "    </tr>\n",
       "    <tr>\n",
       "      <th>3</th>\n",
       "      <td>1965-Apr</td>\n",
       "      <td>322.06</td>\n",
       "      <td>1965-04-30</td>\n",
       "    </tr>\n",
       "    <tr>\n",
       "      <th>4</th>\n",
       "      <td>1965-May</td>\n",
       "      <td>322.17</td>\n",
       "      <td>1965-05-31</td>\n",
       "    </tr>\n",
       "    <tr>\n",
       "      <th>5</th>\n",
       "      <td>1965-Jun</td>\n",
       "      <td>321.95</td>\n",
       "      <td>1965-06-30</td>\n",
       "    </tr>\n",
       "    <tr>\n",
       "      <th>6</th>\n",
       "      <td>1965-Jul</td>\n",
       "      <td>321.20</td>\n",
       "      <td>1965-07-31</td>\n",
       "    </tr>\n",
       "    <tr>\n",
       "      <th>7</th>\n",
       "      <td>1965-Aug</td>\n",
       "      <td>318.81</td>\n",
       "      <td>1965-08-31</td>\n",
       "    </tr>\n",
       "    <tr>\n",
       "      <th>8</th>\n",
       "      <td>1965-Sep</td>\n",
       "      <td>317.82</td>\n",
       "      <td>1965-09-30</td>\n",
       "    </tr>\n",
       "    <tr>\n",
       "      <th>9</th>\n",
       "      <td>1965-Oct</td>\n",
       "      <td>317.37</td>\n",
       "      <td>1965-10-31</td>\n",
       "    </tr>\n",
       "    <tr>\n",
       "      <th>10</th>\n",
       "      <td>1965-Nov</td>\n",
       "      <td>318.93</td>\n",
       "      <td>1965-11-30</td>\n",
       "    </tr>\n",
       "    <tr>\n",
       "      <th>11</th>\n",
       "      <td>1965-Dec</td>\n",
       "      <td>319.09</td>\n",
       "      <td>1965-12-31</td>\n",
       "    </tr>\n",
       "    <tr>\n",
       "      <th>12</th>\n",
       "      <td>1966-Jan</td>\n",
       "      <td>319.94</td>\n",
       "      <td>1966-01-31</td>\n",
       "    </tr>\n",
       "    <tr>\n",
       "      <th>13</th>\n",
       "      <td>1966-Feb</td>\n",
       "      <td>320.98</td>\n",
       "      <td>1966-02-28</td>\n",
       "    </tr>\n",
       "    <tr>\n",
       "      <th>14</th>\n",
       "      <td>1966-Mar</td>\n",
       "      <td>321.81</td>\n",
       "      <td>1966-03-31</td>\n",
       "    </tr>\n",
       "    <tr>\n",
       "      <th>15</th>\n",
       "      <td>1966-Apr</td>\n",
       "      <td>323.03</td>\n",
       "      <td>1966-04-30</td>\n",
       "    </tr>\n",
       "    <tr>\n",
       "      <th>16</th>\n",
       "      <td>1966-May</td>\n",
       "      <td>323.36</td>\n",
       "      <td>1966-05-31</td>\n",
       "    </tr>\n",
       "    <tr>\n",
       "      <th>17</th>\n",
       "      <td>1966-Jun</td>\n",
       "      <td>323.11</td>\n",
       "      <td>1966-06-30</td>\n",
       "    </tr>\n",
       "    <tr>\n",
       "      <th>18</th>\n",
       "      <td>1966-Jul</td>\n",
       "      <td>321.65</td>\n",
       "      <td>1966-07-31</td>\n",
       "    </tr>\n",
       "    <tr>\n",
       "      <th>19</th>\n",
       "      <td>1966-Aug</td>\n",
       "      <td>319.64</td>\n",
       "      <td>1966-08-31</td>\n",
       "    </tr>\n",
       "  </tbody>\n",
       "</table>\n",
       "</div>"
      ],
      "text/plain": [
       "   Year-Month  CO2 ppm       Date\n",
       "0    1965-Jan   319.32 1965-01-31\n",
       "1    1965-Feb   320.36 1965-02-28\n",
       "2    1965-Mar   320.82 1965-03-31\n",
       "3    1965-Apr   322.06 1965-04-30\n",
       "4    1965-May   322.17 1965-05-31\n",
       "5    1965-Jun   321.95 1965-06-30\n",
       "6    1965-Jul   321.20 1965-07-31\n",
       "7    1965-Aug   318.81 1965-08-31\n",
       "8    1965-Sep   317.82 1965-09-30\n",
       "9    1965-Oct   317.37 1965-10-31\n",
       "10   1965-Nov   318.93 1965-11-30\n",
       "11   1965-Dec   319.09 1965-12-31\n",
       "12   1966-Jan   319.94 1966-01-31\n",
       "13   1966-Feb   320.98 1966-02-28\n",
       "14   1966-Mar   321.81 1966-03-31\n",
       "15   1966-Apr   323.03 1966-04-30\n",
       "16   1966-May   323.36 1966-05-31\n",
       "17   1966-Jun   323.11 1966-06-30\n",
       "18   1966-Jul   321.65 1966-07-31\n",
       "19   1966-Aug   319.64 1966-08-31"
      ]
     },
     "execution_count": 4,
     "metadata": {},
     "output_type": "execute_result"
    }
   ],
   "source": [
    "df.head(20)"
   ]
  },
  {
   "cell_type": "code",
   "execution_count": null,
   "metadata": {},
   "outputs": [],
   "source": []
  },
  {
   "cell_type": "code",
   "execution_count": 3,
   "metadata": {},
   "outputs": [],
   "source": [
    "df= df.drop('Year-Month',axis=1)"
   ]
  },
  {
   "cell_type": "code",
   "execution_count": 4,
   "metadata": {},
   "outputs": [],
   "source": [
    "df.set_index('Date',inplace=True)"
   ]
  },
  {
   "cell_type": "code",
   "execution_count": 5,
   "metadata": {},
   "outputs": [],
   "source": [
    "df['Month'] = df.index.month\n",
    "df['Year'] = df.index.year"
   ]
  },
  {
   "cell_type": "markdown",
   "metadata": {},
   "source": [
    "# Plot the Time Series Data."
   ]
  },
  {
   "cell_type": "code",
   "execution_count": 6,
   "metadata": {},
   "outputs": [
    {
     "data": {
      "text/plain": [
       "<AxesSubplot:xlabel='Date'>"
      ]
     },
     "execution_count": 6,
     "metadata": {},
     "output_type": "execute_result"
    },
    {
     "data": {
      "image/png": "[encoded data removed]",
      "text/plain": [
       "<Figure size 432x288 with 1 Axes>"
      ]
     },
     "metadata": {
      "needs_background": "light"
     },
     "output_type": "display_data"
    }
   ],
   "source": [
    "df['CO2 ppm'].plot()"
   ]
  },
  {
   "cell_type": "markdown",
   "metadata": {},
   "source": [
    "# Plot a boxplot to understand the variation of Carbon Dioxide in parts per million with respect to months across years."
   ]
  },
  {
   "cell_type": "code",
   "execution_count": 7,
   "metadata": {},
   "outputs": [
    {
     "data": {
      "text/html": [
       "<div>\n",
       "<style scoped>\n",
       "    .dataframe tbody tr th:only-of-type {\n",
       "        vertical-align: middle;\n",
       "    }\n",
       "\n",
       "    .dataframe tbody tr th {\n",
       "        vertical-align: top;\n",
       "    }\n",
       "\n",
       "    .dataframe thead th {\n",
       "        text-align: right;\n",
       "    }\n",
       "</style>\n",
       "<table border=\"1\" class=\"dataframe\">\n",
       "  <thead>\n",
       "    <tr style=\"text-align: right;\">\n",
       "      <th>Year</th>\n",
       "      <th>1965</th>\n",
       "      <th>1966</th>\n",
       "      <th>1967</th>\n",
       "      <th>1968</th>\n",
       "      <th>1969</th>\n",
       "      <th>1970</th>\n",
       "      <th>1971</th>\n",
       "      <th>1972</th>\n",
       "      <th>1973</th>\n",
       "      <th>1974</th>\n",
       "      <th>1975</th>\n",
       "      <th>1976</th>\n",
       "      <th>1977</th>\n",
       "      <th>1978</th>\n",
       "      <th>1979</th>\n",
       "      <th>1980</th>\n",
       "    </tr>\n",
       "    <tr>\n",
       "      <th>Month</th>\n",
       "      <th></th>\n",
       "      <th></th>\n",
       "      <th></th>\n",
       "      <th></th>\n",
       "      <th></th>\n",
       "      <th></th>\n",
       "      <th></th>\n",
       "      <th></th>\n",
       "      <th></th>\n",
       "      <th></th>\n",
       "      <th></th>\n",
       "      <th></th>\n",
       "      <th></th>\n",
       "      <th></th>\n",
       "      <th></th>\n",
       "      <th></th>\n",
       "    </tr>\n",
       "  </thead>\n",
       "  <tbody>\n",
       "    <tr>\n",
       "      <th>1</th>\n",
       "      <td>319.32</td>\n",
       "      <td>319.94</td>\n",
       "      <td>321.65</td>\n",
       "      <td>321.88</td>\n",
       "      <td>323.40</td>\n",
       "      <td>324.60</td>\n",
       "      <td>326.12</td>\n",
       "      <td>326.93</td>\n",
       "      <td>328.73</td>\n",
       "      <td>329.45</td>\n",
       "      <td>330.45</td>\n",
       "      <td>331.63</td>\n",
       "      <td>332.81</td>\n",
       "      <td>334.66</td>\n",
       "      <td>335.89</td>\n",
       "      <td>337.81</td>\n",
       "    </tr>\n",
       "    <tr>\n",
       "      <th>2</th>\n",
       "      <td>320.36</td>\n",
       "      <td>320.98</td>\n",
       "      <td>321.81</td>\n",
       "      <td>322.47</td>\n",
       "      <td>324.21</td>\n",
       "      <td>325.57</td>\n",
       "      <td>326.61</td>\n",
       "      <td>327.83</td>\n",
       "      <td>329.69</td>\n",
       "      <td>330.89</td>\n",
       "      <td>330.97</td>\n",
       "      <td>332.46</td>\n",
       "      <td>333.23</td>\n",
       "      <td>335.07</td>\n",
       "      <td>336.44</td>\n",
       "      <td>338.16</td>\n",
       "    </tr>\n",
       "    <tr>\n",
       "      <th>3</th>\n",
       "      <td>320.82</td>\n",
       "      <td>321.81</td>\n",
       "      <td>322.36</td>\n",
       "      <td>323.17</td>\n",
       "      <td>325.33</td>\n",
       "      <td>326.55</td>\n",
       "      <td>327.16</td>\n",
       "      <td>327.95</td>\n",
       "      <td>330.47</td>\n",
       "      <td>331.63</td>\n",
       "      <td>331.64</td>\n",
       "      <td>333.36</td>\n",
       "      <td>334.55</td>\n",
       "      <td>336.33</td>\n",
       "      <td>337.63</td>\n",
       "      <td>339.88</td>\n",
       "    </tr>\n",
       "    <tr>\n",
       "      <th>4</th>\n",
       "      <td>322.06</td>\n",
       "      <td>323.03</td>\n",
       "      <td>323.67</td>\n",
       "      <td>324.23</td>\n",
       "      <td>326.31</td>\n",
       "      <td>327.80</td>\n",
       "      <td>327.92</td>\n",
       "      <td>329.91</td>\n",
       "      <td>331.69</td>\n",
       "      <td>332.85</td>\n",
       "      <td>332.87</td>\n",
       "      <td>334.45</td>\n",
       "      <td>335.82</td>\n",
       "      <td>337.39</td>\n",
       "      <td>338.54</td>\n",
       "      <td>340.57</td>\n",
       "    </tr>\n",
       "    <tr>\n",
       "      <th>5</th>\n",
       "      <td>322.17</td>\n",
       "      <td>323.36</td>\n",
       "      <td>324.17</td>\n",
       "      <td>324.88</td>\n",
       "      <td>327.01</td>\n",
       "      <td>327.80</td>\n",
       "      <td>329.14</td>\n",
       "      <td>330.22</td>\n",
       "      <td>332.65</td>\n",
       "      <td>333.28</td>\n",
       "      <td>333.61</td>\n",
       "      <td>334.82</td>\n",
       "      <td>336.44</td>\n",
       "      <td>337.65</td>\n",
       "      <td>339.06</td>\n",
       "      <td>341.19</td>\n",
       "    </tr>\n",
       "    <tr>\n",
       "      <th>6</th>\n",
       "      <td>321.95</td>\n",
       "      <td>323.11</td>\n",
       "      <td>323.39</td>\n",
       "      <td>324.75</td>\n",
       "      <td>326.24</td>\n",
       "      <td>327.54</td>\n",
       "      <td>328.80</td>\n",
       "      <td>329.25</td>\n",
       "      <td>332.24</td>\n",
       "      <td>332.47</td>\n",
       "      <td>333.55</td>\n",
       "      <td>334.32</td>\n",
       "      <td>335.99</td>\n",
       "      <td>337.57</td>\n",
       "      <td>338.95</td>\n",
       "      <td>340.87</td>\n",
       "    </tr>\n",
       "    <tr>\n",
       "      <th>7</th>\n",
       "      <td>321.20</td>\n",
       "      <td>321.65</td>\n",
       "      <td>321.93</td>\n",
       "      <td>323.47</td>\n",
       "      <td>325.37</td>\n",
       "      <td>326.28</td>\n",
       "      <td>327.52</td>\n",
       "      <td>328.11</td>\n",
       "      <td>331.03</td>\n",
       "      <td>331.34</td>\n",
       "      <td>331.90</td>\n",
       "      <td>333.05</td>\n",
       "      <td>334.65</td>\n",
       "      <td>336.25</td>\n",
       "      <td>337.41</td>\n",
       "      <td>339.25</td>\n",
       "    </tr>\n",
       "    <tr>\n",
       "      <th>8</th>\n",
       "      <td>318.81</td>\n",
       "      <td>319.64</td>\n",
       "      <td>320.29</td>\n",
       "      <td>321.34</td>\n",
       "      <td>323.12</td>\n",
       "      <td>324.63</td>\n",
       "      <td>325.62</td>\n",
       "      <td>326.39</td>\n",
       "      <td>329.36</td>\n",
       "      <td>329.53</td>\n",
       "      <td>330.05</td>\n",
       "      <td>330.87</td>\n",
       "      <td>332.41</td>\n",
       "      <td>334.39</td>\n",
       "      <td>335.71</td>\n",
       "      <td>337.19</td>\n",
       "    </tr>\n",
       "    <tr>\n",
       "      <th>9</th>\n",
       "      <td>317.82</td>\n",
       "      <td>317.86</td>\n",
       "      <td>318.58</td>\n",
       "      <td>319.56</td>\n",
       "      <td>321.85</td>\n",
       "      <td>323.12</td>\n",
       "      <td>323.61</td>\n",
       "      <td>324.97</td>\n",
       "      <td>327.60</td>\n",
       "      <td>327.57</td>\n",
       "      <td>328.58</td>\n",
       "      <td>329.24</td>\n",
       "      <td>331.32</td>\n",
       "      <td>332.44</td>\n",
       "      <td>333.68</td>\n",
       "      <td>335.49</td>\n",
       "    </tr>\n",
       "    <tr>\n",
       "      <th>10</th>\n",
       "      <td>317.37</td>\n",
       "      <td>317.25</td>\n",
       "      <td>318.60</td>\n",
       "      <td>319.45</td>\n",
       "      <td>321.31</td>\n",
       "      <td>323.11</td>\n",
       "      <td>323.80</td>\n",
       "      <td>325.32</td>\n",
       "      <td>327.29</td>\n",
       "      <td>327.57</td>\n",
       "      <td>328.31</td>\n",
       "      <td>328.87</td>\n",
       "      <td>330.73</td>\n",
       "      <td>332.25</td>\n",
       "      <td>333.69</td>\n",
       "      <td>336.63</td>\n",
       "    </tr>\n",
       "    <tr>\n",
       "      <th>11</th>\n",
       "      <td>318.93</td>\n",
       "      <td>319.06</td>\n",
       "      <td>319.98</td>\n",
       "      <td>320.45</td>\n",
       "      <td>322.31</td>\n",
       "      <td>323.99</td>\n",
       "      <td>325.10</td>\n",
       "      <td>326.54</td>\n",
       "      <td>328.28</td>\n",
       "      <td>328.53</td>\n",
       "      <td>329.41</td>\n",
       "      <td>330.18</td>\n",
       "      <td>332.05</td>\n",
       "      <td>333.59</td>\n",
       "      <td>335.05</td>\n",
       "      <td>337.74</td>\n",
       "    </tr>\n",
       "    <tr>\n",
       "      <th>12</th>\n",
       "      <td>319.09</td>\n",
       "      <td>320.26</td>\n",
       "      <td>321.25</td>\n",
       "      <td>321.92</td>\n",
       "      <td>323.72</td>\n",
       "      <td>325.09</td>\n",
       "      <td>326.25</td>\n",
       "      <td>327.71</td>\n",
       "      <td>328.79</td>\n",
       "      <td>329.69</td>\n",
       "      <td>330.63</td>\n",
       "      <td>331.50</td>\n",
       "      <td>333.53</td>\n",
       "      <td>334.76</td>\n",
       "      <td>336.53</td>\n",
       "      <td>338.36</td>\n",
       "    </tr>\n",
       "  </tbody>\n",
       "</table>\n",
       "</div>"
      ],
      "text/plain": [
       "Year     1965    1966    1967    1968    1969    1970    1971    1972    1973  \\\n",
       "Month                                                                           \n",
       "1      319.32  319.94  321.65  321.88  323.40  324.60  326.12  326.93  328.73   \n",
       "2      320.36  320.98  321.81  322.47  324.21  325.57  326.61  327.83  329.69   \n",
       "3      320.82  321.81  322.36  323.17  325.33  326.55  327.16  327.95  330.47   \n",
       "4      322.06  323.03  323.67  324.23  326.31  327.80  327.92  329.91  331.69   \n",
       "5      322.17  323.36  324.17  324.88  327.01  327.80  329.14  330.22  332.65   \n",
       "6      321.95  323.11  323.39  324.75  326.24  327.54  328.80  329.25  332.24   \n",
       "7      321.20  321.65  321.93  323.47  325.37  326.28  327.52  328.11  331.03   \n",
       "8      318.81  319.64  320.29  321.34  323.12  324.63  325.62  326.39  329.36   \n",
       "9      317.82  317.86  318.58  319.56  321.85  323.12  323.61  324.97  327.60   \n",
       "10     317.37  317.25  318.60  319.45  321.31  323.11  323.80  325.32  327.29   \n",
       "11     318.93  319.06  319.98  320.45  322.31  323.99  325.10  326.54  328.28   \n",
       "12     319.09  320.26  321.25  321.92  323.72  325.09  326.25  327.71  328.79   \n",
       "\n",
       "Year     1974    1975    1976    1977    1978    1979    1980  \n",
       "Month                                                          \n",
       "1      329.45  330.45  331.63  332.81  334.66  335.89  337.81  \n",
       "2      330.89  330.97  332.46  333.23  335.07  336.44  338.16  \n",
       "3      331.63  331.64  333.36  334.55  336.33  337.63  339.88  \n",
       "4      332.85  332.87  334.45  335.82  337.39  338.54  340.57  \n",
       "5      333.28  333.61  334.82  336.44  337.65  339.06  341.19  \n",
       "6      332.47  333.55  334.32  335.99  337.57  338.95  340.87  \n",
       "7      331.34  331.90  333.05  334.65  336.25  337.41  339.25  \n",
       "8      329.53  330.05  330.87  332.41  334.39  335.71  337.19  \n",
       "9      327.57  328.58  329.24  331.32  332.44  333.68  335.49  \n",
       "10     327.57  328.31  328.87  330.73  332.25  333.69  336.63  \n",
       "11     328.53  329.41  330.18  332.05  333.59  335.05  337.74  \n",
       "12     329.69  330.63  331.50  333.53  334.76  336.53  338.36  "
      ]
     },
     "execution_count": 7,
     "metadata": {},
     "output_type": "execute_result"
    }
   ],
   "source": [
    "monthly_sales_data = pd.pivot_table(df, values = \"CO2 ppm\", columns = \"Year\", index = \"Month\")\n",
    "monthly_sales_data"
   ]
  },
  {
   "cell_type": "code",
   "execution_count": 8,
   "metadata": {},
   "outputs": [
    {
     "data": {
      "text/plain": [
       "<AxesSubplot:>"
      ]
     },
     "execution_count": 8,
     "metadata": {},
     "output_type": "execute_result"
    },
    {
     "data": {
      "image/png": "[encoded data removed]",
      "text/plain": [
       "<Figure size 1440x720 with 1 Axes>"
      ]
     },
     "metadata": {
      "needs_background": "light"
     },
     "output_type": "display_data"
    }
   ],
   "source": [
    "\n",
    "monthly_sales_data.boxplot(figsize=(20,10))"
   ]
  },
  {
   "cell_type": "code",
   "execution_count": 9,
   "metadata": {},
   "outputs": [],
   "source": [
    "import numpy as np"
   ]
  },
  {
   "cell_type": "markdown",
   "metadata": {},
   "source": [
    "# Plot a boxplot to understand the variation of Carbon Dioxide in parts per million across years."
   ]
  },
  {
   "cell_type": "code",
   "execution_count": 10,
   "metadata": {},
   "outputs": [
    {
     "data": {
      "text/plain": [
       "<AxesSubplot:>"
      ]
     },
     "execution_count": 10,
     "metadata": {},
     "output_type": "execute_result"
    },
    {
     "data": {
      "image/png": "[encoded data removed]",
      "text/plain": [
       "<Figure size 432x288 with 1 Axes>"
      ]
     },
     "metadata": {
      "needs_background": "light"
     },
     "output_type": "display_data"
    }
   ],
   "source": [
    "yearly_sales_data = pd.pivot_table(df, values = \"CO2 ppm\", index = \"Year\",aggfunc=np.sum)\n",
    "yearly_sales_data.boxplot()"
   ]
  },
  {
   "cell_type": "markdown",
   "metadata": {},
   "source": [
    "# Plot a graph of monthly Carbon Dioxide in parts per million across years."
   ]
  },
  {
   "cell_type": "code",
   "execution_count": 11,
   "metadata": {},
   "outputs": [
    {
     "data": {
      "text/plain": [
       "<AxesSubplot:>"
      ]
     },
     "execution_count": 11,
     "metadata": {},
     "output_type": "execute_result"
    },
    {
     "data": {
      "image/png": "[encoded data removed]",
      "text/plain": [
       "<Figure size 1440x720 with 1 Axes>"
      ]
     },
     "metadata": {
      "needs_background": "light"
     },
     "output_type": "display_data"
    }
   ],
   "source": [
    "yearly_sales_data1 = pd.pivot_table(df, values = \"CO2 ppm\", index = \"Year\",columns='Month', aggfunc=np.sum)\n",
    "yearly_sales_data1.boxplot(figsize=(20,10))"
   ]
  },
  {
   "cell_type": "markdown",
   "metadata": {},
   "source": [
    "# Decompose the Time Series to understand the various components."
   ]
  },
  {
   "cell_type": "code",
   "execution_count": 12,
   "metadata": {},
   "outputs": [],
   "source": [
    "from statsmodels.tsa.seasonal import seasonal_decompose"
   ]
  },
  {
   "cell_type": "code",
   "execution_count": 13,
   "metadata": {},
   "outputs": [
    {
     "data": {
      "image/png": "[encoded data removed]",
      "text/plain": [
       "<Figure size 432x288 with 4 Axes>"
      ]
     },
     "metadata": {
      "needs_background": "light"
     },
     "output_type": "display_data"
    }
   ],
   "source": [
    "decomp = seasonal_decompose(df['CO2 ppm'],model='Additive')\n",
    "decomp.plot()\n",
    "plt.show()"
   ]
  },
  {
   "cell_type": "code",
   "execution_count": 14,
   "metadata": {},
   "outputs": [
    {
     "data": {
      "text/plain": [
       "Date\n",
       "1965-01-31   -0.066935\n",
       "1965-02-28    0.527870\n",
       "1965-03-31    1.323065\n",
       "1965-04-30    2.369148\n",
       "1965-05-31    2.812065\n",
       "                ...   \n",
       "1980-08-31   -1.133852\n",
       "1980-09-30   -2.860241\n",
       "1980-10-31   -3.156602\n",
       "1980-11-30   -2.025519\n",
       "1980-12-31   -0.979574\n",
       "Name: seasonal, Length: 192, dtype: float64"
      ]
     },
     "execution_count": 14,
     "metadata": {},
     "output_type": "execute_result"
    }
   ],
   "source": [
    "decomp.seasonal\n"
   ]
  },
  {
   "cell_type": "markdown",
   "metadata": {},
   "source": [
    "# Plot a graph of the average and percentage change of Carbon Dioxide in parts per million across years."
   ]
  },
  {
   "cell_type": "code",
   "execution_count": 15,
   "metadata": {},
   "outputs": [
    {
     "data": {
      "text/plain": [
       "<AxesSubplot:>"
      ]
     },
     "execution_count": 15,
     "metadata": {},
     "output_type": "execute_result"
    },
    {
     "data": {
      "image/png": "[encoded data removed]",
      "text/plain": [
       "<Figure size 432x288 with 1 Axes>"
      ]
     },
     "metadata": {
      "needs_background": "light"
     },
     "output_type": "display_data"
    }
   ],
   "source": [
    "yearly_sales_data2 = pd.pivot_table(df, values = \"CO2 ppm\", index = \"Year\",aggfunc=np.mean)\n",
    "yearly_sales_data2.boxplot()\n"
   ]
  },
  {
   "cell_type": "code",
   "execution_count": 16,
   "metadata": {},
   "outputs": [
    {
     "data": {
      "text/plain": [
       "<AxesSubplot:>"
      ]
     },
     "execution_count": 16,
     "metadata": {},
     "output_type": "execute_result"
    },
    {
     "data": {
      "image/png": "[encoded data removed]",
      "text/plain": [
       "<Figure size 432x288 with 1 Axes>"
      ]
     },
     "metadata": {
      "needs_background": "light"
     },
     "output_type": "display_data"
    }
   ],
   "source": [
    "yearly_sales_data3 = pd.pivot_table(df, values = \"CO2 ppm\", index = \"Year\",aggfunc=lambda x: 100*x.count()/df.shape[0])\n",
    "yearly_sales_data3.boxplot()"
   ]
  },
  {
   "cell_type": "markdown",
   "metadata": {},
   "source": [
    "# Split the data into train and test. The first 75% of the data should be in training and last 25% of the data should be in test"
   ]
  },
  {
   "cell_type": "code",
   "execution_count": 17,
   "metadata": {},
   "outputs": [],
   "source": [
    "train = df[df.index.year<1977]\n",
    "test = df[df.index.year>1977]"
   ]
  },
  {
   "cell_type": "code",
   "execution_count": 18,
   "metadata": {},
   "outputs": [
    {
     "data": {
      "text/plain": [
       "(144, 3)"
      ]
     },
     "execution_count": 18,
     "metadata": {},
     "output_type": "execute_result"
    }
   ],
   "source": [
    "train.shape"
   ]
  },
  {
   "cell_type": "markdown",
   "metadata": {},
   "source": [
    "# Test the training data for stationarity using the Augmented Dickey-Fuller (ADF) test at $\\alpha$ = 0.05. \n",
    "# If the data is non-stationary, use appropriate measures to stationarize the data and then check for stationarity using the Augmented Dickey-Fuller (ADF) Test at $\\alpha$ = 0.05."
   ]
  },
  {
   "cell_type": "code",
   "execution_count": 19,
   "metadata": {},
   "outputs": [],
   "source": [
    "from statsmodels.tsa.stattools import adfuller"
   ]
  },
  {
   "cell_type": "code",
   "execution_count": 20,
   "metadata": {},
   "outputs": [
    {
     "name": "stdout",
     "output_type": "stream",
     "text": [
      "DF test statistic is -0.258\n",
      "DF test p-value is 0.9313\n"
     ]
    }
   ],
   "source": [
    "dftest = adfuller(train['CO2 ppm'])\n",
    "dftest\n",
    "print('DF test statistic is %3.3f' %dftest[0])\n",
    "print('DF test p-value is %1.4f' %dftest[1])"
   ]
  },
  {
   "cell_type": "code",
   "execution_count": 21,
   "metadata": {},
   "outputs": [],
   "source": [
    "#not stationary"
   ]
  },
  {
   "cell_type": "code",
   "execution_count": 22,
   "metadata": {},
   "outputs": [
    {
     "data": {
      "image/png": "[encoded data removed]",
      "text/plain": [
       "<Figure size 576x288 with 1 Axes>"
      ]
     },
     "metadata": {
      "needs_background": "light"
     },
     "output_type": "display_data"
    }
   ],
   "source": [
    "plt.figure(figsize=(8, 4))\n",
    "plt.plot(train['CO2 ppm'].diff(periods=1))\n",
    "plt.xlabel('Years')\n",
    "plt.ylabel('Tractor Sales');"
   ]
  },
  {
   "cell_type": "code",
   "execution_count": 23,
   "metadata": {},
   "outputs": [],
   "source": [
    "train_stationary = train['CO2 ppm'].diff(periods=1)\n",
    "train_stationary.dropna(inplace=True)"
   ]
  },
  {
   "cell_type": "code",
   "execution_count": 24,
   "metadata": {},
   "outputs": [
    {
     "name": "stdout",
     "output_type": "stream",
     "text": [
      "DF test statistic is -3.387\n",
      "DF test p-value is 0.0114\n"
     ]
    }
   ],
   "source": [
    "dftest = adfuller(train_stationary)\n",
    "dftest\n",
    "print('DF test statistic is %3.3f' %dftest[0])\n",
    "print('DF test p-value is %1.4f' %dftest[1])"
   ]
  },
  {
   "cell_type": "markdown",
   "metadata": {},
   "source": [
    "##### Going forward, for all the questions 'training data' means the data on which the model will be built and which is stationary in nature."
   ]
  },
  {
   "cell_type": "markdown",
   "metadata": {},
   "source": [
    "# Check the ACF and PACF of the training data."
   ]
  },
  {
   "cell_type": "code",
   "execution_count": 25,
   "metadata": {},
   "outputs": [],
   "source": [
    "import statsmodels.tsa.api as smt"
   ]
  },
  {
   "cell_type": "code",
   "execution_count": 26,
   "metadata": {},
   "outputs": [
    {
     "data": {
      "image/png": "[encoded data removed]",
      "text/plain": [
       "<Figure size 432x288 with 1 Axes>"
      ]
     },
     "execution_count": 26,
     "metadata": {},
     "output_type": "execute_result"
    },
    {
     "data": {
      "image/png": "[encoded data removed]",
      "text/plain": [
       "<Figure size 432x288 with 1 Axes>"
      ]
     },
     "metadata": {
      "needs_background": "light"
     },
     "output_type": "display_data"
    }
   ],
   "source": [
    "smt.graphics.plot_acf(train_stationary,lags=30)"
   ]
  },
  {
   "cell_type": "code",
   "execution_count": 27,
   "metadata": {},
   "outputs": [
    {
     "data": {
      "image/png": "[encoded data removed]",
      "text/plain": [
       "<Figure size 432x288 with 1 Axes>"
      ]
     },
     "metadata": {
      "needs_background": "light"
     },
     "output_type": "display_data"
    }
   ],
   "source": [
    "smt.graphics.plot_pacf(train_stationary,lags=30)\n",
    "plt.show()"
   ]
  },
  {
   "cell_type": "markdown",
   "metadata": {},
   "source": [
    "# Build an Automated version of an ARIMA model on the training data for which the best parameters are selected in accordance with the lowest Akaike Information Criteria (AIC). \n",
    "[Here we have taken the range of values of p and q to be between 0 and 2]"
   ]
  },
  {
   "cell_type": "code",
   "execution_count": 28,
   "metadata": {},
   "outputs": [],
   "source": [
    "import itertools"
   ]
  },
  {
   "cell_type": "code",
   "execution_count": 29,
   "metadata": {},
   "outputs": [],
   "source": [
    "p = d = q = range(0,2)\n",
    "\n",
    "pdq = list(itertools.product(p,d,q))\n",
    "\n",
    "seasonal_pdq = [(x[0],x[1],x[2],12) for x in list(itertools.product(p,d,q))]"
   ]
  },
  {
   "cell_type": "code",
   "execution_count": 30,
   "metadata": {},
   "outputs": [],
   "source": [
    "from statsmodels.tsa.arima_model import ARIMA"
   ]
  },
  {
   "cell_type": "code",
   "execution_count": 31,
   "metadata": {},
   "outputs": [
    {
     "data": {
      "text/plain": [
       "Date\n",
       "1965-02-28    1.04\n",
       "1965-03-31    0.46\n",
       "1965-04-30    1.24\n",
       "1965-05-31    0.11\n",
       "1965-06-30   -0.22\n",
       "              ... \n",
       "1976-08-31   -2.18\n",
       "1976-09-30   -1.63\n",
       "1976-10-31   -0.37\n",
       "1976-11-30    1.31\n",
       "1976-12-31    1.32\n",
       "Name: CO2 ppm, Length: 143, dtype: float64"
      ]
     },
     "execution_count": 31,
     "metadata": {},
     "output_type": "execute_result"
    }
   ],
   "source": [
    "train_stationary"
   ]
  },
  {
   "cell_type": "code",
   "execution_count": 32,
   "metadata": {},
   "outputs": [
    {
     "name": "stderr",
     "output_type": "stream",
     "text": [
      "D:\\softwarefordse\\lib\\site-packages\\statsmodels\\tsa\\base\\tsa_model.py:524: ValueWarning: No frequency information was provided, so inferred frequency M will be used.\n",
      "  warnings.warn('No frequency information was'\n",
      "D:\\softwarefordse\\lib\\site-packages\\statsmodels\\tsa\\base\\tsa_model.py:524: ValueWarning: No frequency information was provided, so inferred frequency M will be used.\n",
      "  warnings.warn('No frequency information was'\n"
     ]
    },
    {
     "name": "stdout",
     "output_type": "stream",
     "text": [
      "ARIMA(0, 0, 0)-AIC:842.7376148027187\n",
      "ARIMA(0, 0, 1)-AIC:665.4050879015301\n",
      "ARIMA(0, 1, 0)-AIC:445.9084778426046\n",
      "ARIMA(0, 1, 1)-AIC:365.3157737271446\n",
      "ARIMA(1, 0, 0)-AIC:452.9872558923521\n",
      "ARIMA(1, 0, 1)-AIC:371.2546290530342\n"
     ]
    },
    {
     "name": "stderr",
     "output_type": "stream",
     "text": [
      "D:\\softwarefordse\\lib\\site-packages\\statsmodels\\tsa\\base\\tsa_model.py:524: ValueWarning: No frequency information was provided, so inferred frequency M will be used.\n",
      "  warnings.warn('No frequency information was'\n",
      "D:\\softwarefordse\\lib\\site-packages\\statsmodels\\tsa\\base\\tsa_model.py:524: ValueWarning: No frequency information was provided, so inferred frequency M will be used.\n",
      "  warnings.warn('No frequency information was'\n",
      "D:\\softwarefordse\\lib\\site-packages\\statsmodels\\tsa\\base\\tsa_model.py:524: ValueWarning: No frequency information was provided, so inferred frequency M will be used.\n",
      "  warnings.warn('No frequency information was'\n",
      "D:\\softwarefordse\\lib\\site-packages\\statsmodels\\tsa\\base\\tsa_model.py:524: ValueWarning: No frequency information was provided, so inferred frequency M will be used.\n",
      "  warnings.warn('No frequency information was'\n",
      "D:\\softwarefordse\\lib\\site-packages\\statsmodels\\tsa\\base\\tsa_model.py:524: ValueWarning: No frequency information was provided, so inferred frequency M will be used.\n",
      "  warnings.warn('No frequency information was'\n",
      "D:\\softwarefordse\\lib\\site-packages\\statsmodels\\tsa\\base\\tsa_model.py:524: ValueWarning: No frequency information was provided, so inferred frequency M will be used.\n",
      "  warnings.warn('No frequency information was'\n",
      "D:\\softwarefordse\\lib\\site-packages\\statsmodels\\tsa\\base\\tsa_model.py:524: ValueWarning: No frequency information was provided, so inferred frequency M will be used.\n",
      "  warnings.warn('No frequency information was'\n",
      "D:\\softwarefordse\\lib\\site-packages\\statsmodels\\tsa\\base\\tsa_model.py:524: ValueWarning: No frequency information was provided, so inferred frequency M will be used.\n",
      "  warnings.warn('No frequency information was'\n"
     ]
    },
    {
     "name": "stdout",
     "output_type": "stream",
     "text": [
      "ARIMA(1, 1, 0)-AIC:354.48183281589786\n",
      "ARIMA(1, 1, 1)-AIC:339.785898418952\n"
     ]
    },
    {
     "name": "stderr",
     "output_type": "stream",
     "text": [
      "D:\\softwarefordse\\lib\\site-packages\\statsmodels\\tsa\\base\\tsa_model.py:524: ValueWarning: No frequency information was provided, so inferred frequency M will be used.\n",
      "  warnings.warn('No frequency information was'\n",
      "D:\\softwarefordse\\lib\\site-packages\\statsmodels\\tsa\\base\\tsa_model.py:524: ValueWarning: No frequency information was provided, so inferred frequency M will be used.\n",
      "  warnings.warn('No frequency information was'\n"
     ]
    },
    {
     "data": {
      "text/html": [
       "<div>\n",
       "<style scoped>\n",
       "    .dataframe tbody tr th:only-of-type {\n",
       "        vertical-align: middle;\n",
       "    }\n",
       "\n",
       "    .dataframe tbody tr th {\n",
       "        vertical-align: top;\n",
       "    }\n",
       "\n",
       "    .dataframe thead th {\n",
       "        text-align: right;\n",
       "    }\n",
       "</style>\n",
       "<table border=\"1\" class=\"dataframe\">\n",
       "  <thead>\n",
       "    <tr style=\"text-align: right;\">\n",
       "      <th></th>\n",
       "      <th>0</th>\n",
       "      <th>1</th>\n",
       "    </tr>\n",
       "  </thead>\n",
       "  <tbody>\n",
       "    <tr>\n",
       "      <th>7</th>\n",
       "      <td>(1, 1, 1)</td>\n",
       "      <td>339.785898</td>\n",
       "    </tr>\n",
       "    <tr>\n",
       "      <th>6</th>\n",
       "      <td>(1, 1, 0)</td>\n",
       "      <td>354.481833</td>\n",
       "    </tr>\n",
       "    <tr>\n",
       "      <th>3</th>\n",
       "      <td>(0, 1, 1)</td>\n",
       "      <td>365.315774</td>\n",
       "    </tr>\n",
       "    <tr>\n",
       "      <th>5</th>\n",
       "      <td>(1, 0, 1)</td>\n",
       "      <td>371.254629</td>\n",
       "    </tr>\n",
       "    <tr>\n",
       "      <th>2</th>\n",
       "      <td>(0, 1, 0)</td>\n",
       "      <td>445.908478</td>\n",
       "    </tr>\n",
       "    <tr>\n",
       "      <th>4</th>\n",
       "      <td>(1, 0, 0)</td>\n",
       "      <td>452.987256</td>\n",
       "    </tr>\n",
       "    <tr>\n",
       "      <th>1</th>\n",
       "      <td>(0, 0, 1)</td>\n",
       "      <td>665.405088</td>\n",
       "    </tr>\n",
       "    <tr>\n",
       "      <th>0</th>\n",
       "      <td>(0, 0, 0)</td>\n",
       "      <td>842.737615</td>\n",
       "    </tr>\n",
       "  </tbody>\n",
       "</table>\n",
       "</div>"
      ],
      "text/plain": [
       "           0           1\n",
       "7  (1, 1, 1)  339.785898\n",
       "6  (1, 1, 0)  354.481833\n",
       "3  (0, 1, 1)  365.315774\n",
       "5  (1, 0, 1)  371.254629\n",
       "2  (0, 1, 0)  445.908478\n",
       "4  (1, 0, 0)  452.987256\n",
       "1  (0, 0, 1)  665.405088\n",
       "0  (0, 0, 0)  842.737615"
      ]
     },
     "execution_count": 32,
     "metadata": {},
     "output_type": "execute_result"
    }
   ],
   "source": [
    "score = {}\n",
    "for param in pdq:\n",
    "     ARIMA_model = ARIMA(train['CO2 ppm'],order=param).fit()\n",
    "     print('ARIMA{}-AIC:{}'.format(param,ARIMA_model.aic))\n",
    "     score[param] = ARIMA_model.aic\n",
    "pd.DataFrame(score.items()).sort_values(by=1)"
   ]
  },
  {
   "cell_type": "code",
   "execution_count": 33,
   "metadata": {},
   "outputs": [
    {
     "name": "stdout",
     "output_type": "stream",
     "text": [
      "                             ARIMA Model Results                              \n",
      "==============================================================================\n",
      "Dep. Variable:              D.CO2 ppm   No. Observations:                  143\n",
      "Model:                 ARIMA(1, 1, 1)   Log Likelihood                -165.893\n",
      "Method:                       css-mle   S.D. of innovations              0.770\n",
      "Date:                Fri, 11 Nov 2022   AIC                            339.786\n",
      "Time:                        16:25:33   BIC                            351.637\n",
      "Sample:                    02-28-1965   HQIC                           344.602\n",
      "                         - 12-31-1976                                         \n",
      "===================================================================================\n",
      "                      coef    std err          z      P>|z|      [0.025      0.975]\n",
      "-----------------------------------------------------------------------------------\n",
      "const               0.1096      0.193      0.569      0.570      -0.268       0.487\n",
      "ar.L1.D.CO2 ppm     0.5556      0.083      6.665      0.000       0.392       0.719\n",
      "ma.L1.D.CO2 ppm     0.3440      0.080      4.310      0.000       0.188       0.500\n",
      "                                    Roots                                    \n",
      "=============================================================================\n",
      "                  Real          Imaginary           Modulus         Frequency\n",
      "-----------------------------------------------------------------------------\n",
      "AR.1            1.7998           +0.0000j            1.7998            0.0000\n",
      "MA.1           -2.9066           +0.0000j            2.9066            0.5000\n",
      "-----------------------------------------------------------------------------\n"
     ]
    },
    {
     "name": "stderr",
     "output_type": "stream",
     "text": [
      "D:\\softwarefordse\\lib\\site-packages\\statsmodels\\tsa\\base\\tsa_model.py:524: ValueWarning: No frequency information was provided, so inferred frequency M will be used.\n",
      "  warnings.warn('No frequency information was'\n",
      "D:\\softwarefordse\\lib\\site-packages\\statsmodels\\tsa\\base\\tsa_model.py:524: ValueWarning: No frequency information was provided, so inferred frequency M will be used.\n",
      "  warnings.warn('No frequency information was'\n"
     ]
    }
   ],
   "source": [
    "mod = ARIMA(train['CO2 ppm'],order=(1,1,1))\n",
    "results_ARIMA = mod.fit()\n",
    "print(results_ARIMA.summary())"
   ]
  },
  {
   "cell_type": "markdown",
   "metadata": {},
   "source": [
    "# Predict on the Test Set using this model and evaluate the model on the test set using RMSE and MAPE"
   ]
  },
  {
   "cell_type": "code",
   "execution_count": 34,
   "metadata": {},
   "outputs": [],
   "source": [
    "pred = results_ARIMA.forecast(steps=36)"
   ]
  },
  {
   "cell_type": "code",
   "execution_count": 35,
   "metadata": {},
   "outputs": [
    {
     "data": {
      "text/plain": [
       "2.648881351703475"
      ]
     },
     "execution_count": 35,
     "metadata": {},
     "output_type": "execute_result"
    }
   ],
   "source": [
    "from sklearn.metrics import mean_squared_error\n",
    "rmse = mean_squared_error(test['CO2 ppm'],pred[0],squared=False)\n",
    "rmse"
   ]
  },
  {
   "cell_type": "code",
   "execution_count": 36,
   "metadata": {},
   "outputs": [
    {
     "data": {
      "text/plain": [
       "0.006691360254837676"
      ]
     },
     "execution_count": 36,
     "metadata": {},
     "output_type": "execute_result"
    }
   ],
   "source": [
    "from sklearn.metrics import mean_absolute_percentage_error\n",
    "mape = mean_absolute_percentage_error(test['CO2 ppm'],pred[0])\n",
    "mape"
   ]
  },
  {
   "cell_type": "code",
   "execution_count": 37,
   "metadata": {},
   "outputs": [
    {
     "data": {
      "text/html": [
       "<div>\n",
       "<style scoped>\n",
       "    .dataframe tbody tr th:only-of-type {\n",
       "        vertical-align: middle;\n",
       "    }\n",
       "\n",
       "    .dataframe tbody tr th {\n",
       "        vertical-align: top;\n",
       "    }\n",
       "\n",
       "    .dataframe thead th {\n",
       "        text-align: right;\n",
       "    }\n",
       "</style>\n",
       "<table border=\"1\" class=\"dataframe\">\n",
       "  <thead>\n",
       "    <tr style=\"text-align: right;\">\n",
       "      <th></th>\n",
       "      <th>Mape</th>\n",
       "      <th>RMSE</th>\n",
       "    </tr>\n",
       "  </thead>\n",
       "  <tbody>\n",
       "    <tr>\n",
       "      <th>ARIMA(1,1,1)</th>\n",
       "      <td>0.006691</td>\n",
       "      <td>2.648881</td>\n",
       "    </tr>\n",
       "  </tbody>\n",
       "</table>\n",
       "</div>"
      ],
      "text/plain": [
       "                  Mape      RMSE\n",
       "ARIMA(1,1,1)  0.006691  2.648881"
      ]
     },
     "execution_count": 37,
     "metadata": {},
     "output_type": "execute_result"
    }
   ],
   "source": [
    "resultsDf = pd.DataFrame({'Mape':[mape],'RMSE': [rmse]}\n",
    "                           ,index=['ARIMA(1,1,1)'])\n",
    "\n",
    "resultsDf"
   ]
  },
  {
   "cell_type": "markdown",
   "metadata": {},
   "source": [
    "# Check for stationarity on the whole data and stationarize the data if needed. Build a model on the whole data using the parameters got from best fit (with respect to the lowest AIC value) ARIMA model.\n",
    "### Note: Stationarity is to be checked with the Augmented Dickey-Fuller (ADF) test at $\\alpha$ = 0.05."
   ]
  },
  {
   "cell_type": "code",
   "execution_count": 38,
   "metadata": {},
   "outputs": [
    {
     "name": "stdout",
     "output_type": "stream",
     "text": [
      "DF test statistic is 1.270\n",
      "DF test p-value is 0.9964\n"
     ]
    }
   ],
   "source": [
    "dftest1=adfuller(df['CO2 ppm'])\n",
    "print('DF test statistic is %3.3f' %dftest1[0])\n",
    "print('DF test p-value is %1.4f' %dftest1[1])\n",
    "\n",
    "#its not stationary\n",
    "df_stationary = df['CO2 ppm'].diff(periods=1)\n",
    "df_stationary.dropna(inplace=True)\n"
   ]
  },
  {
   "cell_type": "code",
   "execution_count": 39,
   "metadata": {},
   "outputs": [
    {
     "name": "stdout",
     "output_type": "stream",
     "text": [
      "                             ARIMA Model Results                              \n",
      "==============================================================================\n",
      "Dep. Variable:              D.CO2 ppm   No. Observations:                  143\n",
      "Model:                 ARIMA(1, 1, 1)   Log Likelihood                -165.893\n",
      "Method:                       css-mle   S.D. of innovations              0.770\n",
      "Date:                Fri, 11 Nov 2022   AIC                            339.786\n",
      "Time:                        16:26:40   BIC                            351.637\n",
      "Sample:                    02-28-1965   HQIC                           344.602\n",
      "                         - 12-31-1976                                         \n",
      "===================================================================================\n",
      "                      coef    std err          z      P>|z|      [0.025      0.975]\n",
      "-----------------------------------------------------------------------------------\n",
      "const               0.1096      0.193      0.569      0.570      -0.268       0.487\n",
      "ar.L1.D.CO2 ppm     0.5556      0.083      6.665      0.000       0.392       0.719\n",
      "ma.L1.D.CO2 ppm     0.3440      0.080      4.310      0.000       0.188       0.500\n",
      "                                    Roots                                    \n",
      "=============================================================================\n",
      "                  Real          Imaginary           Modulus         Frequency\n",
      "-----------------------------------------------------------------------------\n",
      "AR.1            1.7998           +0.0000j            1.7998            0.0000\n",
      "MA.1           -2.9066           +0.0000j            2.9066            0.5000\n",
      "-----------------------------------------------------------------------------\n"
     ]
    },
    {
     "name": "stderr",
     "output_type": "stream",
     "text": [
      "D:\\softwarefordse\\lib\\site-packages\\statsmodels\\tsa\\base\\tsa_model.py:524: ValueWarning: No frequency information was provided, so inferred frequency M will be used.\n",
      "  warnings.warn('No frequency information was'\n",
      "D:\\softwarefordse\\lib\\site-packages\\statsmodels\\tsa\\base\\tsa_model.py:524: ValueWarning: No frequency information was provided, so inferred frequency M will be used.\n",
      "  warnings.warn('No frequency information was'\n"
     ]
    }
   ],
   "source": [
    "mod1 = ARIMA(df['CO2 ppm'],order=(1,1,1))\n",
    "results_ARIMA1 = mod.fit()\n",
    "print(results_ARIMA1.summary())"
   ]
  },
  {
   "cell_type": "markdown",
   "metadata": {},
   "source": [
    "# Forecast the values for the next 24 months using the ARIMA model just built and plot them along with confidence intervals. Also, plot the existing time series data in this graph."
   ]
  },
  {
   "cell_type": "code",
   "execution_count": 40,
   "metadata": {},
   "outputs": [
    {
     "data": {
      "text/html": [
       "<div>\n",
       "<style scoped>\n",
       "    .dataframe tbody tr th:only-of-type {\n",
       "        vertical-align: middle;\n",
       "    }\n",
       "\n",
       "    .dataframe tbody tr th {\n",
       "        vertical-align: top;\n",
       "    }\n",
       "\n",
       "    .dataframe thead th {\n",
       "        text-align: right;\n",
       "    }\n",
       "</style>\n",
       "<table border=\"1\" class=\"dataframe\">\n",
       "  <thead>\n",
       "    <tr style=\"text-align: right;\">\n",
       "      <th></th>\n",
       "      <th>forecast</th>\n",
       "      <th>lower_ci_95</th>\n",
       "      <th>upper_ci_95</th>\n",
       "      <th>lower_ci_99</th>\n",
       "      <th>upper_ci_99</th>\n",
       "    </tr>\n",
       "  </thead>\n",
       "  <tbody>\n",
       "    <tr>\n",
       "      <th>1980-12-31</th>\n",
       "      <td>332.315864</td>\n",
       "      <td>330.807352</td>\n",
       "      <td>333.824376</td>\n",
       "      <td>330.333344</td>\n",
       "      <td>334.298385</td>\n",
       "    </tr>\n",
       "    <tr>\n",
       "      <th>1981-01-31</th>\n",
       "      <td>332.817864</td>\n",
       "      <td>329.579420</td>\n",
       "      <td>336.056309</td>\n",
       "      <td>328.561827</td>\n",
       "      <td>337.073902</td>\n",
       "    </tr>\n",
       "    <tr>\n",
       "      <th>1981-02-28</th>\n",
       "      <td>333.145480</td>\n",
       "      <td>328.288569</td>\n",
       "      <td>338.002390</td>\n",
       "      <td>326.762417</td>\n",
       "      <td>339.528542</td>\n",
       "    </tr>\n",
       "    <tr>\n",
       "      <th>1981-03-31</th>\n",
       "      <td>333.376205</td>\n",
       "      <td>327.059557</td>\n",
       "      <td>339.692854</td>\n",
       "      <td>325.074722</td>\n",
       "      <td>341.677689</td>\n",
       "    </tr>\n",
       "    <tr>\n",
       "      <th>1981-04-30</th>\n",
       "      <td>333.553099</td>\n",
       "      <td>325.927822</td>\n",
       "      <td>341.178375</td>\n",
       "      <td>323.531787</td>\n",
       "      <td>343.574411</td>\n",
       "    </tr>\n",
       "  </tbody>\n",
       "</table>\n",
       "</div>"
      ],
      "text/plain": [
       "              forecast  lower_ci_95  upper_ci_95  lower_ci_99  upper_ci_99\n",
       "1980-12-31  332.315864   330.807352   333.824376   330.333344   334.298385\n",
       "1981-01-31  332.817864   329.579420   336.056309   328.561827   337.073902\n",
       "1981-02-28  333.145480   328.288569   338.002390   326.762417   339.528542\n",
       "1981-03-31  333.376205   327.059557   339.692854   325.074722   341.677689\n",
       "1981-04-30  333.553099   325.927822   341.178375   323.531787   343.574411"
      ]
     },
     "execution_count": 40,
     "metadata": {},
     "output_type": "execute_result"
    }
   ],
   "source": [
    "# Get forecast 24 steps (2 years) ahead in future\n",
    "n_steps = 24\n",
    "pred_uc_99,std_err ,conf_int_99= results_ARIMA.forecast(steps=24, alpha=0.01) # alpha=0.01 signifies 99% confidence interval\n",
    "pred_uc_95,std_err,conf_int_95= results_ARIMA.forecast(steps=24, alpha=0.05) # alpha=0.05 signifies 95% confidence interval\n",
    "\n",
    "# Get confidence intervals 95% & 99% of the forecasts\n",
    "n_steps = 24\n",
    "\n",
    "idx = pd.date_range(df.index[-1], periods=n_steps, freq='M')#defining the date range for 3 years\n",
    "#into the future\n",
    "\n",
    "fc_95 = pd.DataFrame(np.column_stack([pred_uc_95, conf_int_95]), index=idx, columns=['forecast', 'lower_ci_95', 'upper_ci_95'])#creating a data frame\n",
    "#by raising the results to the appropriate power for suitable predicted values - For 95% confidence interval\n",
    "\n",
    "fc_99 = pd.DataFrame((conf_int_99), index=idx, columns=['lower_ci_99', 'upper_ci_99'])\n",
    "#creating a data frame\n",
    "#by raising the results to the appropriate power for suitable predicted values - For 99% confidence interval\n",
    "\n",
    "fc_all = fc_95.combine_first(fc_99)\n",
    "\n",
    "fc_all = fc_all[['forecast', 'lower_ci_95', 'upper_ci_95', 'lower_ci_99', 'upper_ci_99']]# just reordering \n",
    "#columns\n",
    "\n",
    "fc_all.head()\n"
   ]
  },
  {
   "cell_type": "code",
   "execution_count": 41,
   "metadata": {},
   "outputs": [
    {
     "data": {
      "image/png": "[encoded data removed]",
      "text/plain": [
       "<Figure size 576x288 with 1 Axes>"
      ]
     },
     "metadata": {
      "needs_background": "light"
     },
     "output_type": "display_data"
    }
   ],
   "source": [
    "axis = df['CO2 ppm'].plot(label='Observed', figsize=(8, 4))\n",
    "fc_all['forecast'].plot(ax=axis, label='Forecast', alpha=0.7)\n",
    "axis.fill_between(fc_all.index, fc_all['lower_ci_95'], fc_all['upper_ci_95'], color='k', alpha=.15)\n",
    "axis.set_xlabel('Years')\n",
    "axis.set_ylabel('co2 ppm')\n",
    "plt.legend(loc='best')\n",
    "plt.show()"
   ]
  },
  {
   "cell_type": "markdown",
   "metadata": {},
   "source": [
    "\\# Build an Automated version of an SARIMA model on the training data for which the best parameters are selected in accordance with the lowest Akaike Information Criteria (AIC). \n",
    "[Here we have taken the range of values of p,q,P and Q to be between 0 and 2]"
   ]
  },
  {
   "cell_type": "code",
   "execution_count": 42,
   "metadata": {},
   "outputs": [
    {
     "name": "stdout",
     "output_type": "stream",
     "text": [
      "Examples of parameter combinations for Model...\n",
      "Model: (0, 0, 1)(0, 0, 1, 12)\n",
      "Model: (0, 0, 1)(0, 1, 0, 12)\n",
      "Model: (0, 1, 0)(0, 1, 1, 12)\n",
      "Model: (0, 1, 0)(1, 0, 0, 12)\n",
      "Empty DataFrame\n",
      "Columns: [param, seasonal, AIC]\n",
      "Index: []\n"
     ]
    }
   ],
   "source": [
    "pq = list(itertools.product(p,d,q))\n",
    "model_pq = [(x[0], x[1],x[2],12) for x in list(itertools.product(p,d,q))]\n",
    "print('Examples of parameter combinations for Model...')\n",
    "print('Model: {}{}'.format(pq[1], model_pq[1]))\n",
    "print('Model: {}{}'.format(pq[1], model_pq[2]))\n",
    "print('Model: {}{}'.format(pq[2], model_pq[3]))\n",
    "print('Model: {}{}'.format(pq[2], model_pq[4]))\n",
    "SARIMA_AIC = pd.DataFrame(columns=['param','seasonal', 'AIC'])\n",
    "print(SARIMA_AIC)"
   ]
  },
  {
   "cell_type": "code",
   "execution_count": 43,
   "metadata": {},
   "outputs": [
    {
     "name": "stderr",
     "output_type": "stream",
     "text": [
      "D:\\softwarefordse\\lib\\site-packages\\statsmodels\\tsa\\base\\tsa_model.py:524: ValueWarning: No frequency information was provided, so inferred frequency M will be used.\n",
      "  warnings.warn('No frequency information was'\n",
      "D:\\softwarefordse\\lib\\site-packages\\statsmodels\\tsa\\base\\tsa_model.py:524: ValueWarning: No frequency information was provided, so inferred frequency M will be used.\n",
      "  warnings.warn('No frequency information was'\n",
      "D:\\softwarefordse\\lib\\site-packages\\statsmodels\\tsa\\base\\tsa_model.py:524: ValueWarning: No frequency information was provided, so inferred frequency M will be used.\n",
      "  warnings.warn('No frequency information was'\n",
      "D:\\softwarefordse\\lib\\site-packages\\statsmodels\\tsa\\base\\tsa_model.py:524: ValueWarning: No frequency information was provided, so inferred frequency M will be used.\n",
      "  warnings.warn('No frequency information was'\n",
      "D:\\softwarefordse\\lib\\site-packages\\statsmodels\\tsa\\base\\tsa_model.py:524: ValueWarning: No frequency information was provided, so inferred frequency M will be used.\n",
      "  warnings.warn('No frequency information was'\n",
      "D:\\softwarefordse\\lib\\site-packages\\statsmodels\\tsa\\base\\tsa_model.py:524: ValueWarning: No frequency information was provided, so inferred frequency M will be used.\n",
      "  warnings.warn('No frequency information was'\n"
     ]
    },
    {
     "name": "stdout",
     "output_type": "stream",
     "text": [
      "SARIMA(0, 0, 0)x(0, 0, 0, 12)12 - AIC:2062.8964944744594\n",
      "SARIMA(0, 0, 0)x(0, 0, 1, 12)12 - AIC:1750.6722550420477\n",
      "SARIMA(0, 0, 0)x(0, 1, 0, 12)12 - AIC:437.5842180045346\n"
     ]
    },
    {
     "name": "stderr",
     "output_type": "stream",
     "text": [
      "D:\\softwarefordse\\lib\\site-packages\\statsmodels\\tsa\\base\\tsa_model.py:524: ValueWarning: No frequency information was provided, so inferred frequency M will be used.\n",
      "  warnings.warn('No frequency information was'\n",
      "D:\\softwarefordse\\lib\\site-packages\\statsmodels\\tsa\\base\\tsa_model.py:524: ValueWarning: No frequency information was provided, so inferred frequency M will be used.\n",
      "  warnings.warn('No frequency information was'\n",
      "D:\\softwarefordse\\lib\\site-packages\\statsmodels\\tsa\\base\\tsa_model.py:524: ValueWarning: No frequency information was provided, so inferred frequency M will be used.\n",
      "  warnings.warn('No frequency information was'\n",
      "D:\\softwarefordse\\lib\\site-packages\\statsmodels\\tsa\\base\\tsa_model.py:524: ValueWarning: No frequency information was provided, so inferred frequency M will be used.\n",
      "  warnings.warn('No frequency information was'\n",
      "D:\\softwarefordse\\lib\\site-packages\\statsmodels\\tsa\\base\\tsa_model.py:524: ValueWarning: No frequency information was provided, so inferred frequency M will be used.\n",
      "  warnings.warn('No frequency information was'\n",
      "D:\\softwarefordse\\lib\\site-packages\\statsmodels\\tsa\\base\\tsa_model.py:524: ValueWarning: No frequency information was provided, so inferred frequency M will be used.\n",
      "  warnings.warn('No frequency information was'\n"
     ]
    },
    {
     "name": "stdout",
     "output_type": "stream",
     "text": [
      "SARIMA(0, 0, 0)x(0, 1, 1, 12)12 - AIC:365.2996677291688\n",
      "SARIMA(0, 0, 0)x(1, 0, 0, 12)12 - AIC:262.44343651348487\n",
      "SARIMA(0, 0, 0)x(1, 0, 1, 12)12 - AIC:249.68232440311942\n",
      "SARIMA(0, 0, 0)x(1, 1, 0, 12)12 - AIC:333.1341370888425\n"
     ]
    },
    {
     "name": "stderr",
     "output_type": "stream",
     "text": [
      "D:\\softwarefordse\\lib\\site-packages\\statsmodels\\tsa\\base\\tsa_model.py:524: ValueWarning: No frequency information was provided, so inferred frequency M will be used.\n",
      "  warnings.warn('No frequency information was'\n",
      "D:\\softwarefordse\\lib\\site-packages\\statsmodels\\tsa\\base\\tsa_model.py:524: ValueWarning: No frequency information was provided, so inferred frequency M will be used.\n",
      "  warnings.warn('No frequency information was'\n",
      "D:\\softwarefordse\\lib\\site-packages\\statsmodels\\tsa\\base\\tsa_model.py:524: ValueWarning: No frequency information was provided, so inferred frequency M will be used.\n",
      "  warnings.warn('No frequency information was'\n",
      "D:\\softwarefordse\\lib\\site-packages\\statsmodels\\tsa\\base\\tsa_model.py:524: ValueWarning: No frequency information was provided, so inferred frequency M will be used.\n",
      "  warnings.warn('No frequency information was'\n"
     ]
    },
    {
     "name": "stdout",
     "output_type": "stream",
     "text": [
      "SARIMA(0, 0, 0)x(1, 1, 1, 12)12 - AIC:277.136692967008\n"
     ]
    },
    {
     "name": "stderr",
     "output_type": "stream",
     "text": [
      "D:\\softwarefordse\\lib\\site-packages\\statsmodels\\tsa\\base\\tsa_model.py:524: ValueWarning: No frequency information was provided, so inferred frequency M will be used.\n",
      "  warnings.warn('No frequency information was'\n",
      "D:\\softwarefordse\\lib\\site-packages\\statsmodels\\tsa\\base\\tsa_model.py:524: ValueWarning: No frequency information was provided, so inferred frequency M will be used.\n",
      "  warnings.warn('No frequency information was'\n",
      "D:\\softwarefordse\\lib\\site-packages\\statsmodels\\tsa\\base\\tsa_model.py:524: ValueWarning: No frequency information was provided, so inferred frequency M will be used.\n",
      "  warnings.warn('No frequency information was'\n",
      "D:\\softwarefordse\\lib\\site-packages\\statsmodels\\tsa\\base\\tsa_model.py:524: ValueWarning: No frequency information was provided, so inferred frequency M will be used.\n",
      "  warnings.warn('No frequency information was'\n"
     ]
    },
    {
     "name": "stdout",
     "output_type": "stream",
     "text": [
      "SARIMA(0, 0, 1)x(0, 0, 0, 12)12 - AIC:1859.5318584693491\n",
      "SARIMA(0, 0, 1)x(0, 0, 1, 12)12 - AIC:1564.040194209418\n",
      "SARIMA(0, 0, 1)x(0, 1, 0, 12)12 - AIC:318.36870781754106\n",
      "SARIMA(0, 0, 1)x(0, 1, 1, 12)12 - AIC:284.4939771500365\n"
     ]
    },
    {
     "name": "stderr",
     "output_type": "stream",
     "text": [
      "D:\\softwarefordse\\lib\\site-packages\\statsmodels\\tsa\\base\\tsa_model.py:524: ValueWarning: No frequency information was provided, so inferred frequency M will be used.\n",
      "  warnings.warn('No frequency information was'\n",
      "D:\\softwarefordse\\lib\\site-packages\\statsmodels\\tsa\\base\\tsa_model.py:524: ValueWarning: No frequency information was provided, so inferred frequency M will be used.\n",
      "  warnings.warn('No frequency information was'\n",
      "D:\\softwarefordse\\lib\\site-packages\\statsmodels\\tsa\\base\\tsa_model.py:524: ValueWarning: No frequency information was provided, so inferred frequency M will be used.\n",
      "  warnings.warn('No frequency information was'\n",
      "D:\\softwarefordse\\lib\\site-packages\\statsmodels\\tsa\\base\\tsa_model.py:524: ValueWarning: No frequency information was provided, so inferred frequency M will be used.\n",
      "  warnings.warn('No frequency information was'\n",
      "D:\\softwarefordse\\lib\\site-packages\\statsmodels\\tsa\\base\\tsa_model.py:524: ValueWarning: No frequency information was provided, so inferred frequency M will be used.\n",
      "  warnings.warn('No frequency information was'\n",
      "D:\\softwarefordse\\lib\\site-packages\\statsmodels\\tsa\\base\\tsa_model.py:524: ValueWarning: No frequency information was provided, so inferred frequency M will be used.\n",
      "  warnings.warn('No frequency information was'\n",
      "D:\\softwarefordse\\lib\\site-packages\\statsmodels\\base\\model.py:566: ConvergenceWarning: Maximum Likelihood optimization failed to converge. Check mle_retvals\n",
      "  warnings.warn(\"Maximum Likelihood optimization failed to \"\n",
      "D:\\softwarefordse\\lib\\site-packages\\statsmodels\\tsa\\base\\tsa_model.py:524: ValueWarning: No frequency information was provided, so inferred frequency M will be used.\n",
      "  warnings.warn('No frequency information was'\n",
      "D:\\softwarefordse\\lib\\site-packages\\statsmodels\\tsa\\base\\tsa_model.py:524: ValueWarning: No frequency information was provided, so inferred frequency M will be used.\n",
      "  warnings.warn('No frequency information was'\n"
     ]
    },
    {
     "name": "stdout",
     "output_type": "stream",
     "text": [
      "SARIMA(0, 0, 1)x(1, 0, 0, 12)12 - AIC:195.35038541060564\n"
     ]
    },
    {
     "name": "stderr",
     "output_type": "stream",
     "text": [
      "D:\\softwarefordse\\lib\\site-packages\\statsmodels\\base\\model.py:566: ConvergenceWarning: Maximum Likelihood optimization failed to converge. Check mle_retvals\n",
      "  warnings.warn(\"Maximum Likelihood optimization failed to \"\n",
      "D:\\softwarefordse\\lib\\site-packages\\statsmodels\\tsa\\base\\tsa_model.py:524: ValueWarning: No frequency information was provided, so inferred frequency M will be used.\n",
      "  warnings.warn('No frequency information was'\n",
      "D:\\softwarefordse\\lib\\site-packages\\statsmodels\\tsa\\base\\tsa_model.py:524: ValueWarning: No frequency information was provided, so inferred frequency M will be used.\n",
      "  warnings.warn('No frequency information was'\n",
      "D:\\softwarefordse\\lib\\site-packages\\statsmodels\\tsa\\base\\tsa_model.py:524: ValueWarning: No frequency information was provided, so inferred frequency M will be used.\n",
      "  warnings.warn('No frequency information was'\n",
      "D:\\softwarefordse\\lib\\site-packages\\statsmodels\\tsa\\base\\tsa_model.py:524: ValueWarning: No frequency information was provided, so inferred frequency M will be used.\n",
      "  warnings.warn('No frequency information was'\n"
     ]
    },
    {
     "name": "stdout",
     "output_type": "stream",
     "text": [
      "SARIMA(0, 0, 1)x(1, 0, 1, 12)12 - AIC:316.1483823864122\n",
      "SARIMA(0, 0, 1)x(1, 1, 0, 12)12 - AIC:272.4099002383706\n",
      "SARIMA(0, 0, 1)x(1, 1, 1, 12)12 - AIC:214.0957920458506\n",
      "SARIMA(0, 1, 0)x(0, 0, 0, 12)12 - AIC:441.780622052286\n",
      "SARIMA(0, 1, 0)x(0, 0, 1, 12)12 - AIC:322.9968747866858\n",
      "SARIMA(0, 1, 0)x(0, 1, 0, 12)12 - AIC:153.20624323260782\n"
     ]
    },
    {
     "name": "stderr",
     "output_type": "stream",
     "text": [
      "D:\\softwarefordse\\lib\\site-packages\\statsmodels\\tsa\\base\\tsa_model.py:524: ValueWarning: No frequency information was provided, so inferred frequency M will be used.\n",
      "  warnings.warn('No frequency information was'\n",
      "D:\\softwarefordse\\lib\\site-packages\\statsmodels\\tsa\\base\\tsa_model.py:524: ValueWarning: No frequency information was provided, so inferred frequency M will be used.\n",
      "  warnings.warn('No frequency information was'\n",
      "D:\\softwarefordse\\lib\\site-packages\\statsmodels\\tsa\\base\\tsa_model.py:524: ValueWarning: No frequency information was provided, so inferred frequency M will be used.\n",
      "  warnings.warn('No frequency information was'\n",
      "D:\\softwarefordse\\lib\\site-packages\\statsmodels\\tsa\\base\\tsa_model.py:524: ValueWarning: No frequency information was provided, so inferred frequency M will be used.\n",
      "  warnings.warn('No frequency information was'\n",
      "D:\\softwarefordse\\lib\\site-packages\\statsmodels\\tsa\\base\\tsa_model.py:524: ValueWarning: No frequency information was provided, so inferred frequency M will be used.\n",
      "  warnings.warn('No frequency information was'\n",
      "D:\\softwarefordse\\lib\\site-packages\\statsmodels\\tsa\\base\\tsa_model.py:524: ValueWarning: No frequency information was provided, so inferred frequency M will be used.\n",
      "  warnings.warn('No frequency information was'\n"
     ]
    },
    {
     "name": "stdout",
     "output_type": "stream",
     "text": [
      "SARIMA(0, 1, 0)x(0, 1, 1, 12)12 - AIC:65.42885338478665\n"
     ]
    },
    {
     "name": "stderr",
     "output_type": "stream",
     "text": [
      "D:\\softwarefordse\\lib\\site-packages\\statsmodels\\tsa\\base\\tsa_model.py:524: ValueWarning: No frequency information was provided, so inferred frequency M will be used.\n",
      "  warnings.warn('No frequency information was'\n",
      "D:\\softwarefordse\\lib\\site-packages\\statsmodels\\tsa\\base\\tsa_model.py:524: ValueWarning: No frequency information was provided, so inferred frequency M will be used.\n",
      "  warnings.warn('No frequency information was'\n",
      "D:\\softwarefordse\\lib\\site-packages\\statsmodels\\tsa\\base\\tsa_model.py:524: ValueWarning: No frequency information was provided, so inferred frequency M will be used.\n",
      "  warnings.warn('No frequency information was'\n",
      "D:\\softwarefordse\\lib\\site-packages\\statsmodels\\tsa\\base\\tsa_model.py:524: ValueWarning: No frequency information was provided, so inferred frequency M will be used.\n",
      "  warnings.warn('No frequency information was'\n"
     ]
    },
    {
     "name": "stdout",
     "output_type": "stream",
     "text": [
      "SARIMA(0, 1, 0)x(1, 0, 0, 12)12 - AIC:151.72863155719017\n",
      "SARIMA(0, 1, 0)x(1, 0, 1, 12)12 - AIC:90.95070210098882\n"
     ]
    },
    {
     "name": "stderr",
     "output_type": "stream",
     "text": [
      "D:\\softwarefordse\\lib\\site-packages\\statsmodels\\tsa\\base\\tsa_model.py:524: ValueWarning: No frequency information was provided, so inferred frequency M will be used.\n",
      "  warnings.warn('No frequency information was'\n",
      "D:\\softwarefordse\\lib\\site-packages\\statsmodels\\tsa\\base\\tsa_model.py:524: ValueWarning: No frequency information was provided, so inferred frequency M will be used.\n",
      "  warnings.warn('No frequency information was'\n",
      "D:\\softwarefordse\\lib\\site-packages\\statsmodels\\tsa\\base\\tsa_model.py:524: ValueWarning: No frequency information was provided, so inferred frequency M will be used.\n",
      "  warnings.warn('No frequency information was'\n",
      "D:\\softwarefordse\\lib\\site-packages\\statsmodels\\tsa\\base\\tsa_model.py:524: ValueWarning: No frequency information was provided, so inferred frequency M will be used.\n",
      "  warnings.warn('No frequency information was'\n"
     ]
    },
    {
     "name": "stdout",
     "output_type": "stream",
     "text": [
      "SARIMA(0, 1, 0)x(1, 1, 0, 12)12 - AIC:92.83358562211828\n",
      "SARIMA(0, 1, 0)x(1, 1, 1, 12)12 - AIC:60.08360741392274\n"
     ]
    },
    {
     "name": "stderr",
     "output_type": "stream",
     "text": [
      "D:\\softwarefordse\\lib\\site-packages\\statsmodels\\tsa\\base\\tsa_model.py:524: ValueWarning: No frequency information was provided, so inferred frequency M will be used.\n",
      "  warnings.warn('No frequency information was'\n",
      "D:\\softwarefordse\\lib\\site-packages\\statsmodels\\tsa\\base\\tsa_model.py:524: ValueWarning: No frequency information was provided, so inferred frequency M will be used.\n",
      "  warnings.warn('No frequency information was'\n",
      "D:\\softwarefordse\\lib\\site-packages\\statsmodels\\tsa\\base\\tsa_model.py:524: ValueWarning: No frequency information was provided, so inferred frequency M will be used.\n",
      "  warnings.warn('No frequency information was'\n",
      "D:\\softwarefordse\\lib\\site-packages\\statsmodels\\tsa\\base\\tsa_model.py:524: ValueWarning: No frequency information was provided, so inferred frequency M will be used.\n",
      "  warnings.warn('No frequency information was'\n"
     ]
    },
    {
     "name": "stdout",
     "output_type": "stream",
     "text": [
      "SARIMA(0, 1, 1)x(0, 0, 0, 12)12 - AIC:358.659735420074\n",
      "SARIMA(0, 1, 1)x(0, 0, 1, 12)12 - AIC:284.8604635309116\n",
      "SARIMA(0, 1, 1)x(0, 1, 0, 12)12 - AIC:150.89294302803074\n"
     ]
    },
    {
     "name": "stderr",
     "output_type": "stream",
     "text": [
      "D:\\softwarefordse\\lib\\site-packages\\statsmodels\\tsa\\base\\tsa_model.py:524: ValueWarning: No frequency information was provided, so inferred frequency M will be used.\n",
      "  warnings.warn('No frequency information was'\n",
      "D:\\softwarefordse\\lib\\site-packages\\statsmodels\\tsa\\base\\tsa_model.py:524: ValueWarning: No frequency information was provided, so inferred frequency M will be used.\n",
      "  warnings.warn('No frequency information was'\n",
      "D:\\softwarefordse\\lib\\site-packages\\statsmodels\\tsa\\base\\tsa_model.py:524: ValueWarning: No frequency information was provided, so inferred frequency M will be used.\n",
      "  warnings.warn('No frequency information was'\n",
      "D:\\softwarefordse\\lib\\site-packages\\statsmodels\\tsa\\base\\tsa_model.py:524: ValueWarning: No frequency information was provided, so inferred frequency M will be used.\n",
      "  warnings.warn('No frequency information was'\n",
      "D:\\softwarefordse\\lib\\site-packages\\statsmodels\\tsa\\base\\tsa_model.py:524: ValueWarning: No frequency information was provided, so inferred frequency M will be used.\n",
      "  warnings.warn('No frequency information was'\n",
      "D:\\softwarefordse\\lib\\site-packages\\statsmodels\\tsa\\base\\tsa_model.py:524: ValueWarning: No frequency information was provided, so inferred frequency M will be used.\n",
      "  warnings.warn('No frequency information was'\n"
     ]
    },
    {
     "name": "stdout",
     "output_type": "stream",
     "text": [
      "SARIMA(0, 1, 1)x(0, 1, 1, 12)12 - AIC:59.90722191067315\n",
      "SARIMA(0, 1, 1)x(1, 0, 0, 12)12 - AIC:151.73436845324545\n"
     ]
    },
    {
     "name": "stderr",
     "output_type": "stream",
     "text": [
      "D:\\softwarefordse\\lib\\site-packages\\statsmodels\\tsa\\base\\tsa_model.py:524: ValueWarning: No frequency information was provided, so inferred frequency M will be used.\n",
      "  warnings.warn('No frequency information was'\n",
      "D:\\softwarefordse\\lib\\site-packages\\statsmodels\\tsa\\base\\tsa_model.py:524: ValueWarning: No frequency information was provided, so inferred frequency M will be used.\n",
      "  warnings.warn('No frequency information was'\n",
      "D:\\softwarefordse\\lib\\site-packages\\statsmodels\\tsa\\base\\tsa_model.py:524: ValueWarning: No frequency information was provided, so inferred frequency M will be used.\n",
      "  warnings.warn('No frequency information was'\n",
      "D:\\softwarefordse\\lib\\site-packages\\statsmodels\\tsa\\base\\tsa_model.py:524: ValueWarning: No frequency information was provided, so inferred frequency M will be used.\n",
      "  warnings.warn('No frequency information was'\n"
     ]
    },
    {
     "name": "stdout",
     "output_type": "stream",
     "text": [
      "SARIMA(0, 1, 1)x(1, 0, 1, 12)12 - AIC:84.83368675612208\n",
      "SARIMA(0, 1, 1)x(1, 1, 0, 12)12 - AIC:91.90566698944217\n"
     ]
    },
    {
     "name": "stderr",
     "output_type": "stream",
     "text": [
      "D:\\softwarefordse\\lib\\site-packages\\statsmodels\\tsa\\base\\tsa_model.py:524: ValueWarning: No frequency information was provided, so inferred frequency M will be used.\n",
      "  warnings.warn('No frequency information was'\n",
      "D:\\softwarefordse\\lib\\site-packages\\statsmodels\\tsa\\base\\tsa_model.py:524: ValueWarning: No frequency information was provided, so inferred frequency M will be used.\n",
      "  warnings.warn('No frequency information was'\n",
      "D:\\softwarefordse\\lib\\site-packages\\statsmodels\\tsa\\base\\tsa_model.py:524: ValueWarning: No frequency information was provided, so inferred frequency M will be used.\n",
      "  warnings.warn('No frequency information was'\n",
      "D:\\softwarefordse\\lib\\site-packages\\statsmodels\\tsa\\base\\tsa_model.py:524: ValueWarning: No frequency information was provided, so inferred frequency M will be used.\n",
      "  warnings.warn('No frequency information was'\n"
     ]
    },
    {
     "name": "stdout",
     "output_type": "stream",
     "text": [
      "SARIMA(0, 1, 1)x(1, 1, 1, 12)12 - AIC:56.67952519074547\n",
      "SARIMA(1, 0, 0)x(0, 0, 0, 12)12 - AIC:445.94820111380113\n",
      "SARIMA(1, 0, 0)x(0, 0, 1, 12)12 - AIC:407.98008609637054\n"
     ]
    },
    {
     "name": "stderr",
     "output_type": "stream",
     "text": [
      "D:\\softwarefordse\\lib\\site-packages\\statsmodels\\tsa\\base\\tsa_model.py:524: ValueWarning: No frequency information was provided, so inferred frequency M will be used.\n",
      "  warnings.warn('No frequency information was'\n",
      "D:\\softwarefordse\\lib\\site-packages\\statsmodels\\tsa\\base\\tsa_model.py:524: ValueWarning: No frequency information was provided, so inferred frequency M will be used.\n",
      "  warnings.warn('No frequency information was'\n",
      "D:\\softwarefordse\\lib\\site-packages\\statsmodels\\tsa\\base\\tsa_model.py:524: ValueWarning: No frequency information was provided, so inferred frequency M will be used.\n",
      "  warnings.warn('No frequency information was'\n",
      "D:\\softwarefordse\\lib\\site-packages\\statsmodels\\tsa\\base\\tsa_model.py:524: ValueWarning: No frequency information was provided, so inferred frequency M will be used.\n",
      "  warnings.warn('No frequency information was'\n",
      "D:\\softwarefordse\\lib\\site-packages\\statsmodels\\tsa\\base\\tsa_model.py:524: ValueWarning: No frequency information was provided, so inferred frequency M will be used.\n",
      "  warnings.warn('No frequency information was'\n",
      "D:\\softwarefordse\\lib\\site-packages\\statsmodels\\tsa\\base\\tsa_model.py:524: ValueWarning: No frequency information was provided, so inferred frequency M will be used.\n",
      "  warnings.warn('No frequency information was'\n"
     ]
    },
    {
     "name": "stdout",
     "output_type": "stream",
     "text": [
      "SARIMA(1, 0, 0)x(0, 1, 0, 12)12 - AIC:151.680605179595\n",
      "SARIMA(1, 0, 0)x(0, 1, 1, 12)12 - AIC:73.15681147381328\n"
     ]
    },
    {
     "name": "stderr",
     "output_type": "stream",
     "text": [
      "D:\\softwarefordse\\lib\\site-packages\\statsmodels\\tsa\\base\\tsa_model.py:524: ValueWarning: No frequency information was provided, so inferred frequency M will be used.\n",
      "  warnings.warn('No frequency information was'\n",
      "D:\\softwarefordse\\lib\\site-packages\\statsmodels\\tsa\\base\\tsa_model.py:524: ValueWarning: No frequency information was provided, so inferred frequency M will be used.\n",
      "  warnings.warn('No frequency information was'\n",
      "D:\\softwarefordse\\lib\\site-packages\\statsmodels\\tsa\\base\\tsa_model.py:524: ValueWarning: No frequency information was provided, so inferred frequency M will be used.\n",
      "  warnings.warn('No frequency information was'\n",
      "D:\\softwarefordse\\lib\\site-packages\\statsmodels\\tsa\\base\\tsa_model.py:524: ValueWarning: No frequency information was provided, so inferred frequency M will be used.\n",
      "  warnings.warn('No frequency information was'\n"
     ]
    },
    {
     "name": "stdout",
     "output_type": "stream",
     "text": [
      "SARIMA(1, 0, 0)x(1, 0, 0, 12)12 - AIC:142.04634778110483\n"
     ]
    },
    {
     "name": "stderr",
     "output_type": "stream",
     "text": [
      "D:\\softwarefordse\\lib\\site-packages\\statsmodels\\tsa\\base\\tsa_model.py:524: ValueWarning: No frequency information was provided, so inferred frequency M will be used.\n",
      "  warnings.warn('No frequency information was'\n",
      "D:\\softwarefordse\\lib\\site-packages\\statsmodels\\tsa\\base\\tsa_model.py:524: ValueWarning: No frequency information was provided, so inferred frequency M will be used.\n",
      "  warnings.warn('No frequency information was'\n"
     ]
    },
    {
     "name": "stdout",
     "output_type": "stream",
     "text": [
      "SARIMA(1, 0, 0)x(1, 0, 1, 12)12 - AIC:82.37791971515848\n"
     ]
    },
    {
     "name": "stderr",
     "output_type": "stream",
     "text": [
      "D:\\softwarefordse\\lib\\site-packages\\statsmodels\\tsa\\base\\tsa_model.py:524: ValueWarning: No frequency information was provided, so inferred frequency M will be used.\n",
      "  warnings.warn('No frequency information was'\n",
      "D:\\softwarefordse\\lib\\site-packages\\statsmodels\\tsa\\base\\tsa_model.py:524: ValueWarning: No frequency information was provided, so inferred frequency M will be used.\n",
      "  warnings.warn('No frequency information was'\n"
     ]
    },
    {
     "name": "stdout",
     "output_type": "stream",
     "text": [
      "SARIMA(1, 0, 0)x(1, 1, 0, 12)12 - AIC:93.39549836719976\n"
     ]
    },
    {
     "name": "stderr",
     "output_type": "stream",
     "text": [
      "D:\\softwarefordse\\lib\\site-packages\\statsmodels\\tsa\\base\\tsa_model.py:524: ValueWarning: No frequency information was provided, so inferred frequency M will be used.\n",
      "  warnings.warn('No frequency information was'\n",
      "D:\\softwarefordse\\lib\\site-packages\\statsmodels\\tsa\\base\\tsa_model.py:524: ValueWarning: No frequency information was provided, so inferred frequency M will be used.\n",
      "  warnings.warn('No frequency information was'\n"
     ]
    },
    {
     "name": "stdout",
     "output_type": "stream",
     "text": [
      "SARIMA(1, 0, 0)x(1, 1, 1, 12)12 - AIC:66.8978668338581\n",
      "SARIMA(1, 0, 1)x(0, 0, 0, 12)12 - AIC:362.31603864073884\n"
     ]
    },
    {
     "name": "stderr",
     "output_type": "stream",
     "text": [
      "D:\\softwarefordse\\lib\\site-packages\\statsmodels\\tsa\\base\\tsa_model.py:524: ValueWarning: No frequency information was provided, so inferred frequency M will be used.\n",
      "  warnings.warn('No frequency information was'\n",
      "D:\\softwarefordse\\lib\\site-packages\\statsmodels\\tsa\\base\\tsa_model.py:524: ValueWarning: No frequency information was provided, so inferred frequency M will be used.\n",
      "  warnings.warn('No frequency information was'\n",
      "D:\\softwarefordse\\lib\\site-packages\\statsmodels\\tsa\\base\\tsa_model.py:524: ValueWarning: No frequency information was provided, so inferred frequency M will be used.\n",
      "  warnings.warn('No frequency information was'\n",
      "D:\\softwarefordse\\lib\\site-packages\\statsmodels\\tsa\\base\\tsa_model.py:524: ValueWarning: No frequency information was provided, so inferred frequency M will be used.\n",
      "  warnings.warn('No frequency information was'\n"
     ]
    },
    {
     "name": "stdout",
     "output_type": "stream",
     "text": [
      "SARIMA(1, 0, 1)x(0, 0, 1, 12)12 - AIC:323.4133703137503\n",
      "SARIMA(1, 0, 1)x(0, 1, 0, 12)12 - AIC:151.2843303452215\n"
     ]
    },
    {
     "name": "stderr",
     "output_type": "stream",
     "text": [
      "D:\\softwarefordse\\lib\\site-packages\\statsmodels\\tsa\\base\\tsa_model.py:524: ValueWarning: No frequency information was provided, so inferred frequency M will be used.\n",
      "  warnings.warn('No frequency information was'\n",
      "D:\\softwarefordse\\lib\\site-packages\\statsmodels\\tsa\\base\\tsa_model.py:524: ValueWarning: No frequency information was provided, so inferred frequency M will be used.\n",
      "  warnings.warn('No frequency information was'\n",
      "D:\\softwarefordse\\lib\\site-packages\\statsmodels\\tsa\\base\\tsa_model.py:524: ValueWarning: No frequency information was provided, so inferred frequency M will be used.\n",
      "  warnings.warn('No frequency information was'\n",
      "D:\\softwarefordse\\lib\\site-packages\\statsmodels\\tsa\\base\\tsa_model.py:524: ValueWarning: No frequency information was provided, so inferred frequency M will be used.\n",
      "  warnings.warn('No frequency information was'\n"
     ]
    },
    {
     "name": "stdout",
     "output_type": "stream",
     "text": [
      "SARIMA(1, 0, 1)x(0, 1, 1, 12)12 - AIC:62.0646745559513\n"
     ]
    },
    {
     "name": "stderr",
     "output_type": "stream",
     "text": [
      "D:\\softwarefordse\\lib\\site-packages\\statsmodels\\tsa\\base\\tsa_model.py:524: ValueWarning: No frequency information was provided, so inferred frequency M will be used.\n",
      "  warnings.warn('No frequency information was'\n",
      "D:\\softwarefordse\\lib\\site-packages\\statsmodels\\tsa\\base\\tsa_model.py:524: ValueWarning: No frequency information was provided, so inferred frequency M will be used.\n",
      "  warnings.warn('No frequency information was'\n",
      "D:\\softwarefordse\\lib\\site-packages\\statsmodels\\base\\model.py:566: ConvergenceWarning: Maximum Likelihood optimization failed to converge. Check mle_retvals\n",
      "  warnings.warn(\"Maximum Likelihood optimization failed to \"\n",
      "D:\\softwarefordse\\lib\\site-packages\\statsmodels\\tsa\\base\\tsa_model.py:524: ValueWarning: No frequency information was provided, so inferred frequency M will be used.\n",
      "  warnings.warn('No frequency information was'\n",
      "D:\\softwarefordse\\lib\\site-packages\\statsmodels\\tsa\\base\\tsa_model.py:524: ValueWarning: No frequency information was provided, so inferred frequency M will be used.\n",
      "  warnings.warn('No frequency information was'\n"
     ]
    },
    {
     "name": "stdout",
     "output_type": "stream",
     "text": [
      "SARIMA(1, 0, 1)x(1, 0, 0, 12)12 - AIC:156.76507273897457\n",
      "SARIMA(1, 0, 1)x(1, 0, 1, 12)12 - AIC:88.48392041144156\n",
      "SARIMA(1, 0, 1)x(1, 1, 0, 12)12 - AIC:92.87478789838588\n"
     ]
    },
    {
     "name": "stderr",
     "output_type": "stream",
     "text": [
      "D:\\softwarefordse\\lib\\site-packages\\statsmodels\\tsa\\base\\tsa_model.py:524: ValueWarning: No frequency information was provided, so inferred frequency M will be used.\n",
      "  warnings.warn('No frequency information was'\n",
      "D:\\softwarefordse\\lib\\site-packages\\statsmodels\\tsa\\base\\tsa_model.py:524: ValueWarning: No frequency information was provided, so inferred frequency M will be used.\n",
      "  warnings.warn('No frequency information was'\n",
      "D:\\softwarefordse\\lib\\site-packages\\statsmodels\\tsa\\base\\tsa_model.py:524: ValueWarning: No frequency information was provided, so inferred frequency M will be used.\n",
      "  warnings.warn('No frequency information was'\n",
      "D:\\softwarefordse\\lib\\site-packages\\statsmodels\\tsa\\base\\tsa_model.py:524: ValueWarning: No frequency information was provided, so inferred frequency M will be used.\n",
      "  warnings.warn('No frequency information was'\n"
     ]
    },
    {
     "name": "stdout",
     "output_type": "stream",
     "text": [
      "SARIMA(1, 0, 1)x(1, 1, 1, 12)12 - AIC:59.390196552914645\n",
      "SARIMA(1, 1, 0)x(0, 0, 0, 12)12 - AIC:349.84096838588414\n",
      "SARIMA(1, 1, 0)x(0, 0, 1, 12)12 - AIC:274.73394067135723\n",
      "SARIMA(1, 1, 0)x(0, 1, 0, 12)12 - AIC:152.23169800806443\n"
     ]
    },
    {
     "name": "stderr",
     "output_type": "stream",
     "text": [
      "D:\\softwarefordse\\lib\\site-packages\\statsmodels\\tsa\\base\\tsa_model.py:524: ValueWarning: No frequency information was provided, so inferred frequency M will be used.\n",
      "  warnings.warn('No frequency information was'\n",
      "D:\\softwarefordse\\lib\\site-packages\\statsmodels\\tsa\\base\\tsa_model.py:524: ValueWarning: No frequency information was provided, so inferred frequency M will be used.\n",
      "  warnings.warn('No frequency information was'\n",
      "D:\\softwarefordse\\lib\\site-packages\\statsmodels\\base\\model.py:566: ConvergenceWarning: Maximum Likelihood optimization failed to converge. Check mle_retvals\n",
      "  warnings.warn(\"Maximum Likelihood optimization failed to \"\n",
      "D:\\softwarefordse\\lib\\site-packages\\statsmodels\\tsa\\base\\tsa_model.py:524: ValueWarning: No frequency information was provided, so inferred frequency M will be used.\n",
      "  warnings.warn('No frequency information was'\n",
      "D:\\softwarefordse\\lib\\site-packages\\statsmodels\\tsa\\base\\tsa_model.py:524: ValueWarning: No frequency information was provided, so inferred frequency M will be used.\n",
      "  warnings.warn('No frequency information was'\n",
      "D:\\softwarefordse\\lib\\site-packages\\statsmodels\\tsa\\base\\tsa_model.py:524: ValueWarning: No frequency information was provided, so inferred frequency M will be used.\n",
      "  warnings.warn('No frequency information was'\n",
      "D:\\softwarefordse\\lib\\site-packages\\statsmodels\\tsa\\base\\tsa_model.py:524: ValueWarning: No frequency information was provided, so inferred frequency M will be used.\n",
      "  warnings.warn('No frequency information was'\n",
      "D:\\softwarefordse\\lib\\site-packages\\statsmodels\\tsa\\base\\tsa_model.py:524: ValueWarning: No frequency information was provided, so inferred frequency M will be used.\n",
      "  warnings.warn('No frequency information was'\n",
      "D:\\softwarefordse\\lib\\site-packages\\statsmodels\\tsa\\base\\tsa_model.py:524: ValueWarning: No frequency information was provided, so inferred frequency M will be used.\n",
      "  warnings.warn('No frequency information was'\n"
     ]
    },
    {
     "name": "stdout",
     "output_type": "stream",
     "text": [
      "SARIMA(1, 1, 0)x(0, 1, 1, 12)12 - AIC:60.26656608376507\n",
      "SARIMA(1, 1, 0)x(1, 0, 0, 12)12 - AIC:151.8039696889626\n"
     ]
    },
    {
     "name": "stderr",
     "output_type": "stream",
     "text": [
      "D:\\softwarefordse\\lib\\site-packages\\statsmodels\\tsa\\base\\tsa_model.py:524: ValueWarning: No frequency information was provided, so inferred frequency M will be used.\n",
      "  warnings.warn('No frequency information was'\n",
      "D:\\softwarefordse\\lib\\site-packages\\statsmodels\\tsa\\base\\tsa_model.py:524: ValueWarning: No frequency information was provided, so inferred frequency M will be used.\n",
      "  warnings.warn('No frequency information was'\n",
      "D:\\softwarefordse\\lib\\site-packages\\statsmodels\\tsa\\base\\tsa_model.py:524: ValueWarning: No frequency information was provided, so inferred frequency M will be used.\n",
      "  warnings.warn('No frequency information was'\n",
      "D:\\softwarefordse\\lib\\site-packages\\statsmodels\\tsa\\base\\tsa_model.py:524: ValueWarning: No frequency information was provided, so inferred frequency M will be used.\n",
      "  warnings.warn('No frequency information was'\n"
     ]
    },
    {
     "name": "stdout",
     "output_type": "stream",
     "text": [
      "SARIMA(1, 1, 0)x(1, 0, 1, 12)12 - AIC:85.92341350011796\n",
      "SARIMA(1, 1, 0)x(1, 1, 0, 12)12 - AIC:85.88798222257525\n"
     ]
    },
    {
     "name": "stderr",
     "output_type": "stream",
     "text": [
      "D:\\softwarefordse\\lib\\site-packages\\statsmodels\\tsa\\base\\tsa_model.py:524: ValueWarning: No frequency information was provided, so inferred frequency M will be used.\n",
      "  warnings.warn('No frequency information was'\n",
      "D:\\softwarefordse\\lib\\site-packages\\statsmodels\\tsa\\base\\tsa_model.py:524: ValueWarning: No frequency information was provided, so inferred frequency M will be used.\n",
      "  warnings.warn('No frequency information was'\n",
      "D:\\softwarefordse\\lib\\site-packages\\statsmodels\\tsa\\base\\tsa_model.py:524: ValueWarning: No frequency information was provided, so inferred frequency M will be used.\n",
      "  warnings.warn('No frequency information was'\n",
      "D:\\softwarefordse\\lib\\site-packages\\statsmodels\\tsa\\base\\tsa_model.py:524: ValueWarning: No frequency information was provided, so inferred frequency M will be used.\n",
      "  warnings.warn('No frequency information was'\n"
     ]
    },
    {
     "name": "stdout",
     "output_type": "stream",
     "text": [
      "SARIMA(1, 1, 0)x(1, 1, 1, 12)12 - AIC:57.93471289960302\n",
      "SARIMA(1, 1, 1)x(0, 0, 0, 12)12 - AIC:333.400650147535\n",
      "SARIMA(1, 1, 1)x(0, 0, 1, 12)12 - AIC:269.63073518543683\n"
     ]
    },
    {
     "name": "stderr",
     "output_type": "stream",
     "text": [
      "D:\\softwarefordse\\lib\\site-packages\\statsmodels\\tsa\\base\\tsa_model.py:524: ValueWarning: No frequency information was provided, so inferred frequency M will be used.\n",
      "  warnings.warn('No frequency information was'\n",
      "D:\\softwarefordse\\lib\\site-packages\\statsmodels\\tsa\\base\\tsa_model.py:524: ValueWarning: No frequency information was provided, so inferred frequency M will be used.\n",
      "  warnings.warn('No frequency information was'\n",
      "D:\\softwarefordse\\lib\\site-packages\\statsmodels\\tsa\\base\\tsa_model.py:524: ValueWarning: No frequency information was provided, so inferred frequency M will be used.\n",
      "  warnings.warn('No frequency information was'\n",
      "D:\\softwarefordse\\lib\\site-packages\\statsmodels\\tsa\\base\\tsa_model.py:524: ValueWarning: No frequency information was provided, so inferred frequency M will be used.\n",
      "  warnings.warn('No frequency information was'\n",
      "D:\\softwarefordse\\lib\\site-packages\\statsmodels\\tsa\\base\\tsa_model.py:524: ValueWarning: No frequency information was provided, so inferred frequency M will be used.\n",
      "  warnings.warn('No frequency information was'\n",
      "D:\\softwarefordse\\lib\\site-packages\\statsmodels\\tsa\\base\\tsa_model.py:524: ValueWarning: No frequency information was provided, so inferred frequency M will be used.\n",
      "  warnings.warn('No frequency information was'\n"
     ]
    },
    {
     "name": "stdout",
     "output_type": "stream",
     "text": [
      "SARIMA(1, 1, 1)x(0, 1, 0, 12)12 - AIC:145.32356292025872\n"
     ]
    },
    {
     "name": "stderr",
     "output_type": "stream",
     "text": [
      "D:\\softwarefordse\\lib\\site-packages\\statsmodels\\tsa\\base\\tsa_model.py:524: ValueWarning: No frequency information was provided, so inferred frequency M will be used.\n",
      "  warnings.warn('No frequency information was'\n",
      "D:\\softwarefordse\\lib\\site-packages\\statsmodels\\tsa\\base\\tsa_model.py:524: ValueWarning: No frequency information was provided, so inferred frequency M will be used.\n",
      "  warnings.warn('No frequency information was'\n"
     ]
    },
    {
     "name": "stdout",
     "output_type": "stream",
     "text": [
      "SARIMA(1, 1, 1)x(0, 1, 1, 12)12 - AIC:61.88402269656315\n"
     ]
    },
    {
     "name": "stderr",
     "output_type": "stream",
     "text": [
      "D:\\softwarefordse\\lib\\site-packages\\statsmodels\\tsa\\base\\tsa_model.py:524: ValueWarning: No frequency information was provided, so inferred frequency M will be used.\n",
      "  warnings.warn('No frequency information was'\n",
      "D:\\softwarefordse\\lib\\site-packages\\statsmodels\\tsa\\base\\tsa_model.py:524: ValueWarning: No frequency information was provided, so inferred frequency M will be used.\n",
      "  warnings.warn('No frequency information was'\n"
     ]
    },
    {
     "name": "stdout",
     "output_type": "stream",
     "text": [
      "SARIMA(1, 1, 1)x(1, 0, 0, 12)12 - AIC:146.13160768828527\n"
     ]
    },
    {
     "name": "stderr",
     "output_type": "stream",
     "text": [
      "D:\\softwarefordse\\lib\\site-packages\\statsmodels\\tsa\\base\\tsa_model.py:524: ValueWarning: No frequency information was provided, so inferred frequency M will be used.\n",
      "  warnings.warn('No frequency information was'\n",
      "D:\\softwarefordse\\lib\\site-packages\\statsmodels\\tsa\\base\\tsa_model.py:524: ValueWarning: No frequency information was provided, so inferred frequency M will be used.\n",
      "  warnings.warn('No frequency information was'\n"
     ]
    },
    {
     "name": "stdout",
     "output_type": "stream",
     "text": [
      "SARIMA(1, 1, 1)x(1, 0, 1, 12)12 - AIC:85.29404752000167\n"
     ]
    },
    {
     "name": "stderr",
     "output_type": "stream",
     "text": [
      "D:\\softwarefordse\\lib\\site-packages\\statsmodels\\tsa\\base\\tsa_model.py:524: ValueWarning: No frequency information was provided, so inferred frequency M will be used.\n",
      "  warnings.warn('No frequency information was'\n",
      "D:\\softwarefordse\\lib\\site-packages\\statsmodels\\tsa\\base\\tsa_model.py:524: ValueWarning: No frequency information was provided, so inferred frequency M will be used.\n",
      "  warnings.warn('No frequency information was'\n"
     ]
    },
    {
     "name": "stdout",
     "output_type": "stream",
     "text": [
      "SARIMA(1, 1, 1)x(1, 1, 0, 12)12 - AIC:86.6442349776372\n"
     ]
    },
    {
     "name": "stderr",
     "output_type": "stream",
     "text": [
      "D:\\softwarefordse\\lib\\site-packages\\statsmodels\\tsa\\base\\tsa_model.py:524: ValueWarning: No frequency information was provided, so inferred frequency M will be used.\n",
      "  warnings.warn('No frequency information was'\n",
      "D:\\softwarefordse\\lib\\site-packages\\statsmodels\\tsa\\base\\tsa_model.py:524: ValueWarning: No frequency information was provided, so inferred frequency M will be used.\n",
      "  warnings.warn('No frequency information was'\n"
     ]
    },
    {
     "name": "stdout",
     "output_type": "stream",
     "text": [
      "SARIMA(1, 1, 1)x(1, 1, 1, 12)12 - AIC:57.298990661140046\n"
     ]
    }
   ],
   "source": [
    "import statsmodels.api as sm\n",
    "\n",
    "for param in pq:\n",
    "    for param_seasonal in model_pq:\n",
    "        SARIMA_model = sm.tsa.statespace.SARIMAX(train['CO2 ppm'],\n",
    "                                            order=param,\n",
    "                                            seasonal_order=param_seasonal,\n",
    "                                            enforce_stationarity=False,\n",
    "                                            enforce_invertibility=False)\n",
    "            \n",
    "        results_SARIMA = SARIMA_model.fit()\n",
    "        print('SARIMA{}x{}12 - AIC:{}'.format(param, param_seasonal, results_SARIMA.aic))\n",
    "        SARIMA_AIC = SARIMA_AIC.append({'param':param,'seasonal':param_seasonal ,'AIC': results_SARIMA.aic}, ignore_index=True)\n",
    "        "
   ]
  },
  {
   "cell_type": "code",
   "execution_count": 44,
   "metadata": {},
   "outputs": [
    {
     "data": {
      "text/html": [
       "<div>\n",
       "<style scoped>\n",
       "    .dataframe tbody tr th:only-of-type {\n",
       "        vertical-align: middle;\n",
       "    }\n",
       "\n",
       "    .dataframe tbody tr th {\n",
       "        vertical-align: top;\n",
       "    }\n",
       "\n",
       "    .dataframe thead th {\n",
       "        text-align: right;\n",
       "    }\n",
       "</style>\n",
       "<table border=\"1\" class=\"dataframe\">\n",
       "  <thead>\n",
       "    <tr style=\"text-align: right;\">\n",
       "      <th></th>\n",
       "      <th>param</th>\n",
       "      <th>seasonal</th>\n",
       "      <th>AIC</th>\n",
       "    </tr>\n",
       "  </thead>\n",
       "  <tbody>\n",
       "    <tr>\n",
       "      <th>31</th>\n",
       "      <td>(0, 1, 1)</td>\n",
       "      <td>(1, 1, 1, 12)</td>\n",
       "      <td>56.679525</td>\n",
       "    </tr>\n",
       "    <tr>\n",
       "      <th>63</th>\n",
       "      <td>(1, 1, 1)</td>\n",
       "      <td>(1, 1, 1, 12)</td>\n",
       "      <td>57.298991</td>\n",
       "    </tr>\n",
       "    <tr>\n",
       "      <th>55</th>\n",
       "      <td>(1, 1, 0)</td>\n",
       "      <td>(1, 1, 1, 12)</td>\n",
       "      <td>57.934713</td>\n",
       "    </tr>\n",
       "    <tr>\n",
       "      <th>47</th>\n",
       "      <td>(1, 0, 1)</td>\n",
       "      <td>(1, 1, 1, 12)</td>\n",
       "      <td>59.390197</td>\n",
       "    </tr>\n",
       "    <tr>\n",
       "      <th>27</th>\n",
       "      <td>(0, 1, 1)</td>\n",
       "      <td>(0, 1, 1, 12)</td>\n",
       "      <td>59.907222</td>\n",
       "    </tr>\n",
       "  </tbody>\n",
       "</table>\n",
       "</div>"
      ],
      "text/plain": [
       "        param       seasonal        AIC\n",
       "31  (0, 1, 1)  (1, 1, 1, 12)  56.679525\n",
       "63  (1, 1, 1)  (1, 1, 1, 12)  57.298991\n",
       "55  (1, 1, 0)  (1, 1, 1, 12)  57.934713\n",
       "47  (1, 0, 1)  (1, 1, 1, 12)  59.390197\n",
       "27  (0, 1, 1)  (0, 1, 1, 12)  59.907222"
      ]
     },
     "execution_count": 44,
     "metadata": {},
     "output_type": "execute_result"
    }
   ],
   "source": [
    "SARIMA_AIC.sort_values(by=['AIC']).head()"
   ]
  },
  {
   "cell_type": "code",
   "execution_count": 45,
   "metadata": {},
   "outputs": [
    {
     "name": "stdout",
     "output_type": "stream",
     "text": [
      "                               SARIMAX Results                                \n",
      "==============================================================================\n",
      "Dep. Variable:                CO2 ppm   No. Observations:                  144\n",
      "Model:               SARIMAX(2, 0, 0)   Log Likelihood                -172.869\n",
      "Date:                Fri, 11 Nov 2022   AIC                            351.738\n",
      "Time:                        16:27:11   BIC                            360.605\n",
      "Sample:                    01-31-1965   HQIC                           355.341\n",
      "                         - 12-31-1976                                         \n",
      "Covariance Type:                  opg                                         \n",
      "==============================================================================\n",
      "                 coef    std err          z      P>|z|      [0.025      0.975]\n",
      "------------------------------------------------------------------------------\n",
      "ar.L1          1.6956      0.073     23.369      0.000       1.553       1.838\n",
      "ar.L2         -0.6956      0.072     -9.595      0.000      -0.838      -0.554\n",
      "sigma2         0.6682      0.093      7.175      0.000       0.486       0.851\n",
      "===================================================================================\n",
      "Ljung-Box (L1) (Q):                  15.08   Jarque-Bera (JB):                 1.73\n",
      "Prob(Q):                              0.00   Prob(JB):                         0.42\n",
      "Heteroskedasticity (H):               0.76   Skew:                             0.11\n",
      "Prob(H) (two-sided):                  0.36   Kurtosis:                         2.51\n",
      "===================================================================================\n",
      "\n",
      "Warnings:\n",
      "[1] Covariance matrix calculated using the outer product of gradients (complex-step).\n"
     ]
    },
    {
     "name": "stderr",
     "output_type": "stream",
     "text": [
      "D:\\softwarefordse\\lib\\site-packages\\statsmodels\\tsa\\base\\tsa_model.py:524: ValueWarning: No frequency information was provided, so inferred frequency M will be used.\n",
      "  warnings.warn('No frequency information was'\n",
      "D:\\softwarefordse\\lib\\site-packages\\statsmodels\\tsa\\base\\tsa_model.py:524: ValueWarning: No frequency information was provided, so inferred frequency M will be used.\n",
      "  warnings.warn('No frequency information was'\n"
     ]
    }
   ],
   "source": [
    "import statsmodels.api as sm\n",
    "\n",
    "## SARIMA(2, 0, 0)(2, 0, 2, 12)\n",
    "mod = sm.tsa.statespace.SARIMAX(train['CO2 ppm'],\n",
    "                                order=(2,0,0),\n",
    "                                enforce_stationarity=False,\n",
    "                                enforce_invertibility=False)\n",
    "results_SARIMA = mod.fit()\n",
    "print(results_SARIMA.summary())"
   ]
  },
  {
   "cell_type": "markdown",
   "metadata": {},
   "source": [
    "# Predict on the Test Set using this model and evaluate the model on the test set using RMSE and MAPE"
   ]
  },
  {
   "cell_type": "code",
   "execution_count": 46,
   "metadata": {},
   "outputs": [
    {
     "name": "stdout",
     "output_type": "stream",
     "text": [
      "2.3984228093830504\n"
     ]
    }
   ],
   "source": [
    "pred = results_SARIMA.get_forecast(steps=36)\n",
    "pred.predicted_mean\n",
    "rmse = np.sqrt(mean_squared_error(test['CO2 ppm'] ,pred.predicted_mean))\n",
    "print(rmse)\n",
    "mape = mean_absolute_percentage_error(test['CO2 ppm'] ,pred.predicted_mean)"
   ]
  },
  {
   "cell_type": "code",
   "execution_count": 47,
   "metadata": {},
   "outputs": [
    {
     "data": {
      "text/html": [
       "<div>\n",
       "<style scoped>\n",
       "    .dataframe tbody tr th:only-of-type {\n",
       "        vertical-align: middle;\n",
       "    }\n",
       "\n",
       "    .dataframe tbody tr th {\n",
       "        vertical-align: top;\n",
       "    }\n",
       "\n",
       "    .dataframe thead th {\n",
       "        text-align: right;\n",
       "    }\n",
       "</style>\n",
       "<table border=\"1\" class=\"dataframe\">\n",
       "  <thead>\n",
       "    <tr style=\"text-align: right;\">\n",
       "      <th></th>\n",
       "      <th>Mape</th>\n",
       "      <th>RMSE</th>\n",
       "    </tr>\n",
       "  </thead>\n",
       "  <tbody>\n",
       "    <tr>\n",
       "      <th>ARIMA(1,1,1)</th>\n",
       "      <td>0.006691</td>\n",
       "      <td>2.648881</td>\n",
       "    </tr>\n",
       "    <tr>\n",
       "      <th>SARIMA(0,0,1)(2,0,2)12_without seasonality_diff</th>\n",
       "      <td>0.006103</td>\n",
       "      <td>2.398423</td>\n",
       "    </tr>\n",
       "  </tbody>\n",
       "</table>\n",
       "</div>"
      ],
      "text/plain": [
       "                                                     Mape      RMSE\n",
       "ARIMA(1,1,1)                                     0.006691  2.648881\n",
       "SARIMA(0,0,1)(2,0,2)12_without seasonality_diff  0.006103  2.398423"
      ]
     },
     "execution_count": 47,
     "metadata": {},
     "output_type": "execute_result"
    }
   ],
   "source": [
    "temp_resultsDf = pd.DataFrame({'Mape':[mape],'RMSE': [rmse]}\n",
    "                           ,index=['SARIMA(0,0,1)(2,0,2)12_without seasonality_diff'])\n",
    "\n",
    "resultsDf = pd.concat([resultsDf, temp_resultsDf])\n",
    "resultsDf"
   ]
  },
  {
   "cell_type": "markdown",
   "metadata": {},
   "source": [
    "# Build a model on the whole data using the parameters got from best fit (with respect to the lowest AIC value) SARIMA model."
   ]
  },
  {
   "cell_type": "code",
   "execution_count": 48,
   "metadata": {},
   "outputs": [
    {
     "name": "stdout",
     "output_type": "stream",
     "text": [
      "                               SARIMAX Results                                \n",
      "==============================================================================\n",
      "Dep. Variable:                CO2 ppm   No. Observations:                  192\n",
      "Model:               SARIMAX(2, 0, 0)   Log Likelihood                -234.818\n",
      "Date:                Fri, 11 Nov 2022   AIC                            475.637\n",
      "Time:                        16:27:49   BIC                            485.378\n",
      "Sample:                    01-31-1965   HQIC                           479.583\n",
      "                         - 12-31-1980                                         \n",
      "Covariance Type:                  opg                                         \n",
      "==============================================================================\n",
      "                 coef    std err          z      P>|z|      [0.025      0.975]\n",
      "------------------------------------------------------------------------------\n",
      "ar.L1          1.6914      0.064     26.620      0.000       1.567       1.816\n",
      "ar.L2         -0.6913      0.063    -10.892      0.000      -0.816      -0.567\n",
      "sigma2         0.6934      0.084      8.301      0.000       0.530       0.857\n",
      "===================================================================================\n",
      "Ljung-Box (L1) (Q):                  19.19   Jarque-Bera (JB):                 2.84\n",
      "Prob(Q):                              0.00   Prob(JB):                         0.24\n",
      "Heteroskedasticity (H):               1.04   Skew:                             0.21\n",
      "Prob(H) (two-sided):                  0.89   Kurtosis:                         2.57\n",
      "===================================================================================\n",
      "\n",
      "Warnings:\n",
      "[1] Covariance matrix calculated using the outer product of gradients (complex-step).\n"
     ]
    },
    {
     "name": "stderr",
     "output_type": "stream",
     "text": [
      "D:\\softwarefordse\\lib\\site-packages\\statsmodels\\tsa\\base\\tsa_model.py:524: ValueWarning: No frequency information was provided, so inferred frequency M will be used.\n",
      "  warnings.warn('No frequency information was'\n",
      "D:\\softwarefordse\\lib\\site-packages\\statsmodels\\tsa\\base\\tsa_model.py:524: ValueWarning: No frequency information was provided, so inferred frequency M will be used.\n",
      "  warnings.warn('No frequency information was'\n"
     ]
    }
   ],
   "source": [
    "mod = sm.tsa.statespace.SARIMAX(df['CO2 ppm'],\n",
    "                                order=(2,0,0),\n",
    "                               \n",
    "                                enforce_stationarity=False,\n",
    "                                enforce_invertibility=False)\n",
    "results_SARIMA = mod.fit()\n",
    "print(results_SARIMA.summary())"
   ]
  },
  {
   "cell_type": "markdown",
   "metadata": {},
   "source": [
    "# Forecast the values for the next 24 months using the SARIMA model built and plot them along with confidence intervals. Also, plot the existing time series data in this graph."
   ]
  },
  {
   "cell_type": "code",
   "execution_count": 49,
   "metadata": {},
   "outputs": [
    {
     "data": {
      "text/html": [
       "<div>\n",
       "<style scoped>\n",
       "    .dataframe tbody tr th:only-of-type {\n",
       "        vertical-align: middle;\n",
       "    }\n",
       "\n",
       "    .dataframe tbody tr th {\n",
       "        vertical-align: top;\n",
       "    }\n",
       "\n",
       "    .dataframe thead th {\n",
       "        text-align: right;\n",
       "    }\n",
       "</style>\n",
       "<table border=\"1\" class=\"dataframe\">\n",
       "  <thead>\n",
       "    <tr style=\"text-align: right;\">\n",
       "      <th></th>\n",
       "      <th>forecast</th>\n",
       "      <th>lower_ci_95</th>\n",
       "      <th>upper_ci_95</th>\n",
       "      <th>lower_ci_99</th>\n",
       "      <th>upper_ci_99</th>\n",
       "    </tr>\n",
       "  </thead>\n",
       "  <tbody>\n",
       "    <tr>\n",
       "      <th>1981-01-01</th>\n",
       "      <td>338.813865</td>\n",
       "      <td>337.181756</td>\n",
       "      <td>340.445975</td>\n",
       "      <td>337.181756</td>\n",
       "      <td>340.445975</td>\n",
       "    </tr>\n",
       "    <tr>\n",
       "      <th>1981-02-01</th>\n",
       "      <td>339.152910</td>\n",
       "      <td>335.945963</td>\n",
       "      <td>342.359857</td>\n",
       "      <td>335.945963</td>\n",
       "      <td>342.359857</td>\n",
       "    </tr>\n",
       "    <tr>\n",
       "      <th>1981-03-01</th>\n",
       "      <td>339.412601</td>\n",
       "      <td>334.635302</td>\n",
       "      <td>344.189899</td>\n",
       "      <td>334.635302</td>\n",
       "      <td>344.189899</td>\n",
       "    </tr>\n",
       "    <tr>\n",
       "      <th>1981-04-01</th>\n",
       "      <td>339.617450</td>\n",
       "      <td>333.334587</td>\n",
       "      <td>345.900313</td>\n",
       "      <td>333.334587</td>\n",
       "      <td>345.900313</td>\n",
       "    </tr>\n",
       "    <tr>\n",
       "      <th>1981-05-01</th>\n",
       "      <td>339.784401</td>\n",
       "      <td>332.082878</td>\n",
       "      <td>347.485924</td>\n",
       "      <td>332.082878</td>\n",
       "      <td>347.485924</td>\n",
       "    </tr>\n",
       "  </tbody>\n",
       "</table>\n",
       "</div>"
      ],
      "text/plain": [
       "              forecast  lower_ci_95  upper_ci_95  lower_ci_99  upper_ci_99\n",
       "1981-01-01  338.813865   337.181756   340.445975   337.181756   340.445975\n",
       "1981-02-01  339.152910   335.945963   342.359857   335.945963   342.359857\n",
       "1981-03-01  339.412601   334.635302   344.189899   334.635302   344.189899\n",
       "1981-04-01  339.617450   333.334587   345.900313   333.334587   345.900313\n",
       "1981-05-01  339.784401   332.082878   347.485924   332.082878   347.485924"
      ]
     },
     "execution_count": 49,
     "metadata": {},
     "output_type": "execute_result"
    }
   ],
   "source": [
    "# Get forecast 36 steps (3 years) ahead in future\n",
    "n_steps = 24\n",
    "pred_uc_99 = results_SARIMA.get_forecast(steps=24, alpha=0.01) # alpha=0.01 signifies 99% confidence interval\n",
    "pred_uc_95 = results_SARIMA.get_forecast(steps=24, alpha=0.05) # alpha=0.05 signifies 95% confidence interval\n",
    "\n",
    "# Get confidence intervals 95% & 99% of the forecasts\n",
    "pred_ci_99 = pred_uc_99.conf_int()\n",
    "pred_ci_95 = pred_uc_95.conf_int()\n",
    "\n",
    "idx = pd.date_range(df.index[-1], periods=n_steps, freq='MS')#defining the date range for 3 years\n",
    "#into the future\n",
    "\n",
    "fc_95 = pd.DataFrame(np.column_stack([pred_uc_95.predicted_mean,  pred_ci_95]), \n",
    "                     index=idx, columns=['forecast', 'lower_ci_95', 'upper_ci_95'])#creating a data frame\n",
    "#by raising the results to the appropriate power for suitable predicted values - For 95% confidence interval\n",
    "\n",
    "fc_99 = pd.DataFrame(np.column_stack([ pred_ci_99]), \n",
    "                     index=idx, columns=['lower_ci_99', 'upper_ci_99'])#creating a data frame\n",
    "#by raising the results to the appropriate power for suitable predicted values - For 99% confidence interval\n",
    "\n",
    "fc_all = fc_95.combine_first(fc_99)\n",
    "\n",
    "fc_all = fc_all[['forecast', 'lower_ci_95', 'upper_ci_95', 'lower_ci_99', 'upper_ci_99']]# just reordering \n",
    "#columns\n",
    "\n",
    "fc_all.head()"
   ]
  },
  {
   "cell_type": "code",
   "execution_count": 50,
   "metadata": {},
   "outputs": [
    {
     "data": {
      "image/png": "[encoded data removed]",
      "text/plain": [
       "<Figure size 576x288 with 1 Axes>"
      ]
     },
     "metadata": {
      "needs_background": "light"
     },
     "output_type": "display_data"
    }
   ],
   "source": [
    "axis = df['CO2 ppm'].plot(label='Observed', figsize=(8, 4))\n",
    "fc_all['forecast'].plot(ax=axis, label='Forecast', alpha=0.7)\n",
    "axis.fill_between(fc_all.index, fc_all['lower_ci_95'], fc_all['upper_ci_95'], color='k', alpha=.15)\n",
    "axis.set_xlabel('Years')\n",
    "axis.set_ylabel('CO2 ppm')\n",
    "plt.legend(loc='best')\n",
    "plt.show()"
   ]
  },
  {
   "cell_type": "markdown",
   "metadata": {},
   "source": [
    "# Build a model on the whole data using the parameters got from best fit (with respect to the lowest AIC value) SARIMA model. Consider a degree of differencing on the Seasonal scale as well."
   ]
  },
  {
   "cell_type": "code",
   "execution_count": 51,
   "metadata": {},
   "outputs": [
    {
     "name": "stdout",
     "output_type": "stream",
     "text": [
      "Examples of parameter combinations for Model...\n",
      "Model: (0, 0, 1)(0, 0, 1, 12)\n",
      "Model: (0, 0, 1)(0, 1, 0, 12)\n",
      "Model: (0, 1, 0)(0, 1, 1, 12)\n",
      "Model: (0, 1, 0)(1, 0, 0, 12)\n",
      "Empty DataFrame\n",
      "Columns: [param, seasonal, AIC]\n",
      "Index: []\n"
     ]
    }
   ],
   "source": [
    "model_pdq = [(x[0], x[1], x[2], 12) for x in list(itertools.product(p, d, q))]\n",
    "print('Examples of parameter combinations for Model...')\n",
    "print('Model: {}{}'.format(pdq[1], model_pdq[1]))\n",
    "print('Model: {}{}'.format(pdq[1], model_pdq[2]))\n",
    "print('Model: {}{}'.format(pdq[2], model_pdq[3]))\n",
    "print('Model: {}{}'.format(pdq[2], model_pdq[4]))\n",
    "SARIMA_AIC = pd.DataFrame(columns=['param','seasonal', 'AIC'])\n",
    "print(SARIMA_AIC)"
   ]
  },
  {
   "cell_type": "code",
   "execution_count": 52,
   "metadata": {},
   "outputs": [
    {
     "name": "stderr",
     "output_type": "stream",
     "text": [
      "D:\\softwarefordse\\lib\\site-packages\\statsmodels\\tsa\\base\\tsa_model.py:524: ValueWarning: No frequency information was provided, so inferred frequency M will be used.\n",
      "  warnings.warn('No frequency information was'\n",
      "D:\\softwarefordse\\lib\\site-packages\\statsmodels\\tsa\\base\\tsa_model.py:524: ValueWarning: No frequency information was provided, so inferred frequency M will be used.\n",
      "  warnings.warn('No frequency information was'\n",
      "D:\\softwarefordse\\lib\\site-packages\\statsmodels\\tsa\\base\\tsa_model.py:524: ValueWarning: No frequency information was provided, so inferred frequency M will be used.\n",
      "  warnings.warn('No frequency information was'\n",
      "D:\\softwarefordse\\lib\\site-packages\\statsmodels\\tsa\\base\\tsa_model.py:524: ValueWarning: No frequency information was provided, so inferred frequency M will be used.\n",
      "  warnings.warn('No frequency information was'\n",
      "D:\\softwarefordse\\lib\\site-packages\\statsmodels\\tsa\\base\\tsa_model.py:524: ValueWarning: No frequency information was provided, so inferred frequency M will be used.\n",
      "  warnings.warn('No frequency information was'\n",
      "D:\\softwarefordse\\lib\\site-packages\\statsmodels\\tsa\\base\\tsa_model.py:524: ValueWarning: No frequency information was provided, so inferred frequency M will be used.\n",
      "  warnings.warn('No frequency information was'\n",
      "D:\\softwarefordse\\lib\\site-packages\\statsmodels\\tsa\\base\\tsa_model.py:524: ValueWarning: No frequency information was provided, so inferred frequency M will be used.\n",
      "  warnings.warn('No frequency information was'\n"
     ]
    },
    {
     "name": "stdout",
     "output_type": "stream",
     "text": [
      "SARIMA(0, 0, 0)x(0, 0, 0, 12)12 - AIC:2757.623493854996\n",
      "SARIMA(0, 0, 0)x(0, 0, 1, 12)12 - AIC:2382.549952046173\n",
      "SARIMA(0, 0, 0)x(0, 1, 0, 12)12 - AIC:629.4872954777325\n"
     ]
    },
    {
     "name": "stderr",
     "output_type": "stream",
     "text": [
      "D:\\softwarefordse\\lib\\site-packages\\statsmodels\\tsa\\base\\tsa_model.py:524: ValueWarning: No frequency information was provided, so inferred frequency M will be used.\n",
      "  warnings.warn('No frequency information was'\n",
      "D:\\softwarefordse\\lib\\site-packages\\statsmodels\\tsa\\base\\tsa_model.py:524: ValueWarning: No frequency information was provided, so inferred frequency M will be used.\n",
      "  warnings.warn('No frequency information was'\n",
      "D:\\softwarefordse\\lib\\site-packages\\statsmodels\\tsa\\base\\tsa_model.py:524: ValueWarning: No frequency information was provided, so inferred frequency M will be used.\n",
      "  warnings.warn('No frequency information was'\n",
      "D:\\softwarefordse\\lib\\site-packages\\statsmodels\\tsa\\base\\tsa_model.py:524: ValueWarning: No frequency information was provided, so inferred frequency M will be used.\n",
      "  warnings.warn('No frequency information was'\n"
     ]
    },
    {
     "name": "stdout",
     "output_type": "stream",
     "text": [
      "SARIMA(0, 0, 0)x(0, 1, 1, 12)12 - AIC:528.5145356272412\n",
      "SARIMA(0, 0, 0)x(1, 0, 0, 12)12 - AIC:348.2291417665366\n",
      "SARIMA(0, 0, 0)x(1, 0, 1, 12)12 - AIC:339.224632936892\n"
     ]
    },
    {
     "name": "stderr",
     "output_type": "stream",
     "text": [
      "D:\\softwarefordse\\lib\\site-packages\\statsmodels\\tsa\\base\\tsa_model.py:524: ValueWarning: No frequency information was provided, so inferred frequency M will be used.\n",
      "  warnings.warn('No frequency information was'\n",
      "D:\\softwarefordse\\lib\\site-packages\\statsmodels\\tsa\\base\\tsa_model.py:524: ValueWarning: No frequency information was provided, so inferred frequency M will be used.\n",
      "  warnings.warn('No frequency information was'\n",
      "D:\\softwarefordse\\lib\\site-packages\\statsmodels\\tsa\\base\\tsa_model.py:524: ValueWarning: No frequency information was provided, so inferred frequency M will be used.\n",
      "  warnings.warn('No frequency information was'\n",
      "D:\\softwarefordse\\lib\\site-packages\\statsmodels\\tsa\\base\\tsa_model.py:524: ValueWarning: No frequency information was provided, so inferred frequency M will be used.\n",
      "  warnings.warn('No frequency information was'\n",
      "D:\\softwarefordse\\lib\\site-packages\\statsmodels\\tsa\\base\\tsa_model.py:524: ValueWarning: No frequency information was provided, so inferred frequency M will be used.\n",
      "  warnings.warn('No frequency information was'\n"
     ]
    },
    {
     "name": "stdout",
     "output_type": "stream",
     "text": [
      "SARIMA(0, 0, 0)x(1, 1, 0, 12)12 - AIC:450.69157255941025\n",
      "SARIMA(0, 0, 0)x(1, 1, 1, 12)12 - AIC:357.6034466651661\n"
     ]
    },
    {
     "name": "stderr",
     "output_type": "stream",
     "text": [
      "D:\\softwarefordse\\lib\\site-packages\\statsmodels\\tsa\\base\\tsa_model.py:524: ValueWarning: No frequency information was provided, so inferred frequency M will be used.\n",
      "  warnings.warn('No frequency information was'\n",
      "D:\\softwarefordse\\lib\\site-packages\\statsmodels\\tsa\\base\\tsa_model.py:524: ValueWarning: No frequency information was provided, so inferred frequency M will be used.\n",
      "  warnings.warn('No frequency information was'\n",
      "D:\\softwarefordse\\lib\\site-packages\\statsmodels\\tsa\\base\\tsa_model.py:524: ValueWarning: No frequency information was provided, so inferred frequency M will be used.\n",
      "  warnings.warn('No frequency information was'\n",
      "D:\\softwarefordse\\lib\\site-packages\\statsmodels\\tsa\\base\\tsa_model.py:524: ValueWarning: No frequency information was provided, so inferred frequency M will be used.\n",
      "  warnings.warn('No frequency information was'\n"
     ]
    },
    {
     "name": "stdout",
     "output_type": "stream",
     "text": [
      "SARIMA(0, 0, 1)x(0, 0, 0, 12)12 - AIC:2488.00653850036\n",
      "SARIMA(0, 0, 1)x(0, 0, 1, 12)12 - AIC:2129.6896221574298\n",
      "SARIMA(0, 0, 1)x(0, 1, 0, 12)12 - AIC:455.8599037934947\n",
      "SARIMA(0, 0, 1)x(0, 1, 1, 12)12 - AIC:406.0726202130736\n"
     ]
    },
    {
     "name": "stderr",
     "output_type": "stream",
     "text": [
      "D:\\softwarefordse\\lib\\site-packages\\statsmodels\\tsa\\base\\tsa_model.py:524: ValueWarning: No frequency information was provided, so inferred frequency M will be used.\n",
      "  warnings.warn('No frequency information was'\n",
      "D:\\softwarefordse\\lib\\site-packages\\statsmodels\\tsa\\base\\tsa_model.py:524: ValueWarning: No frequency information was provided, so inferred frequency M will be used.\n",
      "  warnings.warn('No frequency information was'\n",
      "D:\\softwarefordse\\lib\\site-packages\\statsmodels\\tsa\\base\\tsa_model.py:524: ValueWarning: No frequency information was provided, so inferred frequency M will be used.\n",
      "  warnings.warn('No frequency information was'\n",
      "D:\\softwarefordse\\lib\\site-packages\\statsmodels\\tsa\\base\\tsa_model.py:524: ValueWarning: No frequency information was provided, so inferred frequency M will be used.\n",
      "  warnings.warn('No frequency information was'\n",
      "D:\\softwarefordse\\lib\\site-packages\\statsmodels\\tsa\\base\\tsa_model.py:524: ValueWarning: No frequency information was provided, so inferred frequency M will be used.\n",
      "  warnings.warn('No frequency information was'\n",
      "D:\\softwarefordse\\lib\\site-packages\\statsmodels\\tsa\\base\\tsa_model.py:524: ValueWarning: No frequency information was provided, so inferred frequency M will be used.\n",
      "  warnings.warn('No frequency information was'\n"
     ]
    },
    {
     "name": "stdout",
     "output_type": "stream",
     "text": [
      "SARIMA(0, 0, 1)x(1, 0, 0, 12)12 - AIC:251.81055725073804\n"
     ]
    },
    {
     "name": "stderr",
     "output_type": "stream",
     "text": [
      "D:\\softwarefordse\\lib\\site-packages\\statsmodels\\tsa\\base\\tsa_model.py:524: ValueWarning: No frequency information was provided, so inferred frequency M will be used.\n",
      "  warnings.warn('No frequency information was'\n",
      "D:\\softwarefordse\\lib\\site-packages\\statsmodels\\tsa\\base\\tsa_model.py:524: ValueWarning: No frequency information was provided, so inferred frequency M will be used.\n",
      "  warnings.warn('No frequency information was'\n",
      "D:\\softwarefordse\\lib\\site-packages\\statsmodels\\base\\model.py:566: ConvergenceWarning: Maximum Likelihood optimization failed to converge. Check mle_retvals\n",
      "  warnings.warn(\"Maximum Likelihood optimization failed to \"\n",
      "D:\\softwarefordse\\lib\\site-packages\\statsmodels\\tsa\\base\\tsa_model.py:524: ValueWarning: No frequency information was provided, so inferred frequency M will be used.\n",
      "  warnings.warn('No frequency information was'\n",
      "D:\\softwarefordse\\lib\\site-packages\\statsmodels\\tsa\\base\\tsa_model.py:524: ValueWarning: No frequency information was provided, so inferred frequency M will be used.\n",
      "  warnings.warn('No frequency information was'\n",
      "D:\\softwarefordse\\lib\\site-packages\\statsmodels\\tsa\\base\\tsa_model.py:524: ValueWarning: No frequency information was provided, so inferred frequency M will be used.\n",
      "  warnings.warn('No frequency information was'\n",
      "D:\\softwarefordse\\lib\\site-packages\\statsmodels\\tsa\\base\\tsa_model.py:524: ValueWarning: No frequency information was provided, so inferred frequency M will be used.\n",
      "  warnings.warn('No frequency information was'\n"
     ]
    },
    {
     "name": "stdout",
     "output_type": "stream",
     "text": [
      "SARIMA(0, 0, 1)x(1, 0, 1, 12)12 - AIC:383.5572229167212\n",
      "SARIMA(0, 0, 1)x(1, 1, 0, 12)12 - AIC:366.54848379745704\n",
      "SARIMA(0, 0, 1)x(1, 1, 1, 12)12 - AIC:269.97361060780855\n",
      "SARIMA(0, 1, 0)x(0, 0, 0, 12)12 - AIC:596.6907012537115\n"
     ]
    },
    {
     "name": "stderr",
     "output_type": "stream",
     "text": [
      "D:\\softwarefordse\\lib\\site-packages\\statsmodels\\tsa\\base\\tsa_model.py:524: ValueWarning: No frequency information was provided, so inferred frequency M will be used.\n",
      "  warnings.warn('No frequency information was'\n",
      "D:\\softwarefordse\\lib\\site-packages\\statsmodels\\tsa\\base\\tsa_model.py:524: ValueWarning: No frequency information was provided, so inferred frequency M will be used.\n",
      "  warnings.warn('No frequency information was'\n",
      "D:\\softwarefordse\\lib\\site-packages\\statsmodels\\tsa\\base\\tsa_model.py:524: ValueWarning: No frequency information was provided, so inferred frequency M will be used.\n",
      "  warnings.warn('No frequency information was'\n",
      "D:\\softwarefordse\\lib\\site-packages\\statsmodels\\tsa\\base\\tsa_model.py:524: ValueWarning: No frequency information was provided, so inferred frequency M will be used.\n",
      "  warnings.warn('No frequency information was'\n"
     ]
    },
    {
     "name": "stdout",
     "output_type": "stream",
     "text": [
      "SARIMA(0, 1, 0)x(0, 0, 1, 12)12 - AIC:435.4344955898867\n",
      "SARIMA(0, 1, 0)x(0, 1, 0, 12)12 - AIC:189.35384235416882\n"
     ]
    },
    {
     "name": "stderr",
     "output_type": "stream",
     "text": [
      "D:\\softwarefordse\\lib\\site-packages\\statsmodels\\tsa\\base\\tsa_model.py:524: ValueWarning: No frequency information was provided, so inferred frequency M will be used.\n",
      "  warnings.warn('No frequency information was'\n",
      "D:\\softwarefordse\\lib\\site-packages\\statsmodels\\tsa\\base\\tsa_model.py:524: ValueWarning: No frequency information was provided, so inferred frequency M will be used.\n",
      "  warnings.warn('No frequency information was'\n",
      "D:\\softwarefordse\\lib\\site-packages\\statsmodels\\tsa\\base\\tsa_model.py:524: ValueWarning: No frequency information was provided, so inferred frequency M will be used.\n",
      "  warnings.warn('No frequency information was'\n",
      "D:\\softwarefordse\\lib\\site-packages\\statsmodels\\tsa\\base\\tsa_model.py:524: ValueWarning: No frequency information was provided, so inferred frequency M will be used.\n",
      "  warnings.warn('No frequency information was'\n"
     ]
    },
    {
     "name": "stdout",
     "output_type": "stream",
     "text": [
      "SARIMA(0, 1, 0)x(0, 1, 1, 12)12 - AIC:106.94291402366787\n",
      "SARIMA(0, 1, 0)x(1, 0, 0, 12)12 - AIC:187.3994984510975\n",
      "SARIMA(0, 1, 0)x(1, 0, 1, 12)12 - AIC:132.3294750907817\n"
     ]
    },
    {
     "name": "stderr",
     "output_type": "stream",
     "text": [
      "D:\\softwarefordse\\lib\\site-packages\\statsmodels\\tsa\\base\\tsa_model.py:524: ValueWarning: No frequency information was provided, so inferred frequency M will be used.\n",
      "  warnings.warn('No frequency information was'\n",
      "D:\\softwarefordse\\lib\\site-packages\\statsmodels\\tsa\\base\\tsa_model.py:524: ValueWarning: No frequency information was provided, so inferred frequency M will be used.\n",
      "  warnings.warn('No frequency information was'\n",
      "D:\\softwarefordse\\lib\\site-packages\\statsmodels\\tsa\\base\\tsa_model.py:524: ValueWarning: No frequency information was provided, so inferred frequency M will be used.\n",
      "  warnings.warn('No frequency information was'\n",
      "D:\\softwarefordse\\lib\\site-packages\\statsmodels\\tsa\\base\\tsa_model.py:524: ValueWarning: No frequency information was provided, so inferred frequency M will be used.\n",
      "  warnings.warn('No frequency information was'\n",
      "D:\\softwarefordse\\lib\\site-packages\\statsmodels\\tsa\\base\\tsa_model.py:524: ValueWarning: No frequency information was provided, so inferred frequency M will be used.\n",
      "  warnings.warn('No frequency information was'\n",
      "D:\\softwarefordse\\lib\\site-packages\\statsmodels\\tsa\\base\\tsa_model.py:524: ValueWarning: No frequency information was provided, so inferred frequency M will be used.\n",
      "  warnings.warn('No frequency information was'\n"
     ]
    },
    {
     "name": "stdout",
     "output_type": "stream",
     "text": [
      "SARIMA(0, 1, 0)x(1, 1, 0, 12)12 - AIC:124.38091770951632\n",
      "SARIMA(0, 1, 0)x(1, 1, 1, 12)12 - AIC:106.0433751321631\n"
     ]
    },
    {
     "name": "stderr",
     "output_type": "stream",
     "text": [
      "D:\\softwarefordse\\lib\\site-packages\\statsmodels\\tsa\\base\\tsa_model.py:524: ValueWarning: No frequency information was provided, so inferred frequency M will be used.\n",
      "  warnings.warn('No frequency information was'\n",
      "D:\\softwarefordse\\lib\\site-packages\\statsmodels\\tsa\\base\\tsa_model.py:524: ValueWarning: No frequency information was provided, so inferred frequency M will be used.\n",
      "  warnings.warn('No frequency information was'\n",
      "D:\\softwarefordse\\lib\\site-packages\\statsmodels\\tsa\\base\\tsa_model.py:524: ValueWarning: No frequency information was provided, so inferred frequency M will be used.\n",
      "  warnings.warn('No frequency information was'\n",
      "D:\\softwarefordse\\lib\\site-packages\\statsmodels\\tsa\\base\\tsa_model.py:524: ValueWarning: No frequency information was provided, so inferred frequency M will be used.\n",
      "  warnings.warn('No frequency information was'\n",
      "D:\\softwarefordse\\lib\\site-packages\\statsmodels\\tsa\\base\\tsa_model.py:524: ValueWarning: No frequency information was provided, so inferred frequency M will be used.\n",
      "  warnings.warn('No frequency information was'\n"
     ]
    },
    {
     "name": "stdout",
     "output_type": "stream",
     "text": [
      "SARIMA(0, 1, 1)x(0, 0, 0, 12)12 - AIC:487.6909060582385\n",
      "SARIMA(0, 1, 1)x(0, 0, 1, 12)12 - AIC:384.26603982610266\n",
      "SARIMA(0, 1, 1)x(0, 1, 0, 12)12 - AIC:184.43417789305437\n"
     ]
    },
    {
     "name": "stderr",
     "output_type": "stream",
     "text": [
      "D:\\softwarefordse\\lib\\site-packages\\statsmodels\\tsa\\base\\tsa_model.py:524: ValueWarning: No frequency information was provided, so inferred frequency M will be used.\n",
      "  warnings.warn('No frequency information was'\n",
      "D:\\softwarefordse\\lib\\site-packages\\statsmodels\\tsa\\base\\tsa_model.py:524: ValueWarning: No frequency information was provided, so inferred frequency M will be used.\n",
      "  warnings.warn('No frequency information was'\n",
      "D:\\softwarefordse\\lib\\site-packages\\statsmodels\\tsa\\base\\tsa_model.py:524: ValueWarning: No frequency information was provided, so inferred frequency M will be used.\n",
      "  warnings.warn('No frequency information was'\n",
      "D:\\softwarefordse\\lib\\site-packages\\statsmodels\\tsa\\base\\tsa_model.py:524: ValueWarning: No frequency information was provided, so inferred frequency M will be used.\n",
      "  warnings.warn('No frequency information was'\n",
      "D:\\softwarefordse\\lib\\site-packages\\statsmodels\\tsa\\base\\tsa_model.py:524: ValueWarning: No frequency information was provided, so inferred frequency M will be used.\n",
      "  warnings.warn('No frequency information was'\n"
     ]
    },
    {
     "name": "stdout",
     "output_type": "stream",
     "text": [
      "SARIMA(0, 1, 1)x(0, 1, 1, 12)12 - AIC:93.80046764824803\n",
      "SARIMA(0, 1, 1)x(1, 0, 0, 12)12 - AIC:185.1174245955596\n"
     ]
    },
    {
     "name": "stderr",
     "output_type": "stream",
     "text": [
      "D:\\softwarefordse\\lib\\site-packages\\statsmodels\\tsa\\base\\tsa_model.py:524: ValueWarning: No frequency information was provided, so inferred frequency M will be used.\n",
      "  warnings.warn('No frequency information was'\n",
      "D:\\softwarefordse\\lib\\site-packages\\statsmodels\\tsa\\base\\tsa_model.py:524: ValueWarning: No frequency information was provided, so inferred frequency M will be used.\n",
      "  warnings.warn('No frequency information was'\n",
      "D:\\softwarefordse\\lib\\site-packages\\statsmodels\\tsa\\base\\tsa_model.py:524: ValueWarning: No frequency information was provided, so inferred frequency M will be used.\n",
      "  warnings.warn('No frequency information was'\n",
      "D:\\softwarefordse\\lib\\site-packages\\statsmodels\\tsa\\base\\tsa_model.py:524: ValueWarning: No frequency information was provided, so inferred frequency M will be used.\n",
      "  warnings.warn('No frequency information was'\n"
     ]
    },
    {
     "name": "stdout",
     "output_type": "stream",
     "text": [
      "SARIMA(0, 1, 1)x(1, 0, 1, 12)12 - AIC:117.47266328633137\n",
      "SARIMA(0, 1, 1)x(1, 1, 0, 12)12 - AIC:119.58558053648312\n"
     ]
    },
    {
     "name": "stderr",
     "output_type": "stream",
     "text": [
      "D:\\softwarefordse\\lib\\site-packages\\statsmodels\\tsa\\base\\tsa_model.py:524: ValueWarning: No frequency information was provided, so inferred frequency M will be used.\n",
      "  warnings.warn('No frequency information was'\n",
      "D:\\softwarefordse\\lib\\site-packages\\statsmodels\\tsa\\base\\tsa_model.py:524: ValueWarning: No frequency information was provided, so inferred frequency M will be used.\n",
      "  warnings.warn('No frequency information was'\n",
      "D:\\softwarefordse\\lib\\site-packages\\statsmodels\\tsa\\base\\tsa_model.py:524: ValueWarning: No frequency information was provided, so inferred frequency M will be used.\n",
      "  warnings.warn('No frequency information was'\n",
      "D:\\softwarefordse\\lib\\site-packages\\statsmodels\\tsa\\base\\tsa_model.py:524: ValueWarning: No frequency information was provided, so inferred frequency M will be used.\n",
      "  warnings.warn('No frequency information was'\n"
     ]
    },
    {
     "name": "stdout",
     "output_type": "stream",
     "text": [
      "SARIMA(0, 1, 1)x(1, 1, 1, 12)12 - AIC:94.67260115510092\n",
      "SARIMA(1, 0, 0)x(0, 0, 0, 12)12 - AIC:600.258801957887\n",
      "SARIMA(1, 0, 0)x(0, 0, 1, 12)12 - AIC:575.7036360404603\n"
     ]
    },
    {
     "name": "stderr",
     "output_type": "stream",
     "text": [
      "D:\\softwarefordse\\lib\\site-packages\\statsmodels\\tsa\\base\\tsa_model.py:524: ValueWarning: No frequency information was provided, so inferred frequency M will be used.\n",
      "  warnings.warn('No frequency information was'\n",
      "D:\\softwarefordse\\lib\\site-packages\\statsmodels\\tsa\\base\\tsa_model.py:524: ValueWarning: No frequency information was provided, so inferred frequency M will be used.\n",
      "  warnings.warn('No frequency information was'\n",
      "D:\\softwarefordse\\lib\\site-packages\\statsmodels\\tsa\\base\\tsa_model.py:524: ValueWarning: No frequency information was provided, so inferred frequency M will be used.\n",
      "  warnings.warn('No frequency information was'\n",
      "D:\\softwarefordse\\lib\\site-packages\\statsmodels\\tsa\\base\\tsa_model.py:524: ValueWarning: No frequency information was provided, so inferred frequency M will be used.\n",
      "  warnings.warn('No frequency information was'\n",
      "D:\\softwarefordse\\lib\\site-packages\\statsmodels\\tsa\\base\\tsa_model.py:524: ValueWarning: No frequency information was provided, so inferred frequency M will be used.\n",
      "  warnings.warn('No frequency information was'\n",
      "D:\\softwarefordse\\lib\\site-packages\\statsmodels\\tsa\\base\\tsa_model.py:524: ValueWarning: No frequency information was provided, so inferred frequency M will be used.\n",
      "  warnings.warn('No frequency information was'\n"
     ]
    },
    {
     "name": "stdout",
     "output_type": "stream",
     "text": [
      "SARIMA(1, 0, 0)x(0, 1, 0, 12)12 - AIC:188.24307692713248\n",
      "SARIMA(1, 0, 0)x(0, 1, 1, 12)12 - AIC:114.68408203340834\n"
     ]
    },
    {
     "name": "stderr",
     "output_type": "stream",
     "text": [
      "D:\\softwarefordse\\lib\\site-packages\\statsmodels\\tsa\\base\\tsa_model.py:524: ValueWarning: No frequency information was provided, so inferred frequency M will be used.\n",
      "  warnings.warn('No frequency information was'\n",
      "D:\\softwarefordse\\lib\\site-packages\\statsmodels\\tsa\\base\\tsa_model.py:524: ValueWarning: No frequency information was provided, so inferred frequency M will be used.\n",
      "  warnings.warn('No frequency information was'\n",
      "D:\\softwarefordse\\lib\\site-packages\\statsmodels\\tsa\\base\\tsa_model.py:524: ValueWarning: No frequency information was provided, so inferred frequency M will be used.\n",
      "  warnings.warn('No frequency information was'\n",
      "D:\\softwarefordse\\lib\\site-packages\\statsmodels\\tsa\\base\\tsa_model.py:524: ValueWarning: No frequency information was provided, so inferred frequency M will be used.\n",
      "  warnings.warn('No frequency information was'\n"
     ]
    },
    {
     "name": "stdout",
     "output_type": "stream",
     "text": [
      "SARIMA(1, 0, 0)x(1, 0, 0, 12)12 - AIC:173.9623046738782\n"
     ]
    },
    {
     "name": "stderr",
     "output_type": "stream",
     "text": [
      "D:\\softwarefordse\\lib\\site-packages\\statsmodels\\tsa\\base\\tsa_model.py:524: ValueWarning: No frequency information was provided, so inferred frequency M will be used.\n",
      "  warnings.warn('No frequency information was'\n",
      "D:\\softwarefordse\\lib\\site-packages\\statsmodels\\tsa\\base\\tsa_model.py:524: ValueWarning: No frequency information was provided, so inferred frequency M will be used.\n",
      "  warnings.warn('No frequency information was'\n"
     ]
    },
    {
     "name": "stdout",
     "output_type": "stream",
     "text": [
      "SARIMA(1, 0, 0)x(1, 0, 1, 12)12 - AIC:119.90776698692125\n",
      "SARIMA(1, 0, 0)x(1, 1, 0, 12)12 - AIC:125.47986935623112\n"
     ]
    },
    {
     "name": "stderr",
     "output_type": "stream",
     "text": [
      "D:\\softwarefordse\\lib\\site-packages\\statsmodels\\tsa\\base\\tsa_model.py:524: ValueWarning: No frequency information was provided, so inferred frequency M will be used.\n",
      "  warnings.warn('No frequency information was'\n",
      "D:\\softwarefordse\\lib\\site-packages\\statsmodels\\tsa\\base\\tsa_model.py:524: ValueWarning: No frequency information was provided, so inferred frequency M will be used.\n",
      "  warnings.warn('No frequency information was'\n",
      "D:\\softwarefordse\\lib\\site-packages\\statsmodels\\tsa\\base\\tsa_model.py:524: ValueWarning: No frequency information was provided, so inferred frequency M will be used.\n",
      "  warnings.warn('No frequency information was'\n",
      "D:\\softwarefordse\\lib\\site-packages\\statsmodels\\tsa\\base\\tsa_model.py:524: ValueWarning: No frequency information was provided, so inferred frequency M will be used.\n",
      "  warnings.warn('No frequency information was'\n"
     ]
    },
    {
     "name": "stdout",
     "output_type": "stream",
     "text": [
      "SARIMA(1, 0, 0)x(1, 1, 1, 12)12 - AIC:110.24879109472283\n",
      "SARIMA(1, 0, 1)x(0, 0, 0, 12)12 - AIC:490.9930761276106\n"
     ]
    },
    {
     "name": "stderr",
     "output_type": "stream",
     "text": [
      "D:\\softwarefordse\\lib\\site-packages\\statsmodels\\tsa\\base\\tsa_model.py:524: ValueWarning: No frequency information was provided, so inferred frequency M will be used.\n",
      "  warnings.warn('No frequency information was'\n",
      "D:\\softwarefordse\\lib\\site-packages\\statsmodels\\tsa\\base\\tsa_model.py:524: ValueWarning: No frequency information was provided, so inferred frequency M will be used.\n",
      "  warnings.warn('No frequency information was'\n",
      "D:\\softwarefordse\\lib\\site-packages\\statsmodels\\tsa\\base\\tsa_model.py:524: ValueWarning: No frequency information was provided, so inferred frequency M will be used.\n",
      "  warnings.warn('No frequency information was'\n",
      "D:\\softwarefordse\\lib\\site-packages\\statsmodels\\tsa\\base\\tsa_model.py:524: ValueWarning: No frequency information was provided, so inferred frequency M will be used.\n",
      "  warnings.warn('No frequency information was'\n"
     ]
    },
    {
     "name": "stdout",
     "output_type": "stream",
     "text": [
      "SARIMA(1, 0, 1)x(0, 0, 1, 12)12 - AIC:462.99566196114847\n",
      "SARIMA(1, 0, 1)x(0, 1, 0, 12)12 - AIC:185.75933324947806\n"
     ]
    },
    {
     "name": "stderr",
     "output_type": "stream",
     "text": [
      "D:\\softwarefordse\\lib\\site-packages\\statsmodels\\tsa\\base\\tsa_model.py:524: ValueWarning: No frequency information was provided, so inferred frequency M will be used.\n",
      "  warnings.warn('No frequency information was'\n",
      "D:\\softwarefordse\\lib\\site-packages\\statsmodels\\tsa\\base\\tsa_model.py:524: ValueWarning: No frequency information was provided, so inferred frequency M will be used.\n",
      "  warnings.warn('No frequency information was'\n",
      "D:\\softwarefordse\\lib\\site-packages\\statsmodels\\tsa\\base\\tsa_model.py:524: ValueWarning: No frequency information was provided, so inferred frequency M will be used.\n",
      "  warnings.warn('No frequency information was'\n",
      "D:\\softwarefordse\\lib\\site-packages\\statsmodels\\tsa\\base\\tsa_model.py:524: ValueWarning: No frequency information was provided, so inferred frequency M will be used.\n",
      "  warnings.warn('No frequency information was'\n"
     ]
    },
    {
     "name": "stdout",
     "output_type": "stream",
     "text": [
      "SARIMA(1, 0, 1)x(0, 1, 1, 12)12 - AIC:95.25405066612868\n"
     ]
    },
    {
     "name": "stderr",
     "output_type": "stream",
     "text": [
      "D:\\softwarefordse\\lib\\site-packages\\statsmodels\\tsa\\base\\tsa_model.py:524: ValueWarning: No frequency information was provided, so inferred frequency M will be used.\n",
      "  warnings.warn('No frequency information was'\n",
      "D:\\softwarefordse\\lib\\site-packages\\statsmodels\\tsa\\base\\tsa_model.py:524: ValueWarning: No frequency information was provided, so inferred frequency M will be used.\n",
      "  warnings.warn('No frequency information was'\n",
      "D:\\softwarefordse\\lib\\site-packages\\statsmodels\\base\\model.py:566: ConvergenceWarning: Maximum Likelihood optimization failed to converge. Check mle_retvals\n",
      "  warnings.warn(\"Maximum Likelihood optimization failed to \"\n",
      "D:\\softwarefordse\\lib\\site-packages\\statsmodels\\tsa\\base\\tsa_model.py:524: ValueWarning: No frequency information was provided, so inferred frequency M will be used.\n",
      "  warnings.warn('No frequency information was'\n",
      "D:\\softwarefordse\\lib\\site-packages\\statsmodels\\tsa\\base\\tsa_model.py:524: ValueWarning: No frequency information was provided, so inferred frequency M will be used.\n",
      "  warnings.warn('No frequency information was'\n"
     ]
    },
    {
     "name": "stdout",
     "output_type": "stream",
     "text": [
      "SARIMA(1, 0, 1)x(1, 0, 0, 12)12 - AIC:192.7881178645839\n"
     ]
    },
    {
     "name": "stderr",
     "output_type": "stream",
     "text": [
      "D:\\softwarefordse\\lib\\site-packages\\statsmodels\\base\\model.py:566: ConvergenceWarning: Maximum Likelihood optimization failed to converge. Check mle_retvals\n",
      "  warnings.warn(\"Maximum Likelihood optimization failed to \"\n",
      "D:\\softwarefordse\\lib\\site-packages\\statsmodels\\tsa\\base\\tsa_model.py:524: ValueWarning: No frequency information was provided, so inferred frequency M will be used.\n",
      "  warnings.warn('No frequency information was'\n",
      "D:\\softwarefordse\\lib\\site-packages\\statsmodels\\tsa\\base\\tsa_model.py:524: ValueWarning: No frequency information was provided, so inferred frequency M will be used.\n",
      "  warnings.warn('No frequency information was'\n"
     ]
    },
    {
     "name": "stdout",
     "output_type": "stream",
     "text": [
      "SARIMA(1, 0, 1)x(1, 0, 1, 12)12 - AIC:123.83795151301311\n",
      "SARIMA(1, 0, 1)x(1, 1, 0, 12)12 - AIC:121.33723206010902\n"
     ]
    },
    {
     "name": "stderr",
     "output_type": "stream",
     "text": [
      "D:\\softwarefordse\\lib\\site-packages\\statsmodels\\tsa\\base\\tsa_model.py:524: ValueWarning: No frequency information was provided, so inferred frequency M will be used.\n",
      "  warnings.warn('No frequency information was'\n",
      "D:\\softwarefordse\\lib\\site-packages\\statsmodels\\tsa\\base\\tsa_model.py:524: ValueWarning: No frequency information was provided, so inferred frequency M will be used.\n",
      "  warnings.warn('No frequency information was'\n"
     ]
    },
    {
     "name": "stdout",
     "output_type": "stream",
     "text": [
      "SARIMA(1, 0, 1)x(1, 1, 1, 12)12 - AIC:97.85187789605237\n",
      "SARIMA(1, 1, 0)x(0, 0, 0, 12)12 - AIC:473.7999332231671\n",
      "SARIMA(1, 1, 0)x(0, 0, 1, 12)12 - AIC:371.3896998667558\n"
     ]
    },
    {
     "name": "stderr",
     "output_type": "stream",
     "text": [
      "D:\\softwarefordse\\lib\\site-packages\\statsmodels\\tsa\\base\\tsa_model.py:524: ValueWarning: No frequency information was provided, so inferred frequency M will be used.\n",
      "  warnings.warn('No frequency information was'\n",
      "D:\\softwarefordse\\lib\\site-packages\\statsmodels\\tsa\\base\\tsa_model.py:524: ValueWarning: No frequency information was provided, so inferred frequency M will be used.\n",
      "  warnings.warn('No frequency information was'\n",
      "D:\\softwarefordse\\lib\\site-packages\\statsmodels\\tsa\\base\\tsa_model.py:524: ValueWarning: No frequency information was provided, so inferred frequency M will be used.\n",
      "  warnings.warn('No frequency information was'\n",
      "D:\\softwarefordse\\lib\\site-packages\\statsmodels\\tsa\\base\\tsa_model.py:524: ValueWarning: No frequency information was provided, so inferred frequency M will be used.\n",
      "  warnings.warn('No frequency information was'\n",
      "D:\\softwarefordse\\lib\\site-packages\\statsmodels\\tsa\\base\\tsa_model.py:524: ValueWarning: No frequency information was provided, so inferred frequency M will be used.\n",
      "  warnings.warn('No frequency information was'\n",
      "D:\\softwarefordse\\lib\\site-packages\\statsmodels\\tsa\\base\\tsa_model.py:524: ValueWarning: No frequency information was provided, so inferred frequency M will be used.\n",
      "  warnings.warn('No frequency information was'\n"
     ]
    },
    {
     "name": "stdout",
     "output_type": "stream",
     "text": [
      "SARIMA(1, 1, 0)x(0, 1, 0, 12)12 - AIC:186.6045964153186\n",
      "SARIMA(1, 1, 0)x(0, 1, 1, 12)12 - AIC:95.9680201723968\n"
     ]
    },
    {
     "name": "stderr",
     "output_type": "stream",
     "text": [
      "D:\\softwarefordse\\lib\\site-packages\\statsmodels\\tsa\\base\\tsa_model.py:524: ValueWarning: No frequency information was provided, so inferred frequency M will be used.\n",
      "  warnings.warn('No frequency information was'\n",
      "D:\\softwarefordse\\lib\\site-packages\\statsmodels\\tsa\\base\\tsa_model.py:524: ValueWarning: No frequency information was provided, so inferred frequency M will be used.\n",
      "  warnings.warn('No frequency information was'\n",
      "D:\\softwarefordse\\lib\\site-packages\\statsmodels\\tsa\\base\\tsa_model.py:524: ValueWarning: No frequency information was provided, so inferred frequency M will be used.\n",
      "  warnings.warn('No frequency information was'\n",
      "D:\\softwarefordse\\lib\\site-packages\\statsmodels\\tsa\\base\\tsa_model.py:524: ValueWarning: No frequency information was provided, so inferred frequency M will be used.\n",
      "  warnings.warn('No frequency information was'\n",
      "D:\\softwarefordse\\lib\\site-packages\\statsmodels\\tsa\\base\\tsa_model.py:524: ValueWarning: No frequency information was provided, so inferred frequency M will be used.\n",
      "  warnings.warn('No frequency information was'\n",
      "D:\\softwarefordse\\lib\\site-packages\\statsmodels\\tsa\\base\\tsa_model.py:524: ValueWarning: No frequency information was provided, so inferred frequency M will be used.\n",
      "  warnings.warn('No frequency information was'\n"
     ]
    },
    {
     "name": "stdout",
     "output_type": "stream",
     "text": [
      "SARIMA(1, 1, 0)x(1, 0, 0, 12)12 - AIC:185.9455579785597\n",
      "SARIMA(1, 1, 0)x(1, 0, 1, 12)12 - AIC:120.45343992756156\n"
     ]
    },
    {
     "name": "stderr",
     "output_type": "stream",
     "text": [
      "D:\\softwarefordse\\lib\\site-packages\\statsmodels\\tsa\\base\\tsa_model.py:524: ValueWarning: No frequency information was provided, so inferred frequency M will be used.\n",
      "  warnings.warn('No frequency information was'\n",
      "D:\\softwarefordse\\lib\\site-packages\\statsmodels\\tsa\\base\\tsa_model.py:524: ValueWarning: No frequency information was provided, so inferred frequency M will be used.\n",
      "  warnings.warn('No frequency information was'\n",
      "D:\\softwarefordse\\lib\\site-packages\\statsmodels\\tsa\\base\\tsa_model.py:524: ValueWarning: No frequency information was provided, so inferred frequency M will be used.\n",
      "  warnings.warn('No frequency information was'\n",
      "D:\\softwarefordse\\lib\\site-packages\\statsmodels\\tsa\\base\\tsa_model.py:524: ValueWarning: No frequency information was provided, so inferred frequency M will be used.\n",
      "  warnings.warn('No frequency information was'\n"
     ]
    },
    {
     "name": "stdout",
     "output_type": "stream",
     "text": [
      "SARIMA(1, 1, 0)x(1, 1, 0, 12)12 - AIC:114.1157051539271\n",
      "SARIMA(1, 1, 0)x(1, 1, 1, 12)12 - AIC:98.05970845441959\n",
      "SARIMA(1, 1, 1)x(0, 0, 0, 12)12 - AIC:452.92632757100375\n",
      "SARIMA(1, 1, 1)x(0, 0, 1, 12)12 - AIC:365.4375650307263\n"
     ]
    },
    {
     "name": "stderr",
     "output_type": "stream",
     "text": [
      "D:\\softwarefordse\\lib\\site-packages\\statsmodels\\tsa\\base\\tsa_model.py:524: ValueWarning: No frequency information was provided, so inferred frequency M will be used.\n",
      "  warnings.warn('No frequency information was'\n",
      "D:\\softwarefordse\\lib\\site-packages\\statsmodels\\tsa\\base\\tsa_model.py:524: ValueWarning: No frequency information was provided, so inferred frequency M will be used.\n",
      "  warnings.warn('No frequency information was'\n",
      "D:\\softwarefordse\\lib\\site-packages\\statsmodels\\tsa\\base\\tsa_model.py:524: ValueWarning: No frequency information was provided, so inferred frequency M will be used.\n",
      "  warnings.warn('No frequency information was'\n",
      "D:\\softwarefordse\\lib\\site-packages\\statsmodels\\tsa\\base\\tsa_model.py:524: ValueWarning: No frequency information was provided, so inferred frequency M will be used.\n",
      "  warnings.warn('No frequency information was'\n",
      "D:\\softwarefordse\\lib\\site-packages\\statsmodels\\tsa\\base\\tsa_model.py:524: ValueWarning: No frequency information was provided, so inferred frequency M will be used.\n",
      "  warnings.warn('No frequency information was'\n",
      "D:\\softwarefordse\\lib\\site-packages\\statsmodels\\tsa\\base\\tsa_model.py:524: ValueWarning: No frequency information was provided, so inferred frequency M will be used.\n",
      "  warnings.warn('No frequency information was'\n"
     ]
    },
    {
     "name": "stdout",
     "output_type": "stream",
     "text": [
      "SARIMA(1, 1, 1)x(0, 1, 0, 12)12 - AIC:177.76872428886563\n"
     ]
    },
    {
     "name": "stderr",
     "output_type": "stream",
     "text": [
      "D:\\softwarefordse\\lib\\site-packages\\statsmodels\\tsa\\base\\tsa_model.py:524: ValueWarning: No frequency information was provided, so inferred frequency M will be used.\n",
      "  warnings.warn('No frequency information was'\n",
      "D:\\softwarefordse\\lib\\site-packages\\statsmodels\\tsa\\base\\tsa_model.py:524: ValueWarning: No frequency information was provided, so inferred frequency M will be used.\n",
      "  warnings.warn('No frequency information was'\n"
     ]
    },
    {
     "name": "stdout",
     "output_type": "stream",
     "text": [
      "SARIMA(1, 1, 1)x(0, 1, 1, 12)12 - AIC:95.41035419673841\n"
     ]
    },
    {
     "name": "stderr",
     "output_type": "stream",
     "text": [
      "D:\\softwarefordse\\lib\\site-packages\\statsmodels\\tsa\\base\\tsa_model.py:524: ValueWarning: No frequency information was provided, so inferred frequency M will be used.\n",
      "  warnings.warn('No frequency information was'\n",
      "D:\\softwarefordse\\lib\\site-packages\\statsmodels\\tsa\\base\\tsa_model.py:524: ValueWarning: No frequency information was provided, so inferred frequency M will be used.\n",
      "  warnings.warn('No frequency information was'\n"
     ]
    },
    {
     "name": "stdout",
     "output_type": "stream",
     "text": [
      "SARIMA(1, 1, 1)x(1, 0, 0, 12)12 - AIC:179.20327150492244\n",
      "SARIMA(1, 1, 1)x(1, 0, 1, 12)12 - AIC:117.93180289001867\n",
      "SARIMA(1, 1, 1)x(1, 1, 0, 12)12 - AIC:113.42610928850405\n"
     ]
    },
    {
     "name": "stderr",
     "output_type": "stream",
     "text": [
      "D:\\softwarefordse\\lib\\site-packages\\statsmodels\\tsa\\base\\tsa_model.py:524: ValueWarning: No frequency information was provided, so inferred frequency M will be used.\n",
      "  warnings.warn('No frequency information was'\n",
      "D:\\softwarefordse\\lib\\site-packages\\statsmodels\\tsa\\base\\tsa_model.py:524: ValueWarning: No frequency information was provided, so inferred frequency M will be used.\n",
      "  warnings.warn('No frequency information was'\n",
      "D:\\softwarefordse\\lib\\site-packages\\statsmodels\\tsa\\base\\tsa_model.py:524: ValueWarning: No frequency information was provided, so inferred frequency M will be used.\n",
      "  warnings.warn('No frequency information was'\n",
      "D:\\softwarefordse\\lib\\site-packages\\statsmodels\\tsa\\base\\tsa_model.py:524: ValueWarning: No frequency information was provided, so inferred frequency M will be used.\n",
      "  warnings.warn('No frequency information was'\n",
      "D:\\softwarefordse\\lib\\site-packages\\statsmodels\\tsa\\base\\tsa_model.py:524: ValueWarning: No frequency information was provided, so inferred frequency M will be used.\n",
      "  warnings.warn('No frequency information was'\n",
      "D:\\softwarefordse\\lib\\site-packages\\statsmodels\\tsa\\base\\tsa_model.py:524: ValueWarning: No frequency information was provided, so inferred frequency M will be used.\n",
      "  warnings.warn('No frequency information was'\n"
     ]
    },
    {
     "name": "stdout",
     "output_type": "stream",
     "text": [
      "SARIMA(1, 1, 1)x(1, 1, 1, 12)12 - AIC:95.03718694025346\n"
     ]
    }
   ],
   "source": [
    "import statsmodels.api as sm\n",
    "\n",
    "for param in pdq:\n",
    "    for param_seasonal in model_pdq:\n",
    "        SARIMA_model = sm.tsa.statespace.SARIMAX(df['CO2 ppm'],\n",
    "                                            order=param,\n",
    "                                            seasonal_order=param_seasonal,\n",
    "                                            enforce_stationarity=False,\n",
    "                                            enforce_invertibility=False)\n",
    "            \n",
    "        results_SARIMA = SARIMA_model.fit()\n",
    "        print('SARIMA{}x{}12 - AIC:{}'.format(param, param_seasonal, results_SARIMA.aic))\n",
    "        SARIMA_AIC = SARIMA_AIC.append({'param':param,'seasonal':param_seasonal ,'AIC': results_SARIMA.aic}, ignore_index=True)\n",
    "        "
   ]
  },
  {
   "cell_type": "code",
   "execution_count": 53,
   "metadata": {},
   "outputs": [
    {
     "name": "stderr",
     "output_type": "stream",
     "text": [
      "D:\\softwarefordse\\lib\\site-packages\\statsmodels\\tsa\\base\\tsa_model.py:524: ValueWarning: No frequency information was provided, so inferred frequency M will be used.\n",
      "  warnings.warn('No frequency information was'\n",
      "D:\\softwarefordse\\lib\\site-packages\\statsmodels\\tsa\\base\\tsa_model.py:524: ValueWarning: No frequency information was provided, so inferred frequency M will be used.\n",
      "  warnings.warn('No frequency information was'\n"
     ]
    },
    {
     "name": "stdout",
     "output_type": "stream",
     "text": [
      "                                        SARIMAX Results                                        \n",
      "===============================================================================================\n",
      "Dep. Variable:                                 CO2 ppm   No. Observations:                  192\n",
      "Model:             SARIMAX(2, 0, 0)x(2, 0, [1, 2], 12)   Log Likelihood                 -41.030\n",
      "Date:                                 Fri, 11 Nov 2022   AIC                             96.059\n",
      "Time:                                         16:28:19   BIC                            117.843\n",
      "Sample:                                     01-31-1965   HQIC                           104.901\n",
      "                                          - 12-31-1980                                         \n",
      "Covariance Type:                                   opg                                         \n",
      "==============================================================================\n",
      "                 coef    std err          z      P>|z|      [0.025      0.975]\n",
      "------------------------------------------------------------------------------\n",
      "ar.L1          0.6470      0.079      8.178      0.000       0.492       0.802\n",
      "ar.L2          0.2511      0.079      3.164      0.002       0.096       0.407\n",
      "ar.S.L12       0.5929      0.164      3.613      0.000       0.271       0.915\n",
      "ar.S.L24       0.4126      0.165      2.504      0.012       0.090       0.736\n",
      "ma.S.L12      -0.4684      0.204     -2.301      0.021      -0.867      -0.069\n",
      "ma.S.L24      -0.3430      0.183     -1.876      0.061      -0.701       0.015\n",
      "sigma2         0.0912      0.009      9.715      0.000       0.073       0.110\n",
      "===================================================================================\n",
      "Ljung-Box (L1) (Q):                   0.00   Jarque-Bera (JB):                23.55\n",
      "Prob(Q):                              0.99   Prob(JB):                         0.00\n",
      "Heteroskedasticity (H):               1.13   Skew:                             0.49\n",
      "Prob(H) (two-sided):                  0.64   Kurtosis:                         4.57\n",
      "===================================================================================\n",
      "\n",
      "Warnings:\n",
      "[1] Covariance matrix calculated using the outer product of gradients (complex-step).\n"
     ]
    },
    {
     "name": "stderr",
     "output_type": "stream",
     "text": [
      "D:\\softwarefordse\\lib\\site-packages\\statsmodels\\base\\model.py:566: ConvergenceWarning: Maximum Likelihood optimization failed to converge. Check mle_retvals\n",
      "  warnings.warn(\"Maximum Likelihood optimization failed to \"\n"
     ]
    }
   ],
   "source": [
    "mod = sm.tsa.statespace.SARIMAX(df['CO2 ppm'],\n",
    "                                order=(2,0,0),\n",
    "                                seasonal_order=(2, 0, 2, 12),\n",
    "                                enforce_stationarity=False,\n",
    "                                enforce_invertibility=False)\n",
    "results_SARIMA = mod.fit()\n",
    "print(results_SARIMA.summary())"
   ]
  },
  {
   "cell_type": "markdown",
   "metadata": {},
   "source": [
    "# Predict on the Test Set using this model and evaluate the model on the test set using RMSE and MAPE"
   ]
  },
  {
   "cell_type": "code",
   "execution_count": 54,
   "metadata": {},
   "outputs": [
    {
     "name": "stdout",
     "output_type": "stream",
     "text": [
      "4.244974456384186\n"
     ]
    }
   ],
   "source": [
    "pred = results_SARIMA.get_forecast(steps=36)\n",
    "pred.predicted_mean\n",
    "rmse = np.sqrt(mean_squared_error(test['CO2 ppm'] ,pred.predicted_mean))\n",
    "print(rmse)\n",
    "mape = mean_absolute_percentage_error(test['CO2 ppm'] ,pred.predicted_mean)"
   ]
  },
  {
   "cell_type": "code",
   "execution_count": 55,
   "metadata": {},
   "outputs": [
    {
     "data": {
      "text/html": [
       "<div>\n",
       "<style scoped>\n",
       "    .dataframe tbody tr th:only-of-type {\n",
       "        vertical-align: middle;\n",
       "    }\n",
       "\n",
       "    .dataframe tbody tr th {\n",
       "        vertical-align: top;\n",
       "    }\n",
       "\n",
       "    .dataframe thead th {\n",
       "        text-align: right;\n",
       "    }\n",
       "</style>\n",
       "<table border=\"1\" class=\"dataframe\">\n",
       "  <thead>\n",
       "    <tr style=\"text-align: right;\">\n",
       "      <th></th>\n",
       "      <th>Mape</th>\n",
       "      <th>RMSE</th>\n",
       "    </tr>\n",
       "  </thead>\n",
       "  <tbody>\n",
       "    <tr>\n",
       "      <th>ARIMA(1,1,1)</th>\n",
       "      <td>0.006691</td>\n",
       "      <td>2.648881</td>\n",
       "    </tr>\n",
       "    <tr>\n",
       "      <th>SARIMA(0,0,1)(2,0,2)12_without seasonality_diff</th>\n",
       "      <td>0.006103</td>\n",
       "      <td>2.398423</td>\n",
       "    </tr>\n",
       "    <tr>\n",
       "      <th>SARIMA(0,0,1)(2,0,2)12_with seasonality diff</th>\n",
       "      <td>0.012504</td>\n",
       "      <td>4.244974</td>\n",
       "    </tr>\n",
       "  </tbody>\n",
       "</table>\n",
       "</div>"
      ],
      "text/plain": [
       "                                                     Mape      RMSE\n",
       "ARIMA(1,1,1)                                     0.006691  2.648881\n",
       "SARIMA(0,0,1)(2,0,2)12_without seasonality_diff  0.006103  2.398423\n",
       "SARIMA(0,0,1)(2,0,2)12_with seasonality diff     0.012504  4.244974"
      ]
     },
     "execution_count": 55,
     "metadata": {},
     "output_type": "execute_result"
    }
   ],
   "source": [
    "temp_resultsDf = pd.DataFrame({'Mape':[mape],'RMSE': [rmse]}\n",
    "                           ,index=['SARIMA(0,0,1)(2,0,2)12_with seasonality diff'])\n",
    "\n",
    "resultsDf = pd.concat([resultsDf, temp_resultsDf])\n",
    "resultsDf"
   ]
  },
  {
   "cell_type": "markdown",
   "metadata": {},
   "source": [
    "# Build a model on the whole data using the parameters got from best fit (with respect to the lowest AIC value) SARIMA model."
   ]
  },
  {
   "cell_type": "code",
   "execution_count": 56,
   "metadata": {},
   "outputs": [
    {
     "name": "stderr",
     "output_type": "stream",
     "text": [
      "D:\\softwarefordse\\lib\\site-packages\\statsmodels\\tsa\\base\\tsa_model.py:524: ValueWarning: No frequency information was provided, so inferred frequency M will be used.\n",
      "  warnings.warn('No frequency information was'\n",
      "D:\\softwarefordse\\lib\\site-packages\\statsmodels\\tsa\\base\\tsa_model.py:524: ValueWarning: No frequency information was provided, so inferred frequency M will be used.\n",
      "  warnings.warn('No frequency information was'\n"
     ]
    },
    {
     "name": "stdout",
     "output_type": "stream",
     "text": [
      "                                        SARIMAX Results                                        \n",
      "===============================================================================================\n",
      "Dep. Variable:                                 CO2 ppm   No. Observations:                  192\n",
      "Model:             SARIMAX(2, 0, 0)x(2, 0, [1, 2], 12)   Log Likelihood                 -41.030\n",
      "Date:                                 Fri, 11 Nov 2022   AIC                             96.059\n",
      "Time:                                         16:28:21   BIC                            117.843\n",
      "Sample:                                     01-31-1965   HQIC                           104.901\n",
      "                                          - 12-31-1980                                         \n",
      "Covariance Type:                                   opg                                         \n",
      "==============================================================================\n",
      "                 coef    std err          z      P>|z|      [0.025      0.975]\n",
      "------------------------------------------------------------------------------\n",
      "ar.L1          0.6470      0.079      8.178      0.000       0.492       0.802\n",
      "ar.L2          0.2511      0.079      3.164      0.002       0.096       0.407\n",
      "ar.S.L12       0.5929      0.164      3.613      0.000       0.271       0.915\n",
      "ar.S.L24       0.4126      0.165      2.504      0.012       0.090       0.736\n",
      "ma.S.L12      -0.4684      0.204     -2.301      0.021      -0.867      -0.069\n",
      "ma.S.L24      -0.3430      0.183     -1.876      0.061      -0.701       0.015\n",
      "sigma2         0.0912      0.009      9.715      0.000       0.073       0.110\n",
      "===================================================================================\n",
      "Ljung-Box (L1) (Q):                   0.00   Jarque-Bera (JB):                23.55\n",
      "Prob(Q):                              0.99   Prob(JB):                         0.00\n",
      "Heteroskedasticity (H):               1.13   Skew:                             0.49\n",
      "Prob(H) (two-sided):                  0.64   Kurtosis:                         4.57\n",
      "===================================================================================\n",
      "\n",
      "Warnings:\n",
      "[1] Covariance matrix calculated using the outer product of gradients (complex-step).\n"
     ]
    },
    {
     "name": "stderr",
     "output_type": "stream",
     "text": [
      "D:\\softwarefordse\\lib\\site-packages\\statsmodels\\base\\model.py:566: ConvergenceWarning: Maximum Likelihood optimization failed to converge. Check mle_retvals\n",
      "  warnings.warn(\"Maximum Likelihood optimization failed to \"\n"
     ]
    }
   ],
   "source": [
    "mod = sm.tsa.statespace.SARIMAX(df['CO2 ppm'],\n",
    "                                order=(2,0,0),\n",
    "                                seasonal_order=(2, 0, 2, 12),\n",
    "                                enforce_stationarity=False,\n",
    "                                enforce_invertibility=False)\n",
    "results_SARIMA = mod.fit()\n",
    "print(results_SARIMA.summary())"
   ]
  },
  {
   "cell_type": "markdown",
   "metadata": {},
   "source": [
    "# Forecast the values for the next 24 months using the SARIMA model built and plot them along with confidence intervals. Also, plot the existing time series data in this graph."
   ]
  },
  {
   "cell_type": "code",
   "execution_count": 57,
   "metadata": {},
   "outputs": [
    {
     "data": {
      "text/html": [
       "<div>\n",
       "<style scoped>\n",
       "    .dataframe tbody tr th:only-of-type {\n",
       "        vertical-align: middle;\n",
       "    }\n",
       "\n",
       "    .dataframe tbody tr th {\n",
       "        vertical-align: top;\n",
       "    }\n",
       "\n",
       "    .dataframe thead th {\n",
       "        text-align: right;\n",
       "    }\n",
       "</style>\n",
       "<table border=\"1\" class=\"dataframe\">\n",
       "  <thead>\n",
       "    <tr style=\"text-align: right;\">\n",
       "      <th></th>\n",
       "      <th>forecast</th>\n",
       "      <th>lower_ci_95</th>\n",
       "      <th>upper_ci_95</th>\n",
       "      <th>lower_ci_99</th>\n",
       "      <th>upper_ci_99</th>\n",
       "    </tr>\n",
       "  </thead>\n",
       "  <tbody>\n",
       "    <tr>\n",
       "      <th>1981-01-01</th>\n",
       "      <td>339.522790</td>\n",
       "      <td>338.929945</td>\n",
       "      <td>340.115635</td>\n",
       "      <td>338.929945</td>\n",
       "      <td>340.115635</td>\n",
       "    </tr>\n",
       "    <tr>\n",
       "      <th>1981-02-01</th>\n",
       "      <td>340.061972</td>\n",
       "      <td>339.355871</td>\n",
       "      <td>340.768073</td>\n",
       "      <td>339.355871</td>\n",
       "      <td>340.768073</td>\n",
       "    </tr>\n",
       "    <tr>\n",
       "      <th>1981-03-01</th>\n",
       "      <td>341.059853</td>\n",
       "      <td>340.249999</td>\n",
       "      <td>341.869706</td>\n",
       "      <td>340.249999</td>\n",
       "      <td>341.869706</td>\n",
       "    </tr>\n",
       "    <tr>\n",
       "      <th>1981-04-01</th>\n",
       "      <td>342.125279</td>\n",
       "      <td>341.241849</td>\n",
       "      <td>343.008709</td>\n",
       "      <td>341.241849</td>\n",
       "      <td>343.008709</td>\n",
       "    </tr>\n",
       "    <tr>\n",
       "      <th>1981-05-01</th>\n",
       "      <td>342.623828</td>\n",
       "      <td>341.681491</td>\n",
       "      <td>343.566165</td>\n",
       "      <td>341.681491</td>\n",
       "      <td>343.566165</td>\n",
       "    </tr>\n",
       "  </tbody>\n",
       "</table>\n",
       "</div>"
      ],
      "text/plain": [
       "              forecast  lower_ci_95  upper_ci_95  lower_ci_99  upper_ci_99\n",
       "1981-01-01  339.522790   338.929945   340.115635   338.929945   340.115635\n",
       "1981-02-01  340.061972   339.355871   340.768073   339.355871   340.768073\n",
       "1981-03-01  341.059853   340.249999   341.869706   340.249999   341.869706\n",
       "1981-04-01  342.125279   341.241849   343.008709   341.241849   343.008709\n",
       "1981-05-01  342.623828   341.681491   343.566165   341.681491   343.566165"
      ]
     },
     "execution_count": 57,
     "metadata": {},
     "output_type": "execute_result"
    }
   ],
   "source": [
    "# Get forecast 36 steps (3 years) ahead in future\n",
    "n_steps = 24\n",
    "pred_uc_99 = results_SARIMA.get_forecast(steps=24, alpha=0.01) # alpha=0.01 signifies 99% confidence interval\n",
    "pred_uc_95 = results_SARIMA.get_forecast(steps=24, alpha=0.05) # alpha=0.05 signifies 95% confidence interval\n",
    "\n",
    "# Get confidence intervals 95% & 99% of the forecasts\n",
    "pred_ci_99 = pred_uc_99.conf_int()\n",
    "pred_ci_95 = pred_uc_95.conf_int()\n",
    "\n",
    "idx = pd.date_range(df.index[-1], periods=n_steps, freq='MS')#defining the date range for 3 years\n",
    "#into the future\n",
    "\n",
    "fc_95 = pd.DataFrame(np.column_stack([pred_uc_95.predicted_mean,  pred_ci_95]), \n",
    "                     index=idx, columns=['forecast', 'lower_ci_95', 'upper_ci_95'])#creating a data frame\n",
    "#by raising the results to the appropriate power for suitable predicted values - For 95% confidence interval\n",
    "\n",
    "fc_99 = pd.DataFrame(np.column_stack([ pred_ci_99]), \n",
    "                     index=idx, columns=['lower_ci_99', 'upper_ci_99'])#creating a data frame\n",
    "#by raising the results to the appropriate power for suitable predicted values - For 99% confidence interval\n",
    "\n",
    "fc_all = fc_95.combine_first(fc_99)\n",
    "\n",
    "fc_all = fc_all[['forecast', 'lower_ci_95', 'upper_ci_95', 'lower_ci_99', 'upper_ci_99']]# just reordering \n",
    "#columns\n",
    "\n",
    "fc_all.head()"
   ]
  },
  {
   "cell_type": "code",
   "execution_count": 58,
   "metadata": {},
   "outputs": [
    {
     "data": {
      "image/png": "[encoded data removed]",
      "text/plain": [
       "<Figure size 576x288 with 1 Axes>"
      ]
     },
     "metadata": {
      "needs_background": "light"
     },
     "output_type": "display_data"
    }
   ],
   "source": [
    "axis = df['CO2 ppm'].plot(label='Observed', figsize=(8, 4))\n",
    "fc_all['forecast'].plot(ax=axis, label='Forecast', alpha=0.7)\n",
    "axis.fill_between(fc_all.index, fc_all['lower_ci_95'], fc_all['upper_ci_95'], color='k', alpha=.15)\n",
    "axis.set_xlabel('Years')\n",
    "axis.set_ylabel('CO2 ppm')\n",
    "plt.legend(loc='best')\n",
    "plt.show()"
   ]
  },
  {
   "cell_type": "markdown",
   "metadata": {},
   "source": [
    "# END"
   ]
  },
  {
   "cell_type": "code",
   "execution_count": null,
   "metadata": {},
   "outputs": [],
   "source": []
  }
 ],
 "metadata": {
  "kernelspec": {
   "display_name": "Python 3 (ipykernel)",
   "language": "python",
   "name": "python3"
  },
  "language_info": {
   "codemirror_mode": {
    "name": "ipython",
    "version": 3
   },
   "file_extension": ".py",
   "mimetype": "text/x-python",
   "name": "python",
   "nbconvert_exporter": "python",
   "pygments_lexer": "ipython3",
   "version": "3.9.7"
  },
  "toc": {
   "base_numbering": 1,
   "nav_menu": {},
   "number_sections": true,
   "sideBar": true,
   "skip_h1_title": false,
   "title_cell": "Table of Contents",
   "title_sidebar": "Contents",
   "toc_cell": false,
   "toc_position": {
    "height": "calc(100% - 180px)",
    "left": "10px",
    "top": "150px",
    "width": "209.188px"
   },
   "toc_section_display": true,
   "toc_window_display": true
  },
  "varInspector": {
   "cols": {
    "lenName": 16,
    "lenType": 16,
    "lenVar": 40
   },
   "kernels_config": {
    "python": {
     "delete_cmd_postfix": "",
     "delete_cmd_prefix": "del ",
     "library": "var_list.py",
     "varRefreshCmd": "print(var_dic_list())"
    },
    "r": {
     "delete_cmd_postfix": ") ",
     "delete_cmd_prefix": "rm(",
     "library": "var_list.r",
     "varRefreshCmd": "cat(var_dic_list()) "
    }
   },
   "types_to_exclude": [
    "module",
    "function",
    "builtin_function_or_method",
    "instance",
    "_Feature"
   ],
   "window_display": false
  }
 },
 "nbformat": 4,
 "nbformat_minor": 4
}
