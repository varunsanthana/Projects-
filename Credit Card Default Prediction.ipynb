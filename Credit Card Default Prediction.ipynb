{
 "cells": [
  {
   "cell_type": "markdown",
   "id": "8d51f7b0",
   "metadata": {},
   "source": [
    "# Importing libraries"
   ]
  },
  {
   "cell_type": "code",
   "execution_count": 116,
   "id": "a92d855c",
   "metadata": {},
   "outputs": [],
   "source": [
    "import pandas as pd\n",
    "import numpy as np\n",
    "import matplotlib.pyplot as plt\n",
    "import seaborn as sns\n",
    "\n",
    "from scipy.stats import boxcox\n",
    "from sklearn.preprocessing import StandardScaler\n",
    "from sklearn.model_selection import train_test_split\n",
    "from sklearn.metrics import accuracy_score, classification_report"
   ]
  },
  {
   "cell_type": "markdown",
   "id": "99897802",
   "metadata": {},
   "source": [
    "# Dataset Cleaning"
   ]
  },
  {
   "cell_type": "code",
   "execution_count": 117,
   "id": "fa8ff0da",
   "metadata": {},
   "outputs": [
    {
     "data": {
      "text/html": [
       "<div>\n",
       "<style scoped>\n",
       "    .dataframe tbody tr th:only-of-type {\n",
       "        vertical-align: middle;\n",
       "    }\n",
       "\n",
       "    .dataframe tbody tr th {\n",
       "        vertical-align: top;\n",
       "    }\n",
       "\n",
       "    .dataframe thead th {\n",
       "        text-align: right;\n",
       "    }\n",
       "</style>\n",
       "<table border=\"1\" class=\"dataframe\">\n",
       "  <thead>\n",
       "    <tr style=\"text-align: right;\">\n",
       "      <th></th>\n",
       "      <th>ID</th>\n",
       "      <th>LIMIT_BAL</th>\n",
       "      <th>SEX</th>\n",
       "      <th>EDUCATION</th>\n",
       "      <th>MARRIAGE</th>\n",
       "      <th>AGE</th>\n",
       "      <th>PAY_0</th>\n",
       "      <th>PAY_2</th>\n",
       "      <th>PAY_3</th>\n",
       "      <th>PAY_4</th>\n",
       "      <th>...</th>\n",
       "      <th>BILL_AMT4</th>\n",
       "      <th>BILL_AMT5</th>\n",
       "      <th>BILL_AMT6</th>\n",
       "      <th>PAY_AMT1</th>\n",
       "      <th>PAY_AMT2</th>\n",
       "      <th>PAY_AMT3</th>\n",
       "      <th>PAY_AMT4</th>\n",
       "      <th>PAY_AMT5</th>\n",
       "      <th>PAY_AMT6</th>\n",
       "      <th>default.payment.next.month</th>\n",
       "    </tr>\n",
       "  </thead>\n",
       "  <tbody>\n",
       "    <tr>\n",
       "      <th>0</th>\n",
       "      <td>1</td>\n",
       "      <td>20000.0</td>\n",
       "      <td>2</td>\n",
       "      <td>2</td>\n",
       "      <td>1</td>\n",
       "      <td>24</td>\n",
       "      <td>2</td>\n",
       "      <td>2</td>\n",
       "      <td>-1</td>\n",
       "      <td>-1</td>\n",
       "      <td>...</td>\n",
       "      <td>0.0</td>\n",
       "      <td>0.0</td>\n",
       "      <td>0.0</td>\n",
       "      <td>0.0</td>\n",
       "      <td>689.0</td>\n",
       "      <td>0.0</td>\n",
       "      <td>0.0</td>\n",
       "      <td>0.0</td>\n",
       "      <td>0.0</td>\n",
       "      <td>1</td>\n",
       "    </tr>\n",
       "    <tr>\n",
       "      <th>1</th>\n",
       "      <td>2</td>\n",
       "      <td>120000.0</td>\n",
       "      <td>2</td>\n",
       "      <td>2</td>\n",
       "      <td>2</td>\n",
       "      <td>26</td>\n",
       "      <td>-1</td>\n",
       "      <td>2</td>\n",
       "      <td>0</td>\n",
       "      <td>0</td>\n",
       "      <td>...</td>\n",
       "      <td>3272.0</td>\n",
       "      <td>3455.0</td>\n",
       "      <td>3261.0</td>\n",
       "      <td>0.0</td>\n",
       "      <td>1000.0</td>\n",
       "      <td>1000.0</td>\n",
       "      <td>1000.0</td>\n",
       "      <td>0.0</td>\n",
       "      <td>2000.0</td>\n",
       "      <td>1</td>\n",
       "    </tr>\n",
       "    <tr>\n",
       "      <th>2</th>\n",
       "      <td>3</td>\n",
       "      <td>90000.0</td>\n",
       "      <td>2</td>\n",
       "      <td>2</td>\n",
       "      <td>2</td>\n",
       "      <td>34</td>\n",
       "      <td>0</td>\n",
       "      <td>0</td>\n",
       "      <td>0</td>\n",
       "      <td>0</td>\n",
       "      <td>...</td>\n",
       "      <td>14331.0</td>\n",
       "      <td>14948.0</td>\n",
       "      <td>15549.0</td>\n",
       "      <td>1518.0</td>\n",
       "      <td>1500.0</td>\n",
       "      <td>1000.0</td>\n",
       "      <td>1000.0</td>\n",
       "      <td>1000.0</td>\n",
       "      <td>5000.0</td>\n",
       "      <td>0</td>\n",
       "    </tr>\n",
       "    <tr>\n",
       "      <th>3</th>\n",
       "      <td>4</td>\n",
       "      <td>50000.0</td>\n",
       "      <td>2</td>\n",
       "      <td>2</td>\n",
       "      <td>1</td>\n",
       "      <td>37</td>\n",
       "      <td>0</td>\n",
       "      <td>0</td>\n",
       "      <td>0</td>\n",
       "      <td>0</td>\n",
       "      <td>...</td>\n",
       "      <td>28314.0</td>\n",
       "      <td>28959.0</td>\n",
       "      <td>29547.0</td>\n",
       "      <td>2000.0</td>\n",
       "      <td>2019.0</td>\n",
       "      <td>1200.0</td>\n",
       "      <td>1100.0</td>\n",
       "      <td>1069.0</td>\n",
       "      <td>1000.0</td>\n",
       "      <td>0</td>\n",
       "    </tr>\n",
       "    <tr>\n",
       "      <th>4</th>\n",
       "      <td>5</td>\n",
       "      <td>50000.0</td>\n",
       "      <td>1</td>\n",
       "      <td>2</td>\n",
       "      <td>1</td>\n",
       "      <td>57</td>\n",
       "      <td>-1</td>\n",
       "      <td>0</td>\n",
       "      <td>-1</td>\n",
       "      <td>0</td>\n",
       "      <td>...</td>\n",
       "      <td>20940.0</td>\n",
       "      <td>19146.0</td>\n",
       "      <td>19131.0</td>\n",
       "      <td>2000.0</td>\n",
       "      <td>36681.0</td>\n",
       "      <td>10000.0</td>\n",
       "      <td>9000.0</td>\n",
       "      <td>689.0</td>\n",
       "      <td>679.0</td>\n",
       "      <td>0</td>\n",
       "    </tr>\n",
       "  </tbody>\n",
       "</table>\n",
       "<p>5 rows × 25 columns</p>\n",
       "</div>"
      ],
      "text/plain": [
       "   ID  LIMIT_BAL  SEX  EDUCATION  MARRIAGE  AGE  PAY_0  PAY_2  PAY_3  PAY_4  \\\n",
       "0   1    20000.0    2          2         1   24      2      2     -1     -1   \n",
       "1   2   120000.0    2          2         2   26     -1      2      0      0   \n",
       "2   3    90000.0    2          2         2   34      0      0      0      0   \n",
       "3   4    50000.0    2          2         1   37      0      0      0      0   \n",
       "4   5    50000.0    1          2         1   57     -1      0     -1      0   \n",
       "\n",
       "   ...  BILL_AMT4  BILL_AMT5  BILL_AMT6  PAY_AMT1  PAY_AMT2  PAY_AMT3  \\\n",
       "0  ...        0.0        0.0        0.0       0.0     689.0       0.0   \n",
       "1  ...     3272.0     3455.0     3261.0       0.0    1000.0    1000.0   \n",
       "2  ...    14331.0    14948.0    15549.0    1518.0    1500.0    1000.0   \n",
       "3  ...    28314.0    28959.0    29547.0    2000.0    2019.0    1200.0   \n",
       "4  ...    20940.0    19146.0    19131.0    2000.0   36681.0   10000.0   \n",
       "\n",
       "   PAY_AMT4  PAY_AMT5  PAY_AMT6  default.payment.next.month  \n",
       "0       0.0       0.0       0.0                           1  \n",
       "1    1000.0       0.0    2000.0                           1  \n",
       "2    1000.0    1000.0    5000.0                           0  \n",
       "3    1100.0    1069.0    1000.0                           0  \n",
       "4    9000.0     689.0     679.0                           0  \n",
       "\n",
       "[5 rows x 25 columns]"
      ]
     },
     "execution_count": 117,
     "metadata": {},
     "output_type": "execute_result"
    }
   ],
   "source": [
    "# Reading the dataframe\n",
    "df = pd.read_csv('UCI_Credit_Card.csv')\n",
    "df.head()"
   ]
  },
  {
   "cell_type": "markdown",
   "id": "070ae10e",
   "metadata": {},
   "source": [
    "# Categorical variable - Re Encoding"
   ]
  },
  {
   "cell_type": "code",
   "execution_count": 118,
   "id": "d2ee02ed",
   "metadata": {},
   "outputs": [],
   "source": [
    "df.drop(['ID'], axis = 1, inplace = True )"
   ]
  },
  {
   "cell_type": "code",
   "execution_count": 119,
   "id": "7eb7878f",
   "metadata": {
    "scrolled": true
   },
   "outputs": [
    {
     "data": {
      "text/plain": [
       "array([2, 1], dtype=int64)"
      ]
     },
     "execution_count": 119,
     "metadata": {},
     "output_type": "execute_result"
    }
   ],
   "source": [
    "df['SEX'].unique()"
   ]
  },
  {
   "cell_type": "code",
   "execution_count": 120,
   "id": "3fc46885",
   "metadata": {},
   "outputs": [],
   "source": [
    "# SEX - 1 : Male, 2: Female. Converting into binary 0: Male, 1: Female\n",
    "df['SEX'] = df['SEX'].map({1:0, 2:1})"
   ]
  },
  {
   "cell_type": "code",
   "execution_count": 121,
   "id": "160b22ce",
   "metadata": {},
   "outputs": [],
   "source": [
    "# Education: 1 = graduate school; 2 = university; 3 = high school; 0, 4, 5, 6 = others\n",
    "# So encoding 0,4,5,6 into 0\n",
    "df['EDUCATION'].replace([4,5,6], [0,0,0], inplace = True)"
   ]
  },
  {
   "cell_type": "code",
   "execution_count": 122,
   "id": "ce178e94",
   "metadata": {
    "scrolled": true
   },
   "outputs": [
    {
     "data": {
      "text/plain": [
       "2    14030\n",
       "1    10585\n",
       "3     4917\n",
       "0      468\n",
       "Name: EDUCATION, dtype: int64"
      ]
     },
     "execution_count": 122,
     "metadata": {},
     "output_type": "execute_result"
    }
   ],
   "source": [
    "df['EDUCATION'].value_counts()"
   ]
  },
  {
   "cell_type": "code",
   "execution_count": 123,
   "id": "8caec24e",
   "metadata": {},
   "outputs": [
    {
     "data": {
      "text/plain": [
       "2    15964\n",
       "1    13659\n",
       "3      323\n",
       "0       54\n",
       "Name: MARRIAGE, dtype: int64"
      ]
     },
     "execution_count": 123,
     "metadata": {},
     "output_type": "execute_result"
    }
   ],
   "source": [
    "# Marriage 1- single, 2 - Married, 3 - Divorced, 0-others\n",
    "df['MARRIAGE'].value_counts()"
   ]
  },
  {
   "cell_type": "code",
   "execution_count": 124,
   "id": "8fc4028c",
   "metadata": {},
   "outputs": [
    {
     "data": {
      "text/plain": [
       "PAY_0  default.payment.next.month\n",
       "-2     0                             0.867706\n",
       "       1                             0.132294\n",
       "-1     0                             0.832219\n",
       "       1                             0.167781\n",
       " 0     0                             0.871887\n",
       "       1                             0.128113\n",
       " 1     0                             0.660521\n",
       "       1                             0.339479\n",
       " 2     1                             0.691414\n",
       "       0                             0.308586\n",
       " 3     1                             0.757764\n",
       "       0                             0.242236\n",
       " 4     1                             0.684211\n",
       "       0                             0.315789\n",
       " 5     0                             0.500000\n",
       "       1                             0.500000\n",
       " 6     1                             0.545455\n",
       "       0                             0.454545\n",
       " 7     1                             0.777778\n",
       "       0                             0.222222\n",
       " 8     1                             0.578947\n",
       "       0                             0.421053\n",
       "Name: default.payment.next.month, dtype: float64"
      ]
     },
     "execution_count": 124,
     "metadata": {},
     "output_type": "execute_result"
    }
   ],
   "source": [
    "# Repayment status\n",
    "#-2: No consumption; -1: Paid in full; 0: The use of revolving credit; 1 = payment delay for one month;\n",
    "# 2 = payment delay for two months; . . .;b\n",
    "# 8 = payment delay for eight months; 9 = payment delay for nine months and above.\n",
    "\n",
    "df.groupby('PAY_0')['default.payment.next.month'].value_counts(normalize = True)"
   ]
  },
  {
   "cell_type": "markdown",
   "id": "55970abe",
   "metadata": {},
   "source": [
    "Data cleaning and transformation is required for this data. Plus as the data is imbalanced, we also have to fix that so model has enough samples to learn from the data.\n",
    "\n",
    "We will be choosing F1-score as our metric to validate the model."
   ]
  },
  {
   "cell_type": "code",
   "execution_count": 125,
   "id": "c47a5b77",
   "metadata": {},
   "outputs": [],
   "source": [
    "num_variables = ['LIMIT_BAL', 'BILL_AMT1','BILL_AMT2','BILL_AMT3','BILL_AMT4','BILL_AMT5','BILL_AMT6',\n",
    " 'PAY_AMT1','PAY_AMT2', 'PAY_AMT3','PAY_AMT4','PAY_AMT5','PAY_AMT6', 'AGE']\n",
    "cat_variables = [i for i in df.columns if i not in num_variables]"
   ]
  },
  {
   "cell_type": "code",
   "execution_count": 126,
   "id": "279ab544",
   "metadata": {},
   "outputs": [],
   "source": [
    "cat_variables.remove('default.payment.next.month')"
   ]
  },
  {
   "cell_type": "code",
   "execution_count": 127,
   "id": "b3474bbe",
   "metadata": {},
   "outputs": [],
   "source": [
    "cat_variables.remove('SEX')"
   ]
  },
  {
   "cell_type": "code",
   "execution_count": 128,
   "id": "5da0ad18",
   "metadata": {},
   "outputs": [],
   "source": [
    "for i in cat_variables:\n",
    "    df[i] = df[i].astype(str)"
   ]
  },
  {
   "cell_type": "markdown",
   "id": "84335b72",
   "metadata": {},
   "source": [
    "We will one hot encode the foll variables: Pay_0 to Pay_6, SEX, MARRIAGE, EDUCATION."
   ]
  },
  {
   "cell_type": "code",
   "execution_count": 129,
   "id": "76a03043",
   "metadata": {},
   "outputs": [],
   "source": [
    "X = df.drop(['default.payment.next.month'],axis = 1)\n",
    "y = df['default.payment.next.month']\n",
    "y=y.astype('int')\n",
    "\n",
    "# Spliting the var into 85-15 split.\n",
    "X_train, X_test, y_train, y_test = train_test_split(X, y, test_size=0.15, stratify=y, random_state = 100)"
   ]
  },
  {
   "cell_type": "code",
   "execution_count": 131,
   "id": "62d1780f",
   "metadata": {},
   "outputs": [
    {
     "name": "stderr",
     "output_type": "stream",
     "text": [
      "C:\\Users\\kalke\\anaconda3\\lib\\site-packages\\sklearn\\utils\\deprecation.py:87: FutureWarning: Function get_feature_names is deprecated; get_feature_names is deprecated in 1.0 and will be removed in 1.2. Please use get_feature_names_out instead.\n",
      "  warnings.warn(msg, category=FutureWarning)\n",
      "C:\\Users\\kalke\\anaconda3\\lib\\site-packages\\sklearn\\utils\\deprecation.py:87: FutureWarning: Function get_feature_names is deprecated; get_feature_names is deprecated in 1.0 and will be removed in 1.2. Please use get_feature_names_out instead.\n",
      "  warnings.warn(msg, category=FutureWarning)\n"
     ]
    }
   ],
   "source": [
    "from sklearn.preprocessing import OneHotEncoder\n",
    "X_train_cat = X_train[cat_variables]\n",
    "X_test_cat = X_test[cat_variables]\n",
    "\n",
    "ohe = OneHotEncoder(sparse=False, drop='first')\n",
    "train_cat_vals = ohe.fit_transform(X_train_cat)\n",
    "test_cat_vals = ohe.transform(X_test_cat)\n",
    "\n",
    "tr_cat_df = pd.DataFrame(train_cat_vals, columns=ohe.get_feature_names(input_features=X_train_cat.columns))\n",
    "te_cat_df = pd.DataFrame(test_cat_vals, columns=ohe.get_feature_names(input_features=X_test_cat.columns))"
   ]
  },
  {
   "cell_type": "code",
   "execution_count": 132,
   "id": "681c805b",
   "metadata": {},
   "outputs": [],
   "source": [
    "X_train.reset_index(drop=True, inplace= True)\n",
    "X_test.reset_index(drop=True, inplace = True)"
   ]
  },
  {
   "cell_type": "code",
   "execution_count": 133,
   "id": "d0017ad0",
   "metadata": {},
   "outputs": [
    {
     "data": {
      "text/html": [
       "<div>\n",
       "<style scoped>\n",
       "    .dataframe tbody tr th:only-of-type {\n",
       "        vertical-align: middle;\n",
       "    }\n",
       "\n",
       "    .dataframe tbody tr th {\n",
       "        vertical-align: top;\n",
       "    }\n",
       "\n",
       "    .dataframe thead th {\n",
       "        text-align: right;\n",
       "    }\n",
       "</style>\n",
       "<table border=\"1\" class=\"dataframe\">\n",
       "  <thead>\n",
       "    <tr style=\"text-align: right;\">\n",
       "      <th></th>\n",
       "      <th>LIMIT_BAL</th>\n",
       "      <th>SEX</th>\n",
       "      <th>EDUCATION</th>\n",
       "      <th>MARRIAGE</th>\n",
       "      <th>AGE</th>\n",
       "      <th>PAY_0</th>\n",
       "      <th>PAY_2</th>\n",
       "      <th>PAY_3</th>\n",
       "      <th>PAY_4</th>\n",
       "      <th>PAY_5</th>\n",
       "      <th>...</th>\n",
       "      <th>BILL_AMT3</th>\n",
       "      <th>BILL_AMT4</th>\n",
       "      <th>BILL_AMT5</th>\n",
       "      <th>BILL_AMT6</th>\n",
       "      <th>PAY_AMT1</th>\n",
       "      <th>PAY_AMT2</th>\n",
       "      <th>PAY_AMT3</th>\n",
       "      <th>PAY_AMT4</th>\n",
       "      <th>PAY_AMT5</th>\n",
       "      <th>PAY_AMT6</th>\n",
       "    </tr>\n",
       "  </thead>\n",
       "  <tbody>\n",
       "    <tr>\n",
       "      <th>0</th>\n",
       "      <td>110000.0</td>\n",
       "      <td>1</td>\n",
       "      <td>3</td>\n",
       "      <td>2</td>\n",
       "      <td>28</td>\n",
       "      <td>0</td>\n",
       "      <td>0</td>\n",
       "      <td>2</td>\n",
       "      <td>2</td>\n",
       "      <td>0</td>\n",
       "      <td>...</td>\n",
       "      <td>82975.0</td>\n",
       "      <td>80446.0</td>\n",
       "      <td>80006.0</td>\n",
       "      <td>80421.0</td>\n",
       "      <td>4000.0</td>\n",
       "      <td>6000.0</td>\n",
       "      <td>12.0</td>\n",
       "      <td>3100.0</td>\n",
       "      <td>3200.0</td>\n",
       "      <td>3000.0</td>\n",
       "    </tr>\n",
       "    <tr>\n",
       "      <th>1</th>\n",
       "      <td>50000.0</td>\n",
       "      <td>1</td>\n",
       "      <td>2</td>\n",
       "      <td>2</td>\n",
       "      <td>40</td>\n",
       "      <td>-1</td>\n",
       "      <td>-1</td>\n",
       "      <td>-1</td>\n",
       "      <td>-2</td>\n",
       "      <td>-2</td>\n",
       "      <td>...</td>\n",
       "      <td>0.0</td>\n",
       "      <td>0.0</td>\n",
       "      <td>0.0</td>\n",
       "      <td>0.0</td>\n",
       "      <td>4377.0</td>\n",
       "      <td>0.0</td>\n",
       "      <td>0.0</td>\n",
       "      <td>0.0</td>\n",
       "      <td>0.0</td>\n",
       "      <td>0.0</td>\n",
       "    </tr>\n",
       "    <tr>\n",
       "      <th>2</th>\n",
       "      <td>320000.0</td>\n",
       "      <td>1</td>\n",
       "      <td>1</td>\n",
       "      <td>1</td>\n",
       "      <td>39</td>\n",
       "      <td>0</td>\n",
       "      <td>0</td>\n",
       "      <td>0</td>\n",
       "      <td>0</td>\n",
       "      <td>0</td>\n",
       "      <td>...</td>\n",
       "      <td>128832.0</td>\n",
       "      <td>133329.0</td>\n",
       "      <td>53870.0</td>\n",
       "      <td>13185.0</td>\n",
       "      <td>5000.0</td>\n",
       "      <td>15000.0</td>\n",
       "      <td>5000.0</td>\n",
       "      <td>5000.0</td>\n",
       "      <td>3000.0</td>\n",
       "      <td>5000.0</td>\n",
       "    </tr>\n",
       "    <tr>\n",
       "      <th>3</th>\n",
       "      <td>200000.0</td>\n",
       "      <td>1</td>\n",
       "      <td>1</td>\n",
       "      <td>2</td>\n",
       "      <td>28</td>\n",
       "      <td>1</td>\n",
       "      <td>-1</td>\n",
       "      <td>3</td>\n",
       "      <td>2</td>\n",
       "      <td>2</td>\n",
       "      <td>...</td>\n",
       "      <td>344.0</td>\n",
       "      <td>344.0</td>\n",
       "      <td>0.0</td>\n",
       "      <td>0.0</td>\n",
       "      <td>344.0</td>\n",
       "      <td>0.0</td>\n",
       "      <td>0.0</td>\n",
       "      <td>0.0</td>\n",
       "      <td>0.0</td>\n",
       "      <td>250.0</td>\n",
       "    </tr>\n",
       "    <tr>\n",
       "      <th>4</th>\n",
       "      <td>320000.0</td>\n",
       "      <td>1</td>\n",
       "      <td>2</td>\n",
       "      <td>1</td>\n",
       "      <td>40</td>\n",
       "      <td>0</td>\n",
       "      <td>0</td>\n",
       "      <td>0</td>\n",
       "      <td>0</td>\n",
       "      <td>0</td>\n",
       "      <td>...</td>\n",
       "      <td>100704.0</td>\n",
       "      <td>208794.0</td>\n",
       "      <td>213025.0</td>\n",
       "      <td>217400.0</td>\n",
       "      <td>5000.0</td>\n",
       "      <td>2704.0</td>\n",
       "      <td>108794.0</td>\n",
       "      <td>5123.0</td>\n",
       "      <td>5255.0</td>\n",
       "      <td>5333.0</td>\n",
       "    </tr>\n",
       "    <tr>\n",
       "      <th>...</th>\n",
       "      <td>...</td>\n",
       "      <td>...</td>\n",
       "      <td>...</td>\n",
       "      <td>...</td>\n",
       "      <td>...</td>\n",
       "      <td>...</td>\n",
       "      <td>...</td>\n",
       "      <td>...</td>\n",
       "      <td>...</td>\n",
       "      <td>...</td>\n",
       "      <td>...</td>\n",
       "      <td>...</td>\n",
       "      <td>...</td>\n",
       "      <td>...</td>\n",
       "      <td>...</td>\n",
       "      <td>...</td>\n",
       "      <td>...</td>\n",
       "      <td>...</td>\n",
       "      <td>...</td>\n",
       "      <td>...</td>\n",
       "      <td>...</td>\n",
       "    </tr>\n",
       "    <tr>\n",
       "      <th>25495</th>\n",
       "      <td>180000.0</td>\n",
       "      <td>0</td>\n",
       "      <td>2</td>\n",
       "      <td>2</td>\n",
       "      <td>38</td>\n",
       "      <td>2</td>\n",
       "      <td>2</td>\n",
       "      <td>0</td>\n",
       "      <td>0</td>\n",
       "      <td>0</td>\n",
       "      <td>...</td>\n",
       "      <td>22182.0</td>\n",
       "      <td>12382.0</td>\n",
       "      <td>-18.0</td>\n",
       "      <td>-18.0</td>\n",
       "      <td>0.0</td>\n",
       "      <td>2100.0</td>\n",
       "      <td>200.0</td>\n",
       "      <td>0.0</td>\n",
       "      <td>0.0</td>\n",
       "      <td>0.0</td>\n",
       "    </tr>\n",
       "    <tr>\n",
       "      <th>25496</th>\n",
       "      <td>150000.0</td>\n",
       "      <td>1</td>\n",
       "      <td>1</td>\n",
       "      <td>1</td>\n",
       "      <td>34</td>\n",
       "      <td>-2</td>\n",
       "      <td>-2</td>\n",
       "      <td>-2</td>\n",
       "      <td>-2</td>\n",
       "      <td>-2</td>\n",
       "      <td>...</td>\n",
       "      <td>8796.0</td>\n",
       "      <td>20359.0</td>\n",
       "      <td>17329.0</td>\n",
       "      <td>20087.0</td>\n",
       "      <td>14539.0</td>\n",
       "      <td>8796.0</td>\n",
       "      <td>20375.0</td>\n",
       "      <td>17329.0</td>\n",
       "      <td>20087.0</td>\n",
       "      <td>0.0</td>\n",
       "    </tr>\n",
       "    <tr>\n",
       "      <th>25497</th>\n",
       "      <td>300000.0</td>\n",
       "      <td>0</td>\n",
       "      <td>1</td>\n",
       "      <td>2</td>\n",
       "      <td>29</td>\n",
       "      <td>-2</td>\n",
       "      <td>-2</td>\n",
       "      <td>-2</td>\n",
       "      <td>-2</td>\n",
       "      <td>-2</td>\n",
       "      <td>...</td>\n",
       "      <td>1705.0</td>\n",
       "      <td>-4.0</td>\n",
       "      <td>36581.0</td>\n",
       "      <td>332.0</td>\n",
       "      <td>4018.0</td>\n",
       "      <td>1809.0</td>\n",
       "      <td>0.0</td>\n",
       "      <td>36583.0</td>\n",
       "      <td>334.0</td>\n",
       "      <td>0.0</td>\n",
       "    </tr>\n",
       "    <tr>\n",
       "      <th>25498</th>\n",
       "      <td>20000.0</td>\n",
       "      <td>0</td>\n",
       "      <td>1</td>\n",
       "      <td>2</td>\n",
       "      <td>28</td>\n",
       "      <td>1</td>\n",
       "      <td>2</td>\n",
       "      <td>0</td>\n",
       "      <td>0</td>\n",
       "      <td>2</td>\n",
       "      <td>...</td>\n",
       "      <td>9097.0</td>\n",
       "      <td>10935.0</td>\n",
       "      <td>10463.0</td>\n",
       "      <td>11295.0</td>\n",
       "      <td>0.0</td>\n",
       "      <td>1200.0</td>\n",
       "      <td>2000.0</td>\n",
       "      <td>0.0</td>\n",
       "      <td>1000.0</td>\n",
       "      <td>0.0</td>\n",
       "    </tr>\n",
       "    <tr>\n",
       "      <th>25499</th>\n",
       "      <td>20000.0</td>\n",
       "      <td>1</td>\n",
       "      <td>2</td>\n",
       "      <td>2</td>\n",
       "      <td>22</td>\n",
       "      <td>0</td>\n",
       "      <td>0</td>\n",
       "      <td>0</td>\n",
       "      <td>0</td>\n",
       "      <td>0</td>\n",
       "      <td>...</td>\n",
       "      <td>13221.0</td>\n",
       "      <td>13130.0</td>\n",
       "      <td>14034.0</td>\n",
       "      <td>14906.0</td>\n",
       "      <td>1212.0</td>\n",
       "      <td>1201.0</td>\n",
       "      <td>500.0</td>\n",
       "      <td>1500.0</td>\n",
       "      <td>1500.0</td>\n",
       "      <td>1000.0</td>\n",
       "    </tr>\n",
       "  </tbody>\n",
       "</table>\n",
       "<p>25500 rows × 23 columns</p>\n",
       "</div>"
      ],
      "text/plain": [
       "       LIMIT_BAL  SEX EDUCATION MARRIAGE  AGE PAY_0 PAY_2 PAY_3 PAY_4 PAY_5  \\\n",
       "0       110000.0    1         3        2   28     0     0     2     2     0   \n",
       "1        50000.0    1         2        2   40    -1    -1    -1    -2    -2   \n",
       "2       320000.0    1         1        1   39     0     0     0     0     0   \n",
       "3       200000.0    1         1        2   28     1    -1     3     2     2   \n",
       "4       320000.0    1         2        1   40     0     0     0     0     0   \n",
       "...          ...  ...       ...      ...  ...   ...   ...   ...   ...   ...   \n",
       "25495   180000.0    0         2        2   38     2     2     0     0     0   \n",
       "25496   150000.0    1         1        1   34    -2    -2    -2    -2    -2   \n",
       "25497   300000.0    0         1        2   29    -2    -2    -2    -2    -2   \n",
       "25498    20000.0    0         1        2   28     1     2     0     0     2   \n",
       "25499    20000.0    1         2        2   22     0     0     0     0     0   \n",
       "\n",
       "       ... BILL_AMT3  BILL_AMT4  BILL_AMT5  BILL_AMT6  PAY_AMT1  PAY_AMT2  \\\n",
       "0      ...   82975.0    80446.0    80006.0    80421.0    4000.0    6000.0   \n",
       "1      ...       0.0        0.0        0.0        0.0    4377.0       0.0   \n",
       "2      ...  128832.0   133329.0    53870.0    13185.0    5000.0   15000.0   \n",
       "3      ...     344.0      344.0        0.0        0.0     344.0       0.0   \n",
       "4      ...  100704.0   208794.0   213025.0   217400.0    5000.0    2704.0   \n",
       "...    ...       ...        ...        ...        ...       ...       ...   \n",
       "25495  ...   22182.0    12382.0      -18.0      -18.0       0.0    2100.0   \n",
       "25496  ...    8796.0    20359.0    17329.0    20087.0   14539.0    8796.0   \n",
       "25497  ...    1705.0       -4.0    36581.0      332.0    4018.0    1809.0   \n",
       "25498  ...    9097.0    10935.0    10463.0    11295.0       0.0    1200.0   \n",
       "25499  ...   13221.0    13130.0    14034.0    14906.0    1212.0    1201.0   \n",
       "\n",
       "       PAY_AMT3  PAY_AMT4  PAY_AMT5  PAY_AMT6  \n",
       "0          12.0    3100.0    3200.0    3000.0  \n",
       "1           0.0       0.0       0.0       0.0  \n",
       "2        5000.0    5000.0    3000.0    5000.0  \n",
       "3           0.0       0.0       0.0     250.0  \n",
       "4      108794.0    5123.0    5255.0    5333.0  \n",
       "...         ...       ...       ...       ...  \n",
       "25495     200.0       0.0       0.0       0.0  \n",
       "25496   20375.0   17329.0   20087.0       0.0  \n",
       "25497       0.0   36583.0     334.0       0.0  \n",
       "25498    2000.0       0.0    1000.0       0.0  \n",
       "25499     500.0    1500.0    1500.0    1000.0  \n",
       "\n",
       "[25500 rows x 23 columns]"
      ]
     },
     "execution_count": 133,
     "metadata": {},
     "output_type": "execute_result"
    }
   ],
   "source": [
    "X_train"
   ]
  },
  {
   "cell_type": "code",
   "execution_count": 134,
   "id": "2bda1e65",
   "metadata": {},
   "outputs": [],
   "source": [
    "X_train.drop(cat_variables, axis = 1, inplace = True)\n",
    "X_test.drop(cat_variables, axis = 1, inplace = True)\n",
    "\n",
    "X_train = pd.concat([X_train, tr_cat_df], axis = 1)\n",
    "X_test = pd.concat([X_test, te_cat_df], axis = 1)"
   ]
  },
  {
   "cell_type": "code",
   "execution_count": 135,
   "id": "6fb5f773",
   "metadata": {},
   "outputs": [
    {
     "data": {
      "text/plain": [
       "Index(['LIMIT_BAL', 'SEX', 'AGE', 'BILL_AMT1', 'BILL_AMT2', 'BILL_AMT3',\n",
       "       'BILL_AMT4', 'BILL_AMT5', 'BILL_AMT6', 'PAY_AMT1', 'PAY_AMT2',\n",
       "       'PAY_AMT3', 'PAY_AMT4', 'PAY_AMT5', 'PAY_AMT6', 'EDUCATION_1',\n",
       "       'EDUCATION_2', 'EDUCATION_3', 'MARRIAGE_1', 'MARRIAGE_2', 'MARRIAGE_3',\n",
       "       'PAY_0_-2', 'PAY_0_0', 'PAY_0_1', 'PAY_0_2', 'PAY_0_3', 'PAY_0_4',\n",
       "       'PAY_0_5', 'PAY_0_6', 'PAY_0_7', 'PAY_0_8', 'PAY_2_-2', 'PAY_2_0',\n",
       "       'PAY_2_1', 'PAY_2_2', 'PAY_2_3', 'PAY_2_4', 'PAY_2_5', 'PAY_2_6',\n",
       "       'PAY_2_7', 'PAY_2_8', 'PAY_3_-2', 'PAY_3_0', 'PAY_3_1', 'PAY_3_2',\n",
       "       'PAY_3_3', 'PAY_3_4', 'PAY_3_5', 'PAY_3_6', 'PAY_3_7', 'PAY_3_8',\n",
       "       'PAY_4_-2', 'PAY_4_0', 'PAY_4_1', 'PAY_4_2', 'PAY_4_3', 'PAY_4_4',\n",
       "       'PAY_4_5', 'PAY_4_6', 'PAY_4_7', 'PAY_4_8', 'PAY_5_-2', 'PAY_5_0',\n",
       "       'PAY_5_2', 'PAY_5_3', 'PAY_5_4', 'PAY_5_5', 'PAY_5_6', 'PAY_5_7',\n",
       "       'PAY_5_8', 'PAY_6_-2', 'PAY_6_0', 'PAY_6_2', 'PAY_6_3', 'PAY_6_4',\n",
       "       'PAY_6_5', 'PAY_6_6', 'PAY_6_7', 'PAY_6_8'],\n",
       "      dtype='object')"
      ]
     },
     "execution_count": 135,
     "metadata": {},
     "output_type": "execute_result"
    }
   ],
   "source": [
    "X_train.columns"
   ]
  },
  {
   "cell_type": "markdown",
   "id": "61878a29",
   "metadata": {},
   "source": [
    "Now we will fit 4 models to this data: Logistic regression, Decision Trees, K Nearest neighbors and Support Vector machines.\n",
    "\n",
    "We will treat Logistic regression as the base model"
   ]
  },
  {
   "cell_type": "markdown",
   "id": "34eddc67",
   "metadata": {},
   "source": [
    "# Base Model"
   ]
  },
  {
   "cell_type": "code",
   "execution_count": 136,
   "id": "412db6b4",
   "metadata": {},
   "outputs": [],
   "source": [
    "from sklearn.metrics import accuracy_score, classification_report \n",
    "def print_metrics(model):\n",
    "    \"\"\"This function will print the train and test accuracy, and the Test classification report\"\"\"\n",
    "    y_train_pred = model.predict(X_train)\n",
    "    y_test_pred = model.predict(X_test)\n",
    "    print('Train Accuracy = ', accuracy_score(y_train, y_train_pred))\n",
    "    print('Test Accuracy = ', accuracy_score(y_test, y_test_pred))\n",
    "    print()\n",
    "    print('Test classification Report: ')\n",
    "    print()\n",
    "    print(classification_report(y_test, y_test_pred))"
   ]
  },
  {
   "cell_type": "code",
   "execution_count": 137,
   "id": "e25011e3",
   "metadata": {},
   "outputs": [
    {
     "name": "stdout",
     "output_type": "stream",
     "text": [
      "Train Accuracy =  0.5547843137254902\n",
      "Test Accuracy =  0.5628888888888889\n",
      "\n",
      "Test classification Report: \n",
      "\n",
      "              precision    recall  f1-score   support\n",
      "\n",
      "           0       0.87      0.52      0.65      3505\n",
      "           1       0.30      0.72      0.42       995\n",
      "\n",
      "    accuracy                           0.56      4500\n",
      "   macro avg       0.58      0.62      0.54      4500\n",
      "weighted avg       0.74      0.56      0.60      4500\n",
      "\n"
     ]
    }
   ],
   "source": [
    "from sklearn.linear_model import LogisticRegression\n",
    "lr = LogisticRegression(max_iter = 1000, class_weight='balanced')\n",
    "lr.fit(X_train, y_train)\n",
    "print_metrics(lr)"
   ]
  },
  {
   "cell_type": "markdown",
   "id": "f3df95a7",
   "metadata": {},
   "source": [
    "The model is not predicting the minority class since the data is imbalanced. So we will pass in class_weight parameter to the model, so the model starts treating the minority class as important."
   ]
  },
  {
   "cell_type": "markdown",
   "id": "0a69572a",
   "metadata": {},
   "source": [
    "As we see, the f1-score for the minority class jumps to 0.42. So balancing the classes had major effect on the model performance"
   ]
  },
  {
   "cell_type": "code",
   "execution_count": 138,
   "id": "c18398e5",
   "metadata": {
    "scrolled": false
   },
   "outputs": [
    {
     "name": "stdout",
     "output_type": "stream",
     "text": [
      "Train Accuracy =  0.9993333333333333\n",
      "Test Accuracy =  0.7368888888888889\n",
      "\n",
      "Test classification Report: \n",
      "\n",
      "              precision    recall  f1-score   support\n",
      "\n",
      "           0       0.84      0.82      0.83      3505\n",
      "           1       0.41      0.43      0.42       995\n",
      "\n",
      "    accuracy                           0.74      4500\n",
      "   macro avg       0.62      0.63      0.62      4500\n",
      "weighted avg       0.74      0.74      0.74      4500\n",
      "\n"
     ]
    }
   ],
   "source": [
    "from sklearn.tree import DecisionTreeClassifier\n",
    "dtc = DecisionTreeClassifier(class_weight='balanced')\n",
    "dtc.fit(X_train, y_train)\n",
    "print_metrics(dtc)"
   ]
  },
  {
   "cell_type": "markdown",
   "id": "015f446b",
   "metadata": {},
   "source": [
    "Decision Tree is overfitting, restricting the maximum depth tree can grow to 6"
   ]
  },
  {
   "cell_type": "code",
   "execution_count": 139,
   "id": "6fb40815",
   "metadata": {
    "scrolled": false
   },
   "outputs": [
    {
     "name": "stdout",
     "output_type": "stream",
     "text": [
      "Train Accuracy =  0.7884705882352941\n",
      "Test Accuracy =  0.792\n",
      "\n",
      "Test classification Report: \n",
      "\n",
      "              precision    recall  f1-score   support\n",
      "\n",
      "           0       0.87      0.87      0.87      3505\n",
      "           1       0.53      0.52      0.53       995\n",
      "\n",
      "    accuracy                           0.79      4500\n",
      "   macro avg       0.70      0.70      0.70      4500\n",
      "weighted avg       0.79      0.79      0.79      4500\n",
      "\n"
     ]
    }
   ],
   "source": [
    "from sklearn.tree import DecisionTreeClassifier\n",
    "dtc = DecisionTreeClassifier(class_weight='balanced', max_depth=6)\n",
    "dtc.fit(X_train, y_train)\n",
    "print_metrics(dtc)"
   ]
  },
  {
   "cell_type": "code",
   "execution_count": 140,
   "id": "602a960f",
   "metadata": {
    "scrolled": true
   },
   "outputs": [
    {
     "name": "stdout",
     "output_type": "stream",
     "text": [
      "Train Accuracy =  0.5845098039215686\n",
      "Test Accuracy =  0.5731111111111111\n",
      "\n",
      "Test classification Report: \n",
      "\n",
      "              precision    recall  f1-score   support\n",
      "\n",
      "           0       0.85      0.55      0.67      3505\n",
      "           1       0.29      0.64      0.40       995\n",
      "\n",
      "    accuracy                           0.57      4500\n",
      "   macro avg       0.57      0.60      0.53      4500\n",
      "weighted avg       0.72      0.57      0.61      4500\n",
      "\n"
     ]
    }
   ],
   "source": [
    "# Support Vector machines\n",
    "from sklearn.svm import SVC\n",
    "svc = SVC(class_weight='balanced')\n",
    "svc.fit(X_train, y_train)\n",
    "print_metrics(svc)"
   ]
  },
  {
   "cell_type": "code",
   "execution_count": 141,
   "id": "d8e399be",
   "metadata": {
    "scrolled": true
   },
   "outputs": [
    {
     "name": "stdout",
     "output_type": "stream",
     "text": [
      "Train Accuracy =  0.8172156862745098\n",
      "Test Accuracy =  0.7566666666666667\n",
      "\n",
      "Test classification Report: \n",
      "\n",
      "              precision    recall  f1-score   support\n",
      "\n",
      "           0       0.80      0.92      0.85      3505\n",
      "           1       0.40      0.19      0.26       995\n",
      "\n",
      "    accuracy                           0.76      4500\n",
      "   macro avg       0.60      0.55      0.56      4500\n",
      "weighted avg       0.71      0.76      0.72      4500\n",
      "\n"
     ]
    }
   ],
   "source": [
    "from sklearn.neighbors import KNeighborsClassifier\n",
    "knc = KNeighborsClassifier(n_neighbors=5)\n",
    "knc.fit(X_train, y_train)\n",
    "print_metrics(knc)"
   ]
  },
  {
   "cell_type": "markdown",
   "id": "5efe445a",
   "metadata": {},
   "source": [
    "Observations:\n",
    "\n",
    "1. Class imbalance has a major effect on the model performance. Giving weight to minority class improved the performance considerably\n",
    "\n",
    "2. Distance based models (KNN and SVM) didn't give good results on this dataset. That might be because of high dimensionality and outliers present in the data\n",
    "\n",
    "3. Decision Tree gave the best result with minority class f1-score at 0.53"
   ]
  },
  {
   "cell_type": "markdown",
   "id": "4c1a4522",
   "metadata": {},
   "source": [
    "# Model Training - Iteration 2"
   ]
  },
  {
   "cell_type": "markdown",
   "id": "f6eddfa0",
   "metadata": {},
   "source": [
    "As we saw in the EDA, many of the numeric variables have skew/ are not normally distributed.\n",
    "\n",
    "While the distribution of the data is not an issue (generally) for tree based algorithms, for statistical algos like Logistic regression perform much better with normal data. So we will be applying various transformations to check how the model behaves for each one"
   ]
  },
  {
   "cell_type": "markdown",
   "id": "5559e5eb",
   "metadata": {},
   "source": [
    "Also for handling the outliers, data transformation is necessary. What data transformation should do is reduce the variance in the numeric data and thus removing the negative effect of outliers"
   ]
  },
  {
   "cell_type": "code",
   "execution_count": 142,
   "id": "99d87125",
   "metadata": {},
   "outputs": [],
   "source": [
    "# Transformations : \n",
    "### Age:\n",
    "\n",
    "def plot_transformations(variable):\n",
    "    plt.figure(figsize = (15,10))\n",
    "    sns.displot(df[variable])\n",
    "    try:\n",
    "        log_trans = np.log(df[variable]+1)\n",
    "        sns.displot(log_trans)\n",
    "    except:\n",
    "        print('Log transformation not applicable since there are negative values present in data')\n",
    "    sqrt_trans = np.sqrt(df[variable])\n",
    "    sns.displot(sqrt_trans)\n",
    "    \n",
    "    try:\n",
    "        boxcox_trans = boxcox(df[variable], lmbda = 0)\n",
    "        sns.displot(boxcox_trans)\n",
    "    except:\n",
    "        print('Boxcox transformation not applicable since there are negative values present in data')"
   ]
  },
  {
   "cell_type": "code",
   "execution_count": 143,
   "id": "9d41dd26",
   "metadata": {
    "scrolled": false
   },
   "outputs": [
    {
     "data": {
      "text/plain": [
       "<Figure size 1080x720 with 0 Axes>"
      ]
     },
     "metadata": {},
     "output_type": "display_data"
    },
    {
     "data": {
      "image/png": "[encoded data removed]",
      "text/plain": [
       "<Figure size 360x360 with 1 Axes>"
      ]
     },
     "metadata": {
      "needs_background": "light"
     },
     "output_type": "display_data"
    },
    {
     "data": {
      "image/png": "[encoded data removed]",
      "text/plain": [
       "<Figure size 360x360 with 1 Axes>"
      ]
     },
     "metadata": {
      "needs_background": "light"
     },
     "output_type": "display_data"
    },
    {
     "data": {
      "image/png": "[encoded data removed]",
      "text/plain": [
       "<Figure size 360x360 with 1 Axes>"
      ]
     },
     "metadata": {
      "needs_background": "light"
     },
     "output_type": "display_data"
    },
    {
     "data": {
      "image/png": "[encoded data removed]",
      "text/plain": [
       "<Figure size 360x360 with 1 Axes>"
      ]
     },
     "metadata": {
      "needs_background": "light"
     },
     "output_type": "display_data"
    }
   ],
   "source": [
    "plot_transformations('AGE')"
   ]
  },
  {
   "cell_type": "markdown",
   "id": "5003a3fe",
   "metadata": {},
   "source": [
    "None of the transformations have good effect on the data distribution, so we will leave AGE as it is"
   ]
  },
  {
   "cell_type": "code",
   "execution_count": 144,
   "id": "090d98f4",
   "metadata": {},
   "outputs": [
    {
     "data": {
      "text/plain": [
       "<Figure size 1080x720 with 0 Axes>"
      ]
     },
     "metadata": {},
     "output_type": "display_data"
    },
    {
     "data": {
      "image/png": "[encoded data removed]",
      "text/plain": [
       "<Figure size 360x360 with 1 Axes>"
      ]
     },
     "metadata": {
      "needs_background": "light"
     },
     "output_type": "display_data"
    },
    {
     "data": {
      "image/png": "[encoded data removed]",
      "text/plain": [
       "<Figure size 360x360 with 1 Axes>"
      ]
     },
     "metadata": {
      "needs_background": "light"
     },
     "output_type": "display_data"
    },
    {
     "data": {
      "image/png": "[encoded data removed]",
      "text/plain": [
       "<Figure size 360x360 with 1 Axes>"
      ]
     },
     "metadata": {
      "needs_background": "light"
     },
     "output_type": "display_data"
    },
    {
     "data": {
      "image/png": "[encoded data removed]",
      "text/plain": [
       "<Figure size 360x360 with 1 Axes>"
      ]
     },
     "metadata": {
      "needs_background": "light"
     },
     "output_type": "display_data"
    }
   ],
   "source": [
    "plot_transformations('LIMIT_BAL')"
   ]
  },
  {
   "cell_type": "code",
   "execution_count": 145,
   "id": "5d4479ac",
   "metadata": {},
   "outputs": [
    {
     "name": "stdout",
     "output_type": "stream",
     "text": [
      "Log transformation not applicable since there are negative values present in data\n",
      "Boxcox transformation not applicable since there are negative values present in data\n"
     ]
    },
    {
     "name": "stderr",
     "output_type": "stream",
     "text": [
      "C:\\Users\\kalke\\anaconda3\\lib\\site-packages\\pandas\\core\\arraylike.py:397: RuntimeWarning: divide by zero encountered in log\n",
      "  result = getattr(ufunc, method)(*inputs, **kwargs)\n",
      "C:\\Users\\kalke\\anaconda3\\lib\\site-packages\\pandas\\core\\arraylike.py:397: RuntimeWarning: invalid value encountered in log\n",
      "  result = getattr(ufunc, method)(*inputs, **kwargs)\n",
      "C:\\Users\\kalke\\anaconda3\\lib\\site-packages\\pandas\\core\\arraylike.py:397: RuntimeWarning: invalid value encountered in sqrt\n",
      "  result = getattr(ufunc, method)(*inputs, **kwargs)\n"
     ]
    },
    {
     "data": {
      "text/plain": [
       "<Figure size 1080x720 with 0 Axes>"
      ]
     },
     "metadata": {},
     "output_type": "display_data"
    },
    {
     "data": {
      "image/png": "[encoded data removed]",
      "text/plain": [
       "<Figure size 360x360 with 1 Axes>"
      ]
     },
     "metadata": {
      "needs_background": "light"
     },
     "output_type": "display_data"
    },
    {
     "data": {
      "image/png": "[encoded data removed]",
      "text/plain": [
       "<Figure size 360x360 with 1 Axes>"
      ]
     },
     "metadata": {
      "needs_background": "light"
     },
     "output_type": "display_data"
    },
    {
     "data": {
      "image/png": "[encoded data removed]",
      "text/plain": [
       "<Figure size 360x360 with 1 Axes>"
      ]
     },
     "metadata": {
      "needs_background": "light"
     },
     "output_type": "display_data"
    }
   ],
   "source": [
    "plot_transformations('BILL_AMT1')"
   ]
  },
  {
   "cell_type": "code",
   "execution_count": 146,
   "id": "b54c039a",
   "metadata": {},
   "outputs": [
    {
     "data": {
      "text/plain": [
       "<seaborn.axisgrid.FacetGrid at 0x2c6300335e0>"
      ]
     },
     "execution_count": 146,
     "metadata": {},
     "output_type": "execute_result"
    },
    {
     "data": {
      "image/png": "[encoded data removed]",
      "text/plain": [
       "<Figure size 360x360 with 1 Axes>"
      ]
     },
     "metadata": {
      "needs_background": "light"
     },
     "output_type": "display_data"
    }
   ],
   "source": [
    "bill_amt = np.cbrt(df['BILL_AMT1'])\n",
    "sns.displot(bill_amt)"
   ]
  },
  {
   "cell_type": "markdown",
   "id": "0f821ff3",
   "metadata": {},
   "source": [
    "There are negative values present in the data, so applying cuberoot transformation makes sense. While the transformation doesnt make the data completely normal, the data is now well distributed and centered with a little left skew"
   ]
  },
  {
   "cell_type": "code",
   "execution_count": 147,
   "id": "82b64e69",
   "metadata": {},
   "outputs": [
    {
     "name": "stdout",
     "output_type": "stream",
     "text": [
      "Boxcox transformation not applicable since there are negative values present in data\n"
     ]
    },
    {
     "data": {
      "text/plain": [
       "<Figure size 1080x720 with 0 Axes>"
      ]
     },
     "metadata": {},
     "output_type": "display_data"
    },
    {
     "data": {
      "image/png": "[encoded data removed]",
      "text/plain": [
       "<Figure size 360x360 with 1 Axes>"
      ]
     },
     "metadata": {
      "needs_background": "light"
     },
     "output_type": "display_data"
    },
    {
     "data": {
      "image/png": "[encoded data removed]",
      "text/plain": [
       "<Figure size 360x360 with 1 Axes>"
      ]
     },
     "metadata": {
      "needs_background": "light"
     },
     "output_type": "display_data"
    },
    {
     "data": {
      "image/png": "[encoded data removed]",
      "text/plain": [
       "<Figure size 360x360 with 1 Axes>"
      ]
     },
     "metadata": {
      "needs_background": "light"
     },
     "output_type": "display_data"
    }
   ],
   "source": [
    "plot_transformations('PAY_AMT2')"
   ]
  },
  {
   "cell_type": "code",
   "execution_count": 148,
   "id": "e494f460",
   "metadata": {},
   "outputs": [
    {
     "data": {
      "text/plain": [
       "<seaborn.axisgrid.FacetGrid at 0x2c6300e5d30>"
      ]
     },
     "execution_count": 148,
     "metadata": {},
     "output_type": "execute_result"
    },
    {
     "data": {
      "image/png": "[encoded data removed]",
      "text/plain": [
       "<Figure size 360x360 with 1 Axes>"
      ]
     },
     "metadata": {
      "needs_background": "light"
     },
     "output_type": "display_data"
    }
   ],
   "source": [
    "pay_amt = np.cbrt(df['BILL_AMT6'])\n",
    "sns.displot(pay_amt)"
   ]
  },
  {
   "cell_type": "code",
   "execution_count": 149,
   "id": "ad3ab7bc",
   "metadata": {},
   "outputs": [
    {
     "data": {
      "text/plain": [
       "<seaborn.axisgrid.FacetGrid at 0x2c6001fd970>"
      ]
     },
     "execution_count": 149,
     "metadata": {},
     "output_type": "execute_result"
    },
    {
     "data": {
      "image/png": "[encoded data removed]",
      "text/plain": [
       "<Figure size 360x360 with 1 Axes>"
      ]
     },
     "metadata": {
      "needs_background": "light"
     },
     "output_type": "display_data"
    }
   ],
   "source": [
    "pay_amt = np.cbrt(df['PAY_AMT6'])\n",
    "sns.displot(pay_amt)"
   ]
  },
  {
   "cell_type": "markdown",
   "id": "1cbc2289",
   "metadata": {},
   "source": [
    "For Pay amount too, cuberoot transformation works well, so we will be applying cuberoot transformation to both Bill Amt and Pay Amt"
   ]
  },
  {
   "cell_type": "markdown",
   "id": "8ccee442",
   "metadata": {},
   "source": [
    "We can see various outliers in the data, so data transformation is not working well, so we will be applying the transformation to the dataset where outliers were removed"
   ]
  },
  {
   "cell_type": "code",
   "execution_count": 150,
   "id": "cb108da0",
   "metadata": {},
   "outputs": [],
   "source": [
    "X_train_cp = X_train.copy()\n",
    "X_test_cp = X_test.copy()"
   ]
  },
  {
   "cell_type": "code",
   "execution_count": 151,
   "id": "823a8ca9",
   "metadata": {},
   "outputs": [],
   "source": [
    "#Applying cuberoot transformation\n",
    "X_train[['BILL_AMT1', 'BILL_AMT2','BILL_AMT3',\n",
    "         'BILL_AMT4', 'BILL_AMT5', 'BILL_AMT6']] = np.cbrt(X_train[['BILL_AMT1', 'BILL_AMT2','BILL_AMT3',\n",
    "         'BILL_AMT4', 'BILL_AMT5', 'BILL_AMT6']])\n",
    "#Applying cuberoot transformation\n",
    "X_test[['BILL_AMT1', 'BILL_AMT2','BILL_AMT3',\n",
    "        'BILL_AMT4', 'BILL_AMT5', 'BILL_AMT6']] = np.cbrt(X_test[['BILL_AMT1', 'BILL_AMT2','BILL_AMT3',\n",
    "         'BILL_AMT4', 'BILL_AMT5', 'BILL_AMT6']])"
   ]
  },
  {
   "cell_type": "code",
   "execution_count": 152,
   "id": "40614cfa",
   "metadata": {},
   "outputs": [],
   "source": [
    "X_train[['PAY_AMT1','PAY_AMT2',\n",
    "         'PAY_AMT3', 'PAY_AMT4', 'PAY_AMT5', 'PAY_AMT6']]=np.cbrt(X_train[['PAY_AMT1','PAY_AMT2',\n",
    "         'PAY_AMT3', 'PAY_AMT4', 'PAY_AMT5', 'PAY_AMT6']])\n",
    "X_test[['PAY_AMT1','PAY_AMT2',\n",
    "         'PAY_AMT3', 'PAY_AMT4', 'PAY_AMT5', 'PAY_AMT6']]=np.cbrt(X_test[['PAY_AMT1','PAY_AMT2',\n",
    "         'PAY_AMT3', 'PAY_AMT4', 'PAY_AMT5', 'PAY_AMT6']])"
   ]
  },
  {
   "cell_type": "code",
   "execution_count": 153,
   "id": "68016695",
   "metadata": {
    "scrolled": false
   },
   "outputs": [
    {
     "name": "stdout",
     "output_type": "stream",
     "text": [
      "Train Accuracy =  0.7884705882352941\n",
      "Test Accuracy =  0.7917777777777778\n",
      "\n",
      "Test classification Report: \n",
      "\n",
      "              precision    recall  f1-score   support\n",
      "\n",
      "           0       0.86      0.87      0.87      3505\n",
      "           1       0.53      0.52      0.53       995\n",
      "\n",
      "    accuracy                           0.79      4500\n",
      "   macro avg       0.70      0.70      0.70      4500\n",
      "weighted avg       0.79      0.79      0.79      4500\n",
      "\n"
     ]
    }
   ],
   "source": [
    "from sklearn.tree import DecisionTreeClassifier\n",
    "dtc = DecisionTreeClassifier(class_weight='balanced',max_depth=6)\n",
    "dtc.fit(X_train, y_train)\n",
    "print_metrics(dtc)"
   ]
  },
  {
   "cell_type": "markdown",
   "id": "ef03f72f",
   "metadata": {},
   "source": [
    "The data transformation has no effect on the decision tree model performance, but for Logistic regression, the model performance falls to 0\n",
    "Now we will be looking at feature importance, look at the features deemed important by the model and maybe removing the feature considered not important by the model"
   ]
  },
  {
   "cell_type": "markdown",
   "id": "7e1f8dc3",
   "metadata": {},
   "source": [
    "# Feature Importance"
   ]
  },
  {
   "cell_type": "code",
   "execution_count": 155,
   "id": "d2efd32a",
   "metadata": {},
   "outputs": [
    {
     "name": "stdout",
     "output_type": "stream",
     "text": [
      "AGE  :  3.9220035145990105e-10\n",
      "BILL_AMT6  :  2.643840434975819e-10\n",
      "BILL_AMT4  :  2.554925214930947e-10\n",
      "BILL_AMT5  :  2.522195933464753e-10\n",
      "BILL_AMT3  :  2.5060562485538844e-10\n",
      "BILL_AMT2  :  2.4750131187077196e-10\n",
      "BILL_AMT1  :  2.2354711601275687e-10\n",
      "PAY_2_2  :  2.1303126661126575e-11\n",
      "PAY_0_2  :  2.0305358420560015e-11\n",
      "PAY_3_2  :  1.8036510347240658e-11\n",
      "PAY_4_2  :  1.5141991069762055e-11\n",
      "PAY_5_2  :  1.3635007169304842e-11\n",
      "PAY_6_2  :  1.2803236279235703e-11\n",
      "MARRIAGE_1  :  7.923523251833415e-12\n",
      "PAY_0_1  :  7.814978643491837e-12\n",
      "EDUCATION_2  :  7.442661222572428e-12\n",
      "EDUCATION_3  :  3.699449137517311e-12\n",
      "PAY_0_3  :  2.7920278297743493e-12\n",
      "PAY_2_3  :  2.103487339588909e-12\n",
      "SEX  :  1.919459805722922e-12\n",
      "MARRIAGE_2  :  1.7655278992807746e-12\n",
      "PAY_3_3  :  1.3034462379367008e-12\n",
      "PAY_4_3  :  1.1230272126176922e-12\n",
      "PAY_5_3  :  1.0931607803564632e-12\n",
      "PAY_6_3  :  1.0374597218689256e-12\n",
      "PAY_4_7  :  5.912640897362139e-13\n",
      "PAY_5_7  :  5.9122632838959e-13\n",
      "PAY_0_4  :  5.478667499912592e-13\n",
      "PAY_4_4  :  5.051522103870681e-13\n",
      "PAY_3_4  :  4.761727999426017e-13\n",
      "PAY_6_7  :  4.5397216877273674e-13\n",
      "PAY_2_4  :  4.531570064899858e-13\n",
      "PAY_5_4  :  4.2062393360683293e-13\n",
      "PAY_6_-2  :  3.6106673860620683e-13\n",
      "MARRIAGE_3  :  3.012695737296023e-13\n",
      "PAY_6_4  :  2.8379838888389143e-13\n",
      "PAY_3_7  :  2.662472874960957e-13\n",
      "PAY_5_-2  :  2.171091874373849e-13\n",
      "PAY_6_6  :  1.7026162829211487e-13\n",
      "PAY_2_5  :  1.6700364153383595e-13\n",
      "PAY_4_5  :  1.3900477419730946e-13\n",
      "PAY_3_5  :  1.270009752194206e-13\n",
      "PAY_3_6  :  1.1337649268270009e-13\n",
      "PAY_0_5  :  1.1287335688214425e-13\n",
      "PAY_2_6  :  1.1150047986746989e-13\n",
      "PAY_5_5  :  1.0812567925536075e-13\n",
      "PAY_2_7  :  9.934436346676007e-14\n",
      "PAY_0_7  :  9.632545531379623e-14\n",
      "PAY_6_5  :  8.669055839366511e-14\n",
      "PAY_0_8  :  8.525472463630202e-14\n",
      "PAY_0_6  :  5.3531091499782914e-14\n",
      "PAY_6_8  :  2.858124430903636e-14\n",
      "PAY_3_8  :  2.8121768077632428e-14\n",
      "PAY_5_6  :  2.4689983953658057e-14\n",
      "PAY_5_8  :  1.4089638861853273e-14\n",
      "PAY_4_1  :  1.2183345984913671e-14\n",
      "PAY_4_8  :  1.0218126788354582e-14\n",
      "PAY_3_1  :  8.871023443286369e-15\n",
      "PAY_4_6  :  6.74857520543243e-15\n",
      "PAY_2_8  :  -3.887839289883206e-15\n",
      "PAY_2_1  :  -1.2790940996552803e-14\n",
      "PAY_4_-2  :  -8.43514358562585e-14\n",
      "EDUCATION_1  :  -2.8225849309541285e-13\n",
      "PAY_3_-2  :  -4.095482416566889e-13\n",
      "PAY_2_-2  :  -5.230696369825693e-13\n",
      "PAY_0_-2  :  -2.5525521414151764e-12\n",
      "PAY_6_0  :  -2.9925381529227803e-12\n",
      "PAY_5_0  :  -3.191623169906165e-12\n",
      "PAY_4_0  :  -4.3070488583880105e-12\n",
      "PAY_3_0  :  -6.339496870055539e-12\n",
      "PAY_2_0  :  -1.0254384861471016e-11\n",
      "PAY_0_0  :  -1.6547345240757776e-11\n",
      "PAY_AMT5  :  -5.965234348600635e-11\n",
      "PAY_AMT6  :  -6.792175692626366e-11\n",
      "PAY_AMT4  :  -7.75827708146948e-11\n",
      "PAY_AMT3  :  -9.127200783972393e-11\n",
      "PAY_AMT2  :  -1.143399034439097e-10\n",
      "PAY_AMT1  :  -1.3098501761777476e-10\n",
      "LIMIT_BAL  :  -1.2253116340755503e-06\n"
     ]
    }
   ],
   "source": [
    "coef = lr.coef_[0]\n",
    "idx_sorted = np.argsort(coef)[::-1]\n",
    "for i in idx_sorted:\n",
    "    print(X_train.columns[i], \" : \", coef[i])"
   ]
  },
  {
   "cell_type": "code",
   "execution_count": 156,
   "id": "36156bd0",
   "metadata": {
    "scrolled": false
   },
   "outputs": [
    {
     "name": "stdout",
     "output_type": "stream",
     "text": [
      "PAY_0_2  :  0.49053299005145445\n",
      "PAY_2_2  :  0.2023456959258474\n",
      "PAY_AMT2  :  0.1158768436647667\n",
      "PAY_4_2  :  0.04045854143496178\n",
      "LIMIT_BAL  :  0.030191703967468227\n",
      "PAY_2_3  :  0.0280237164692501\n",
      "PAY_AMT4  :  0.020118650366806913\n",
      "BILL_AMT1  :  0.014384191446962555\n",
      "PAY_0_3  :  0.011561754520581613\n",
      "PAY_6_-2  :  0.009646105756971826\n",
      "PAY_0_1  :  0.008310590397919267\n",
      "PAY_5_2  :  0.005671940402011425\n",
      "PAY_AMT5  :  0.005184105728801421\n",
      "AGE  :  0.002695652722630206\n",
      "PAY_AMT3  :  0.002595053607099976\n",
      "PAY_AMT6  :  0.0022240358113594233\n",
      "BILL_AMT3  :  0.0019000864065391366\n",
      "BILL_AMT6  :  0.0018637568138341262\n",
      "BILL_AMT4  :  0.0015536911163494674\n",
      "BILL_AMT2  :  0.0014442069363154466\n",
      "PAY_6_0  :  0.0011582629259759118\n",
      "SEX  :  0.000893571607674933\n",
      "PAY_4_0  :  0.0007347501145136822\n",
      "MARRIAGE_3  :  0.0006301018039039421\n",
      "EDUCATION_2  :  0.0\n",
      "PAY_0_5  :  0.0\n",
      "PAY_2_1  :  0.0\n",
      "PAY_2_0  :  0.0\n",
      "PAY_2_-2  :  0.0\n",
      "PAY_0_8  :  0.0\n",
      "PAY_0_7  :  0.0\n",
      "PAY_0_6  :  0.0\n",
      "EDUCATION_1  :  0.0\n",
      "PAY_0_4  :  0.0\n",
      "PAY_2_4  :  0.0\n",
      "BILL_AMT5  :  0.0\n",
      "PAY_AMT1  :  0.0\n",
      "PAY_0_0  :  0.0\n",
      "PAY_0_-2  :  0.0\n",
      "MARRIAGE_2  :  0.0\n",
      "MARRIAGE_1  :  0.0\n",
      "EDUCATION_3  :  0.0\n",
      "PAY_6_8  :  0.0\n",
      "PAY_2_5  :  0.0\n",
      "PAY_2_6  :  0.0\n",
      "PAY_4_7  :  0.0\n",
      "PAY_4_8  :  0.0\n",
      "PAY_5_-2  :  0.0\n",
      "PAY_5_0  :  0.0\n",
      "PAY_5_3  :  0.0\n",
      "PAY_5_4  :  0.0\n",
      "PAY_5_5  :  0.0\n",
      "PAY_5_6  :  0.0\n",
      "PAY_5_7  :  0.0\n",
      "PAY_5_8  :  0.0\n",
      "PAY_6_2  :  0.0\n",
      "PAY_6_3  :  0.0\n",
      "PAY_6_4  :  0.0\n",
      "PAY_6_5  :  0.0\n",
      "PAY_6_6  :  0.0\n",
      "PAY_4_6  :  0.0\n",
      "PAY_4_5  :  0.0\n",
      "PAY_4_4  :  0.0\n",
      "PAY_3_3  :  0.0\n",
      "PAY_6_7  :  0.0\n",
      "PAY_2_8  :  0.0\n",
      "PAY_3_-2  :  0.0\n",
      "PAY_3_0  :  0.0\n",
      "PAY_3_1  :  0.0\n",
      "PAY_3_2  :  0.0\n",
      "PAY_3_4  :  0.0\n",
      "PAY_4_3  :  0.0\n",
      "PAY_3_5  :  0.0\n",
      "PAY_3_6  :  0.0\n",
      "PAY_3_7  :  0.0\n",
      "PAY_3_8  :  0.0\n",
      "PAY_4_-2  :  0.0\n",
      "PAY_4_1  :  0.0\n",
      "PAY_2_7  :  0.0\n"
     ]
    }
   ],
   "source": [
    "feat_imp = dtc.feature_importances_\n",
    "idx = np.argsort(feat_imp)[::-1]\n",
    "for i in idx:\n",
    "    print(X_train.columns[i], \" : \", feat_imp[i])"
   ]
  },
  {
   "cell_type": "markdown",
   "id": "47b18928",
   "metadata": {},
   "source": [
    "From the above scores, we can see : Pay flags, Pay Amount, Limit Balance, Bill Amount, Age, are important for the model to predict, while SEX, MARRIAGE, EDUCATION seems not to be that important"
   ]
  },
  {
   "cell_type": "code",
   "execution_count": 170,
   "id": "17b1e0bf",
   "metadata": {},
   "outputs": [
    {
     "data": {
      "text/plain": [
       "<AxesSubplot:xlabel='MARRIAGE', ylabel='count'>"
      ]
     },
     "execution_count": 170,
     "metadata": {},
     "output_type": "execute_result"
    },
    {
     "data": {
      "image/png": "[encoded data removed]",
      "text/plain": [
       "<Figure size 432x288 with 1 Axes>"
      ]
     },
     "metadata": {
      "needs_background": "light"
     },
     "output_type": "display_data"
    }
   ],
   "source": [
    "sns.countplot(x = 'MARRIAGE', data = df_outliers_removed, hue = 'default.payment.next.month')"
   ]
  },
  {
   "cell_type": "code",
   "execution_count": 171,
   "id": "6317bb39",
   "metadata": {},
   "outputs": [
    {
     "data": {
      "text/plain": [
       "<AxesSubplot:xlabel='SEX', ylabel='count'>"
      ]
     },
     "execution_count": 171,
     "metadata": {},
     "output_type": "execute_result"
    },
    {
     "data": {
      "image/png": "[encoded data removed]",
      "text/plain": [
       "<Figure size 432x288 with 1 Axes>"
      ]
     },
     "metadata": {
      "needs_background": "light"
     },
     "output_type": "display_data"
    }
   ],
   "source": [
    "sns.countplot(x = 'SEX', data = df_outliers_removed, hue = 'default.payment.next.month')"
   ]
  },
  {
   "cell_type": "code",
   "execution_count": 172,
   "id": "d0292394",
   "metadata": {},
   "outputs": [
    {
     "data": {
      "text/plain": [
       "<AxesSubplot:xlabel='SEX', ylabel='count'>"
      ]
     },
     "execution_count": 172,
     "metadata": {},
     "output_type": "execute_result"
    },
    {
     "data": {
      "image/png": "[encoded data removed]",
      "text/plain": [
       "<Figure size 432x288 with 1 Axes>"
      ]
     },
     "metadata": {
      "needs_background": "light"
     },
     "output_type": "display_data"
    }
   ],
   "source": [
    "sns.countplot(x = 'SEX', data = df_outliers_removed, hue = 'default.payment.next.month')"
   ]
  },
  {
   "cell_type": "markdown",
   "id": "5127e3d1",
   "metadata": {},
   "source": [
    "So we can see from the above visualization as well as from the model feature importance, SEX, MARRIAGE are not relevant in predicting the target. But eduction does makes sense as higher the education, better is the job and chances of paying back the credit card bill.\n",
    "\n",
    "So we will be removing SEX and MARRIAGE for now, and come back to education"
   ]
  },
  {
   "cell_type": "code",
   "execution_count": 170,
   "id": "9c2c9c43",
   "metadata": {},
   "outputs": [],
   "source": [
    "X_train = X_train_cp.copy()\n",
    "X_test = X_test_cp.copy()"
   ]
  },
  {
   "cell_type": "code",
   "execution_count": 171,
   "id": "333ebf32",
   "metadata": {},
   "outputs": [],
   "source": [
    "remove_vars = [i for i in X_train.columns if i.startswith('MARRIAGE')]\n",
    "remove_vars.append('SEX')\n",
    "X_train.drop(remove_vars, axis = 1, inplace = True)\n",
    "X_test.drop(remove_vars, axis=1, inplace = True)"
   ]
  },
  {
   "cell_type": "code",
   "execution_count": 172,
   "id": "0b5a5588",
   "metadata": {},
   "outputs": [
    {
     "name": "stdout",
     "output_type": "stream",
     "text": [
      "Train Accuracy =  0.5546666666666666\n",
      "Test Accuracy =  0.5631111111111111\n",
      "\n",
      "Test classification Report: \n",
      "\n",
      "              precision    recall  f1-score   support\n",
      "\n",
      "           0       0.87      0.52      0.65      3505\n",
      "           1       0.30      0.72      0.42       995\n",
      "\n",
      "    accuracy                           0.56      4500\n",
      "   macro avg       0.58      0.62      0.54      4500\n",
      "weighted avg       0.74      0.56      0.60      4500\n",
      "\n"
     ]
    },
    {
     "name": "stderr",
     "output_type": "stream",
     "text": [
      "C:\\Users\\kalke\\anaconda3\\lib\\site-packages\\sklearn\\base.py:443: UserWarning: X has feature names, but LogisticRegression was fitted without feature names\n",
      "  warnings.warn(\n",
      "C:\\Users\\kalke\\anaconda3\\lib\\site-packages\\sklearn\\base.py:443: UserWarning: X has feature names, but LogisticRegression was fitted without feature names\n",
      "  warnings.warn(\n"
     ]
    }
   ],
   "source": [
    "# Logistic Regression\n",
    "from sklearn.linear_model import LogisticRegression\n",
    "lr = LogisticRegression(class_weight='balanced', max_iter=1500)                        # Since we have imbalance in the dataset\n",
    "lr.fit(X_train.values, y_train)\n",
    "print_metrics(lr)"
   ]
  },
  {
   "cell_type": "code",
   "execution_count": 174,
   "id": "92fdd8c8",
   "metadata": {
    "scrolled": false
   },
   "outputs": [
    {
     "name": "stdout",
     "output_type": "stream",
     "text": [
      "Train Accuracy =  0.7881176470588235\n",
      "Test Accuracy =  0.7915555555555556\n",
      "\n",
      "Test classification Report: \n",
      "\n",
      "              precision    recall  f1-score   support\n",
      "\n",
      "           0       0.86      0.87      0.87      3505\n",
      "           1       0.53      0.52      0.53       995\n",
      "\n",
      "    accuracy                           0.79      4500\n",
      "   macro avg       0.70      0.70      0.70      4500\n",
      "weighted avg       0.79      0.79      0.79      4500\n",
      "\n"
     ]
    }
   ],
   "source": [
    "from sklearn.tree import DecisionTreeClassifier\n",
    "dtc = DecisionTreeClassifier(class_weight='balanced',max_depth=6)\n",
    "dtc.fit(X_train, y_train)\n",
    "print_metrics(dtc)"
   ]
  },
  {
   "cell_type": "markdown",
   "id": "23042b8a",
   "metadata": {},
   "source": [
    "Even after dropping SEX and MARRIAGE, there is no change in metrics. So we can say the variables were not influencing the prediction"
   ]
  },
  {
   "cell_type": "code",
   "execution_count": 179,
   "id": "a5ca3cb1",
   "metadata": {},
   "outputs": [
    {
     "name": "stdout",
     "output_type": "stream",
     "text": [
      "PAY_0_2  :  0.45799045762777363\n",
      "PAY_2_2  :  0.21138253572305518\n",
      "PAY_AMT2  :  0.08342538584504879\n",
      "PAY_4_2  :  0.08029396003485297\n",
      "LIMIT_BAL  :  0.04157772868916631\n",
      "BILL_AMT2  :  0.0319736652712207\n",
      "PAY_AMT1  :  0.02377329967363047\n",
      "PAY_0_3  :  0.015292175639732052\n",
      "BILL_AMT1  :  0.007324228110352653\n",
      "BILL_AMT4  :  0.006318781962458263\n",
      "PAY_2_3  :  0.006136441451123524\n",
      "BILL_AMT5  :  0.005293038520256931\n",
      "PAY_AMT6  :  0.004602352278796815\n",
      "PAY_0_0  :  0.004091098052517472\n",
      "BILL_AMT3  :  0.004065092814887396\n",
      "PAY_6_2  :  0.003809048850094984\n",
      "AGE  :  0.002450183428439397\n",
      "PAY_AMT4  :  0.0018960910774811636\n",
      "PAY_3_2  :  0.0018203141510724538\n",
      "EDUCATION_6  :  0.001624484949378223\n",
      "PAY_AMT5  :  0.0014746876938271315\n",
      "PAY_5_2  :  0.0014049593943122594\n",
      "PAY_4_0  :  0.001304594916555244\n",
      "PAY_5_0  :  0.000675393843965903\n",
      "EDUCATION_2  :  0.0\n",
      "BILL_AMT6  :  0.0\n",
      "PAY_2_1  :  0.0\n",
      "PAY_2_0  :  0.0\n",
      "PAY_2_-2  :  0.0\n",
      "PAY_0_8  :  0.0\n",
      "PAY_0_7  :  0.0\n",
      "PAY_0_6  :  0.0\n",
      "PAY_AMT3  :  0.0\n",
      "PAY_0_5  :  0.0\n",
      "PAY_0_4  :  0.0\n",
      "EDUCATION_4  :  0.0\n",
      "PAY_0_1  :  0.0\n",
      "PAY_0_-2  :  0.0\n",
      "EDUCATION_1  :  0.0\n",
      "EDUCATION_5  :  0.0\n",
      "EDUCATION_3  :  0.0\n",
      "PAY_6_8  :  0.0\n",
      "PAY_2_4  :  0.0\n",
      "PAY_5_7  :  0.0\n",
      "PAY_4_8  :  0.0\n",
      "PAY_5_-2  :  0.0\n",
      "PAY_5_3  :  0.0\n",
      "PAY_5_4  :  0.0\n",
      "PAY_5_5  :  0.0\n",
      "PAY_5_6  :  0.0\n",
      "PAY_5_8  :  0.0\n",
      "PAY_4_6  :  0.0\n",
      "PAY_6_-2  :  0.0\n",
      "PAY_6_0  :  0.0\n",
      "PAY_6_3  :  0.0\n",
      "PAY_6_4  :  0.0\n",
      "PAY_6_5  :  0.0\n",
      "PAY_6_6  :  0.0\n",
      "PAY_4_7  :  0.0\n",
      "PAY_4_5  :  0.0\n",
      "PAY_2_5  :  0.0\n",
      "PAY_3_3  :  0.0\n",
      "PAY_2_6  :  0.0\n",
      "PAY_6_7  :  0.0\n",
      "PAY_2_8  :  0.0\n",
      "PAY_3_-2  :  0.0\n",
      "PAY_3_0  :  0.0\n",
      "PAY_3_1  :  0.0\n",
      "PAY_3_4  :  0.0\n",
      "PAY_4_4  :  0.0\n",
      "PAY_3_5  :  0.0\n",
      "PAY_3_6  :  0.0\n",
      "PAY_3_7  :  0.0\n",
      "PAY_3_8  :  0.0\n",
      "PAY_4_-2  :  0.0\n",
      "PAY_4_3  :  0.0\n",
      "PAY_2_7  :  0.0\n"
     ]
    }
   ],
   "source": [
    "feat_imp = dtc.feature_importances_\n",
    "idx = np.argsort(feat_imp)[::-1]\n",
    "for i in idx:\n",
    "    print(X_train.columns[i], \" : \", feat_imp[i])"
   ]
  },
  {
   "cell_type": "markdown",
   "id": "80a21f0e",
   "metadata": {},
   "source": [
    "# Scaling the features.\n",
    "\n",
    "Since the features are not in the same scale, it might cause the model to assign unequal weights to the features. For ex: Limit_bal and Pay_0 have very different scales. So we will scale the features using standard scalar, which will bring all the variables to same scale having mean 0 and std-dev 1.\n",
    "\n",
    "Again scaling will benefit the logistic regression model, but wont have much effect on Decision trees"
   ]
  },
  {
   "cell_type": "code",
   "execution_count": 175,
   "id": "b151ed82",
   "metadata": {},
   "outputs": [],
   "source": [
    "from sklearn.preprocessing import StandardScaler\n",
    "ss = StandardScaler()\n",
    "X_train_sc = ss.fit_transform(X_train)\n",
    "X_test_sc =  ss.fit_transform(X_test)"
   ]
  },
  {
   "cell_type": "code",
   "execution_count": 176,
   "id": "b5a5fe8d",
   "metadata": {},
   "outputs": [],
   "source": [
    "from sklearn.metrics import accuracy_score, classification_report \n",
    "def print_metrics_sc(model):\n",
    "    \"\"\"This function will print the Scaled train and test accuracy, and the Test classification report\"\"\"\n",
    "    y_train_pred = model.predict(X_train_sc)\n",
    "    y_test_pred = model.predict(X_test_sc)\n",
    "    print('Train Accuracy = ', accuracy_score(y_train, y_train_pred))\n",
    "    print('Test Accuracy = ', accuracy_score(y_test, y_test_pred))\n",
    "    print()\n",
    "    print('Test classification Report: ')\n",
    "    print()\n",
    "    print(classification_report(y_test, y_test_pred))"
   ]
  },
  {
   "cell_type": "code",
   "execution_count": 177,
   "id": "16fe3439",
   "metadata": {},
   "outputs": [
    {
     "name": "stdout",
     "output_type": "stream",
     "text": [
      "Train Accuracy =  0.7783529411764706\n",
      "Test Accuracy =  0.7837777777777778\n",
      "\n",
      "Test classification Report: \n",
      "\n",
      "              precision    recall  f1-score   support\n",
      "\n",
      "           0       0.88      0.84      0.86      3505\n",
      "           1       0.51      0.58      0.54       995\n",
      "\n",
      "    accuracy                           0.78      4500\n",
      "   macro avg       0.69      0.71      0.70      4500\n",
      "weighted avg       0.80      0.78      0.79      4500\n",
      "\n"
     ]
    }
   ],
   "source": [
    "# Logistic Regression\n",
    "from sklearn.linear_model import LogisticRegression\n",
    "lr = LogisticRegression(class_weight='balanced')                        # Since we have imbalance in the dataset\n",
    "lr.fit(X_train_sc, y_train)\n",
    "print_metrics_sc(lr)"
   ]
  },
  {
   "cell_type": "markdown",
   "id": "a6a0d3be",
   "metadata": {},
   "source": [
    "We can see sudden increase in the f1-score for logistic regression since regression works well when the features are on same scale"
   ]
  },
  {
   "cell_type": "code",
   "execution_count": 178,
   "id": "eb58a3c8",
   "metadata": {},
   "outputs": [
    {
     "name": "stdout",
     "output_type": "stream",
     "text": [
      "Train Accuracy =  0.7881176470588235\n",
      "Test Accuracy =  0.7868888888888889\n",
      "\n",
      "Test classification Report: \n",
      "\n",
      "              precision    recall  f1-score   support\n",
      "\n",
      "           0       0.86      0.87      0.86      3505\n",
      "           1       0.52      0.50      0.51       995\n",
      "\n",
      "    accuracy                           0.79      4500\n",
      "   macro avg       0.69      0.68      0.69      4500\n",
      "weighted avg       0.78      0.79      0.79      4500\n",
      "\n"
     ]
    }
   ],
   "source": [
    "from sklearn.tree import DecisionTreeClassifier\n",
    "dtc = DecisionTreeClassifier(class_weight='balanced',max_depth=6)\n",
    "dtc.fit(X_train_sc, y_train)\n",
    "print_metrics_sc(dtc)"
   ]
  },
  {
   "cell_type": "markdown",
   "id": "d75d7ce6",
   "metadata": {},
   "source": [
    "There is not much change in Decision Trees as they do not much affected by the scale of the features. But we can see immediate increase in the f1-score of logistic regression, which is very much affected by the scale "
   ]
  },
  {
   "cell_type": "markdown",
   "id": "1e3115a3",
   "metadata": {},
   "source": [
    "# Hyperparameter tuning Logistic regression & Decision Trees"
   ]
  },
  {
   "cell_type": "code",
   "execution_count": 179,
   "id": "503ce709",
   "metadata": {},
   "outputs": [],
   "source": [
    "from sklearn.model_selection import GridSearchCV, RepeatedStratifiedKFold"
   ]
  },
  {
   "cell_type": "code",
   "execution_count": 180,
   "id": "dd9a3bda",
   "metadata": {},
   "outputs": [],
   "source": [
    "solvers = ['newton-cg', 'lbfgs', 'liblinear']\n",
    "penalty = ['l2']\n",
    "c_values = [100, 10, 1.0, 0.1, 0.01]\n",
    "lr = LogisticRegression(max_iter = 1500, class_weight='balanced')\n",
    "# define grid search\n",
    "grid = dict(solver=solvers,penalty=penalty,C=c_values)\n",
    "cv = RepeatedStratifiedKFold(n_splits=5, n_repeats=3, random_state=1)\n",
    "grid_search = GridSearchCV(estimator=lr, param_grid=grid, n_jobs=-1, cv=cv, \n",
    "                           scoring='f1')\n",
    "grid_result = grid_search.fit(X_train_sc, y_train)"
   ]
  },
  {
   "cell_type": "code",
   "execution_count": 181,
   "id": "8995e458",
   "metadata": {},
   "outputs": [
    {
     "name": "stdout",
     "output_type": "stream",
     "text": [
      "Train Accuracy =  0.779607843137255\n",
      "Test Accuracy =  0.7853333333333333\n",
      "\n",
      "Test classification Report: \n",
      "\n",
      "              precision    recall  f1-score   support\n",
      "\n",
      "           0       0.88      0.84      0.86      3505\n",
      "           1       0.51      0.58      0.54       995\n",
      "\n",
      "    accuracy                           0.79      4500\n",
      "   macro avg       0.69      0.71      0.70      4500\n",
      "weighted avg       0.80      0.79      0.79      4500\n",
      "\n"
     ]
    }
   ],
   "source": [
    "lr_best = grid_search.best_estimator_\n",
    "print_metrics_sc(lr_best)"
   ]
  },
  {
   "cell_type": "code",
   "execution_count": 210,
   "id": "a286722c",
   "metadata": {},
   "outputs": [
    {
     "data": {
      "text/plain": [
       "{'C': 0.01, 'penalty': 'l2', 'solver': 'liblinear'}"
      ]
     },
     "execution_count": 210,
     "metadata": {},
     "output_type": "execute_result"
    }
   ],
   "source": [
    "grid_search.best_params_"
   ]
  },
  {
   "cell_type": "code",
   "execution_count": 182,
   "id": "9d1f094e",
   "metadata": {},
   "outputs": [
    {
     "name": "stdout",
     "output_type": "stream",
     "text": [
      "Fitting 15 folds for each of 80 candidates, totalling 1200 fits\n"
     ]
    },
    {
     "data": {
      "text/html": [
       "<style>#sk-container-id-1 {color: black;background-color: white;}#sk-container-id-1 pre{padding: 0;}#sk-container-id-1 div.sk-toggleable {background-color: white;}#sk-container-id-1 label.sk-toggleable__label {cursor: pointer;display: block;width: 100%;margin-bottom: 0;padding: 0.3em;box-sizing: border-box;text-align: center;}#sk-container-id-1 label.sk-toggleable__label-arrow:before {content: \"▸\";float: left;margin-right: 0.25em;color: #696969;}#sk-container-id-1 label.sk-toggleable__label-arrow:hover:before {color: black;}#sk-container-id-1 div.sk-estimator:hover label.sk-toggleable__label-arrow:before {color: black;}#sk-container-id-1 div.sk-toggleable__content {max-height: 0;max-width: 0;overflow: hidden;text-align: left;background-color: #f0f8ff;}#sk-container-id-1 div.sk-toggleable__content pre {margin: 0.2em;color: black;border-radius: 0.25em;background-color: #f0f8ff;}#sk-container-id-1 input.sk-toggleable__control:checked~div.sk-toggleable__content {max-height: 200px;max-width: 100%;overflow: auto;}#sk-container-id-1 input.sk-toggleable__control:checked~label.sk-toggleable__label-arrow:before {content: \"▾\";}#sk-container-id-1 div.sk-estimator input.sk-toggleable__control:checked~label.sk-toggleable__label {background-color: #d4ebff;}#sk-container-id-1 div.sk-label input.sk-toggleable__control:checked~label.sk-toggleable__label {background-color: #d4ebff;}#sk-container-id-1 input.sk-hidden--visually {border: 0;clip: rect(1px 1px 1px 1px);clip: rect(1px, 1px, 1px, 1px);height: 1px;margin: -1px;overflow: hidden;padding: 0;position: absolute;width: 1px;}#sk-container-id-1 div.sk-estimator {font-family: monospace;background-color: #f0f8ff;border: 1px dotted black;border-radius: 0.25em;box-sizing: border-box;margin-bottom: 0.5em;}#sk-container-id-1 div.sk-estimator:hover {background-color: #d4ebff;}#sk-container-id-1 div.sk-parallel-item::after {content: \"\";width: 100%;border-bottom: 1px solid gray;flex-grow: 1;}#sk-container-id-1 div.sk-label:hover label.sk-toggleable__label {background-color: #d4ebff;}#sk-container-id-1 div.sk-serial::before {content: \"\";position: absolute;border-left: 1px solid gray;box-sizing: border-box;top: 0;bottom: 0;left: 50%;z-index: 0;}#sk-container-id-1 div.sk-serial {display: flex;flex-direction: column;align-items: center;background-color: white;padding-right: 0.2em;padding-left: 0.2em;position: relative;}#sk-container-id-1 div.sk-item {position: relative;z-index: 1;}#sk-container-id-1 div.sk-parallel {display: flex;align-items: stretch;justify-content: center;background-color: white;position: relative;}#sk-container-id-1 div.sk-item::before, #sk-container-id-1 div.sk-parallel-item::before {content: \"\";position: absolute;border-left: 1px solid gray;box-sizing: border-box;top: 0;bottom: 0;left: 50%;z-index: -1;}#sk-container-id-1 div.sk-parallel-item {display: flex;flex-direction: column;z-index: 1;position: relative;background-color: white;}#sk-container-id-1 div.sk-parallel-item:first-child::after {align-self: flex-end;width: 50%;}#sk-container-id-1 div.sk-parallel-item:last-child::after {align-self: flex-start;width: 50%;}#sk-container-id-1 div.sk-parallel-item:only-child::after {width: 0;}#sk-container-id-1 div.sk-dashed-wrapped {border: 1px dashed gray;margin: 0 0.4em 0.5em 0.4em;box-sizing: border-box;padding-bottom: 0.4em;background-color: white;}#sk-container-id-1 div.sk-label label {font-family: monospace;font-weight: bold;display: inline-block;line-height: 1.2em;}#sk-container-id-1 div.sk-label-container {text-align: center;}#sk-container-id-1 div.sk-container {/* jupyter's `normalize.less` sets `[hidden] { display: none; }` but bootstrap.min.css set `[hidden] { display: none !important; }` so we also need the `!important` here to be able to override the default hidden behavior on the sphinx rendered scikit-learn.org. See: https://github.com/scikit-learn/scikit-learn/issues/21755 */display: inline-block !important;position: relative;}#sk-container-id-1 div.sk-text-repr-fallback {display: none;}</style><div id=\"sk-container-id-1\" class=\"sk-top-container\"><div class=\"sk-text-repr-fallback\"><pre>GridSearchCV(cv=RepeatedStratifiedKFold(n_repeats=3, n_splits=5, random_state=1),\n",
       "             estimator=DecisionTreeClassifier(class_weight=&#x27;balanced&#x27;),\n",
       "             n_jobs=-1,\n",
       "             param_grid={&#x27;criterion&#x27;: [&#x27;gini&#x27;, &#x27;entropy&#x27;],\n",
       "                         &#x27;max_depth&#x27;: [2, 3, 4, 5, 6, 10, 12, 15],\n",
       "                         &#x27;min_samples_leaf&#x27;: [5, 10, 20, 50, 100]},\n",
       "             scoring=&#x27;f1&#x27;, verbose=1)</pre><b>In a Jupyter environment, please rerun this cell to show the HTML representation or trust the notebook. <br />On GitHub, the HTML representation is unable to render, please try loading this page with nbviewer.org.</b></div><div class=\"sk-container\" hidden><div class=\"sk-item sk-dashed-wrapped\"><div class=\"sk-label-container\"><div class=\"sk-label sk-toggleable\"><input class=\"sk-toggleable__control sk-hidden--visually\" id=\"sk-estimator-id-1\" type=\"checkbox\" ><label for=\"sk-estimator-id-1\" class=\"sk-toggleable__label sk-toggleable__label-arrow\">GridSearchCV</label><div class=\"sk-toggleable__content\"><pre>GridSearchCV(cv=RepeatedStratifiedKFold(n_repeats=3, n_splits=5, random_state=1),\n",
       "             estimator=DecisionTreeClassifier(class_weight=&#x27;balanced&#x27;),\n",
       "             n_jobs=-1,\n",
       "             param_grid={&#x27;criterion&#x27;: [&#x27;gini&#x27;, &#x27;entropy&#x27;],\n",
       "                         &#x27;max_depth&#x27;: [2, 3, 4, 5, 6, 10, 12, 15],\n",
       "                         &#x27;min_samples_leaf&#x27;: [5, 10, 20, 50, 100]},\n",
       "             scoring=&#x27;f1&#x27;, verbose=1)</pre></div></div></div><div class=\"sk-parallel\"><div class=\"sk-parallel-item\"><div class=\"sk-item\"><div class=\"sk-label-container\"><div class=\"sk-label sk-toggleable\"><input class=\"sk-toggleable__control sk-hidden--visually\" id=\"sk-estimator-id-2\" type=\"checkbox\" ><label for=\"sk-estimator-id-2\" class=\"sk-toggleable__label sk-toggleable__label-arrow\">estimator: DecisionTreeClassifier</label><div class=\"sk-toggleable__content\"><pre>DecisionTreeClassifier(class_weight=&#x27;balanced&#x27;)</pre></div></div></div><div class=\"sk-serial\"><div class=\"sk-item\"><div class=\"sk-estimator sk-toggleable\"><input class=\"sk-toggleable__control sk-hidden--visually\" id=\"sk-estimator-id-3\" type=\"checkbox\" ><label for=\"sk-estimator-id-3\" class=\"sk-toggleable__label sk-toggleable__label-arrow\">DecisionTreeClassifier</label><div class=\"sk-toggleable__content\"><pre>DecisionTreeClassifier(class_weight=&#x27;balanced&#x27;)</pre></div></div></div></div></div></div></div></div></div></div>"
      ],
      "text/plain": [
       "GridSearchCV(cv=RepeatedStratifiedKFold(n_repeats=3, n_splits=5, random_state=1),\n",
       "             estimator=DecisionTreeClassifier(class_weight='balanced'),\n",
       "             n_jobs=-1,\n",
       "             param_grid={'criterion': ['gini', 'entropy'],\n",
       "                         'max_depth': [2, 3, 4, 5, 6, 10, 12, 15],\n",
       "                         'min_samples_leaf': [5, 10, 20, 50, 100]},\n",
       "             scoring='f1', verbose=1)"
      ]
     },
     "execution_count": 182,
     "metadata": {},
     "output_type": "execute_result"
    }
   ],
   "source": [
    "params = {\n",
    "    'max_depth': [2, 3, 4, 5, 6, 10, 12, 15],\n",
    "    'min_samples_leaf': [5, 10, 20, 50, 100],\n",
    "    'criterion': [\"gini\", \"entropy\"]\n",
    "}\n",
    "dtc = DecisionTreeClassifier(class_weight='balanced')\n",
    "grid_search_dt = GridSearchCV(estimator=dtc, \n",
    "                           param_grid=params, \n",
    "                           cv=cv, n_jobs=-1, verbose=1, scoring = \"f1\")\n",
    "grid_search_dt.fit(X_train, y_train)"
   ]
  },
  {
   "cell_type": "code",
   "execution_count": 183,
   "id": "dbcaf05a",
   "metadata": {},
   "outputs": [
    {
     "data": {
      "text/plain": [
       "0.5108501722331399"
      ]
     },
     "execution_count": 183,
     "metadata": {},
     "output_type": "execute_result"
    }
   ],
   "source": [
    "grid_search_dt.best_score_"
   ]
  },
  {
   "cell_type": "code",
   "execution_count": 184,
   "id": "294dde31",
   "metadata": {},
   "outputs": [
    {
     "name": "stdout",
     "output_type": "stream",
     "text": [
      "Train Accuracy =  0.783843137254902\n",
      "Test Accuracy =  0.7902222222222223\n",
      "\n",
      "Test classification Report: \n",
      "\n",
      "              precision    recall  f1-score   support\n",
      "\n",
      "           0       0.87      0.86      0.87      3505\n",
      "           1       0.53      0.53      0.53       995\n",
      "\n",
      "    accuracy                           0.79      4500\n",
      "   macro avg       0.70      0.70      0.70      4500\n",
      "weighted avg       0.79      0.79      0.79      4500\n",
      "\n"
     ]
    }
   ],
   "source": [
    "dtc_best = grid_search_dt.best_estimator_\n",
    "print_metrics(dtc_best)"
   ]
  },
  {
   "cell_type": "markdown",
   "id": "4d70b8cd",
   "metadata": {},
   "source": [
    "# Trying advance algorithms\n",
    "\n",
    "1. Random Forest (Bagging algo)\n",
    "2. XGBoost (Boosting algo)\n"
   ]
  },
  {
   "cell_type": "code",
   "execution_count": 185,
   "id": "2cf1df98",
   "metadata": {},
   "outputs": [
    {
     "name": "stdout",
     "output_type": "stream",
     "text": [
      "Train Accuracy =  0.7769019607843137\n",
      "Test Accuracy =  0.7822222222222223\n",
      "\n",
      "Test classification Report: \n",
      "\n",
      "              precision    recall  f1-score   support\n",
      "\n",
      "           0       0.88      0.83      0.86      3505\n",
      "           1       0.51      0.61      0.55       995\n",
      "\n",
      "    accuracy                           0.78      4500\n",
      "   macro avg       0.69      0.72      0.70      4500\n",
      "weighted avg       0.80      0.78      0.79      4500\n",
      "\n"
     ]
    }
   ],
   "source": [
    "from sklearn.ensemble import RandomForestClassifier\n",
    "rfc = RandomForestClassifier(max_depth=6, class_weight='balanced')\n",
    "rfc.fit(X_train, y_train)\n",
    "print_metrics(rfc)"
   ]
  },
  {
   "cell_type": "code",
   "execution_count": 186,
   "id": "5a117285",
   "metadata": {},
   "outputs": [
    {
     "name": "stdout",
     "output_type": "stream",
     "text": [
      "Train Accuracy =  0.866313725490196\n",
      "Test Accuracy =  0.7835555555555556\n",
      "\n",
      "Test classification Report: \n",
      "\n",
      "              precision    recall  f1-score   support\n",
      "\n",
      "           0       0.88      0.84      0.86      3505\n",
      "           1       0.51      0.58      0.54       995\n",
      "\n",
      "    accuracy                           0.78      4500\n",
      "   macro avg       0.69      0.71      0.70      4500\n",
      "weighted avg       0.79      0.78      0.79      4500\n",
      "\n"
     ]
    }
   ],
   "source": [
    "from xgboost import XGBClassifier\n",
    "xgbc = XGBClassifier(max_depth = 6, scale_pos_weight= 3)\n",
    "xgbc.fit(X_train.values, y_train)\n",
    "print_metrics(xgbc)"
   ]
  },
  {
   "cell_type": "markdown",
   "id": "5db26635",
   "metadata": {},
   "source": [
    "So we get the best f1-score for positive class using XGBoost classifier, and also good accuracy while prediction. So we will be selecting this model moving forward"
   ]
  },
  {
   "cell_type": "code",
   "execution_count": 79,
   "id": "3c3d8401",
   "metadata": {},
   "outputs": [
    {
     "data": {
      "text/plain": [
       "<AxesSubplot:>"
      ]
     },
     "execution_count": 79,
     "metadata": {},
     "output_type": "execute_result"
    },
    {
     "data": {
      "image/png": "[encoded data removed]",
      "text/plain": [
       "<Figure size 1440x720 with 1 Axes>"
      ]
     },
     "metadata": {
      "needs_background": "light"
     },
     "output_type": "display_data"
    }
   ],
   "source": [
    "feature_imp = xgbc.get_booster().get_score(importance_type='weight')\n",
    "keys = X_train.columns\n",
    "values = feature_imp.values()\n",
    "\n",
    "data = pd.DataFrame(data=values, index=keys, columns=[\"score\"]).sort_values(by = \"score\", ascending=False)\n",
    "data.plot(kind='barh', figsize = (20,10)) ## plot top 40 features"
   ]
  },
  {
   "cell_type": "code",
   "execution_count": 187,
   "id": "f9570b37",
   "metadata": {},
   "outputs": [
    {
     "name": "stdout",
     "output_type": "stream",
     "text": [
      "Fitting 2 folds for each of 324 candidates, totalling 648 fits\n",
      "Best score: 0.5423106676981353\n",
      "Best params: {'booster': 'gbtree', 'learning_rate': 0.05, 'n_estimators': 100, 'reg_alpha': 0.5, 'reg_lambda': 5, 'scale_pos_weight': 3}\n"
     ]
    }
   ],
   "source": [
    "params = {\n",
    "    'n_estimators': [100, 200],\n",
    "    'learning_rate': [0.01,0.05,0.1],\n",
    "    'booster': ['gbtree', 'gblinear'],\n",
    "    'reg_alpha': [0, 0.5, 1],\n",
    "    'reg_lambda': [0.5, 1, 5],\n",
    "    'scale_pos_weight' : [2, 2.5, 3]\n",
    "}\n",
    "\n",
    "cv = RepeatedStratifiedKFold(n_splits=2, n_repeats=1, random_state=1)\n",
    "\n",
    "xgbc = XGBClassifier()\n",
    "gs2 = GridSearchCV(xgbc, params, n_jobs=-1, cv=cv, scoring='f1', verbose = 2)\n",
    "gs2.fit(X_train.values, y_train)\n",
    "\n",
    "print('Best score:', gs2.best_score_)\n",
    "print('Best params:', gs2.best_params_)"
   ]
  },
  {
   "cell_type": "code",
   "execution_count": 188,
   "id": "ab19acb8",
   "metadata": {},
   "outputs": [
    {
     "name": "stdout",
     "output_type": "stream",
     "text": [
      "Train Accuracy =  0.8014509803921569\n",
      "Test Accuracy =  0.7935555555555556\n",
      "\n",
      "Test classification Report: \n",
      "\n",
      "              precision    recall  f1-score   support\n",
      "\n",
      "           0       0.88      0.85      0.87      3505\n",
      "           1       0.53      0.59      0.56       995\n",
      "\n",
      "    accuracy                           0.79      4500\n",
      "   macro avg       0.70      0.72      0.71      4500\n",
      "weighted avg       0.80      0.79      0.80      4500\n",
      "\n"
     ]
    }
   ],
   "source": [
    "xgbc_best = gs2.best_estimator_\n",
    "print_metrics(xgbc_best)"
   ]
  },
  {
   "cell_type": "markdown",
   "id": "1cf7608b",
   "metadata": {},
   "source": [
    "# Imbalance Handling"
   ]
  },
  {
   "cell_type": "markdown",
   "id": "95ae6e5f",
   "metadata": {},
   "source": [
    "Imbalance in dataset will have negative effect on the model, where the model will overfit on the majority class and fail to give good results for minority class.\n",
    "\n",
    "There are various ways to handle class imbalance. We will be trying 2 methods:\n",
    "\n",
    "1. Random Oversampling -  In this method, the minority class will be sampled with replacement till the number of samples for both minority and majority classes become same.\n",
    "   \n",
    "2. SMOTE - Here, synthetic copies of the minority class instance will be produced using K nearest neighbors classifiers\n"
   ]
  },
  {
   "cell_type": "code",
   "execution_count": 221,
   "id": "3855b872",
   "metadata": {},
   "outputs": [],
   "source": [
    "# Random Over Sampling:\n",
    "from imblearn.over_sampling import RandomOverSampler\n",
    "ros = RandomOverSampler()\n",
    "\n",
    "X_train_resampled, y_train_resampled= ros.fit_resample(X_train, y_train)"
   ]
  },
  {
   "cell_type": "code",
   "execution_count": 222,
   "id": "d66d542c",
   "metadata": {},
   "outputs": [
    {
     "name": "stdout",
     "output_type": "stream",
     "text": [
      "Train Accuracy =  0.7659945832079447\n",
      "Test Accuracy =  0.760654619843164\n",
      "\n",
      "Test classification Report: \n",
      "\n",
      "              precision    recall  f1-score   support\n",
      "\n",
      "           0       0.86      0.81      0.83      2176\n",
      "           1       0.53      0.63      0.57       757\n",
      "\n",
      "    accuracy                           0.76      2933\n",
      "   macro avg       0.70      0.72      0.70      2933\n",
      "weighted avg       0.78      0.76      0.77      2933\n",
      "\n"
     ]
    }
   ],
   "source": [
    "from xgboost import XGBClassifier\n",
    "xgbc = XGBClassifier(booster =  'gbtree', \n",
    "                     learning_rate =  0.01, n_estimators =  200, reg_alpha= 0.5,\n",
    "                     reg_lambda= 5)                                 # We removed the extra weight on positive class\n",
    "xgbc.fit(X_train_resampled, y_train_resampled)\n",
    "print_metrics(xgbc)"
   ]
  },
  {
   "cell_type": "markdown",
   "id": "2d2dd3e9",
   "metadata": {},
   "source": [
    "This did increase the f1-score, but by just 1%"
   ]
  },
  {
   "cell_type": "code",
   "execution_count": 223,
   "id": "7993e386",
   "metadata": {},
   "outputs": [],
   "source": [
    "# SMOTE\n",
    "from imblearn.over_sampling import SMOTE\n",
    "smote = SMOTE()\n",
    "\n",
    "X_train_resampled, y_train_resampled= smote.fit_resample(X_train, y_train)"
   ]
  },
  {
   "cell_type": "code",
   "execution_count": 224,
   "id": "d5ba0bd0",
   "metadata": {},
   "outputs": [
    {
     "name": "stdout",
     "output_type": "stream",
     "text": [
      "Train Accuracy =  0.7483599157387902\n",
      "Test Accuracy =  0.733037845209683\n",
      "\n",
      "Test classification Report: \n",
      "\n",
      "              precision    recall  f1-score   support\n",
      "\n",
      "           0       0.85      0.77      0.81      2176\n",
      "           1       0.49      0.62      0.54       757\n",
      "\n",
      "    accuracy                           0.73      2933\n",
      "   macro avg       0.67      0.69      0.68      2933\n",
      "weighted avg       0.76      0.73      0.74      2933\n",
      "\n"
     ]
    }
   ],
   "source": [
    "from xgboost import XGBClassifier\n",
    "xgbc = XGBClassifier(booster =  'gbtree', \n",
    "                     learning_rate =  0.01, n_estimators =  200, reg_alpha= 0.5,\n",
    "                     reg_lambda= 5)\n",
    "xgbc.fit(X_train_resampled, y_train_resampled)\n",
    "print_metrics(xgbc)"
   ]
  },
  {
   "cell_type": "markdown",
   "id": "a692848e",
   "metadata": {},
   "source": [
    "SMOTE reduced the metrics, so wont be using this method"
   ]
  },
  {
   "cell_type": "markdown",
   "id": "75580a25",
   "metadata": {},
   "source": [
    "# Final Model.\n",
    "After comparing with all the models, we can conclude that XGBoost classifier gives the best results."
   ]
  },
  {
   "cell_type": "markdown",
   "id": "c8ef876a",
   "metadata": {},
   "source": [
    "So we will be using XGBoost classifier with the foll params:\n",
    "'booster': 'gbtree', 'learning_rate': 0.01,\n",
    "'n_estimators': 200, 'reg_alpha': 0.5,\n",
    "'reg_lambda': 5, 'scale_pos_weight': 3\n",
    "\n",
    "The columns to be considered:\n",
    "LIMIT_BAL', 'AGE', 'PAY_0', 'PAY_2', 'PAY_3', 'PAY_4', 'PAY_5',\n",
    "'PAY_6', 'BILL_AMT1', 'BILL_AMT2', 'BILL_AMT3', 'BILL_AMT4',\n",
    "'BILL_AMT5', 'BILL_AMT6', 'PAY_AMT1', 'PAY_AMT2', 'PAY_AMT3',\n",
    "'PAY_AMT4', 'PAY_AMT5', 'PAY_AMT6'\n",
    "\n",
    "The foll transformations to be applied:\n",
    "cuberoot transformation to all BILL_AMT and PAY_AMT columns\n",
    "\n",
    "The foll columns need to be one hot encoded : Pay flags 0-6\n",
    "\n",
    "After all the above process was done, for training the model, we randomly sampled the minority class and were able to get final f1-score of 0.57"
   ]
  },
  {
   "cell_type": "code",
   "execution_count": null,
   "id": "ca548b78",
   "metadata": {},
   "outputs": [],
   "source": []
  }
 ],
 "metadata": {
  "kernelspec": {
   "display_name": "Python 3 (ipykernel)",
   "language": "python",
   "name": "python3"
  },
  "language_info": {
   "codemirror_mode": {
    "name": "ipython",
    "version": 3
   },
   "file_extension": ".py",
   "mimetype": "text/x-python",
   "name": "python",
   "nbconvert_exporter": "python",
   "pygments_lexer": "ipython3",
   "version": "3.9.7"
  }
 },
 "nbformat": 4,
 "nbformat_minor": 5
}
